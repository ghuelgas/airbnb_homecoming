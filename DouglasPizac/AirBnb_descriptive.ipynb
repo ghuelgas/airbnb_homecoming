{
 "cells": [
  {
   "cell_type": "markdown",
   "id": "referenced-northern",
   "metadata": {},
   "source": [
    "# Airbnb Descriptive"
   ]
  },
  {
   "cell_type": "markdown",
   "id": "selected-bangkok",
   "metadata": {},
   "source": [
    "<p>Now that we have the predictive model complete, we now look to address the qualities that most affect the experience of Airbnb guests. \n",
    "Namely, these include quality features, bedrooms, bathrooms and seasonal features that enchance/detract from one's stay.</p>"
   ]
  },
  {
   "cell_type": "code",
   "execution_count": 1,
   "id": "significant-transcription",
   "metadata": {},
   "outputs": [],
   "source": [
    "import pandas as pd\n",
    "import numpy as np\n",
    "import matplotlib.pyplot as plt\n",
    "import seaborn as sns\n",
    "prices = pd.read_csv('../../data/Ames_Housing_Price_Data.csv',index_col = 0)\n"
   ]
  },
  {
   "cell_type": "code",
   "execution_count": 2,
   "id": "motivated-catch",
   "metadata": {},
   "outputs": [],
   "source": [
    "#Engineering new features relevant to Airbnb experience\n",
    "prices['YrSinceUpdate'] = 2010-prices['YearRemodAdd']\n",
    "prices.drop('YearRemodAdd',axis = 1,inplace = True)\n",
    "prices['Total_FullBaths'] = prices['BsmtFullBath'] + prices['FullBath']\n",
    "prices['Total_HalfBaths'] = prices['BsmtHalfBath'] + prices['HalfBath']\n",
    "prices.drop(['BsmtFullBath','FullBath','BsmtHalfBath','HalfBath'],axis = 1, inplace = True)"
   ]
  },
  {
   "cell_type": "code",
   "execution_count": 3,
   "id": "complete-prediction",
   "metadata": {},
   "outputs": [
    {
     "data": {
      "text/html": [
       "<div>\n",
       "<style scoped>\n",
       "    .dataframe tbody tr th:only-of-type {\n",
       "        vertical-align: middle;\n",
       "    }\n",
       "\n",
       "    .dataframe tbody tr th {\n",
       "        vertical-align: top;\n",
       "    }\n",
       "\n",
       "    .dataframe thead th {\n",
       "        text-align: right;\n",
       "    }\n",
       "</style>\n",
       "<table border=\"1\" class=\"dataframe\">\n",
       "  <thead>\n",
       "    <tr style=\"text-align: right;\">\n",
       "      <th></th>\n",
       "      <th>PID</th>\n",
       "      <th>SalePrice</th>\n",
       "      <th>GrLivArea</th>\n",
       "      <th>BldgType</th>\n",
       "      <th>HouseStyle</th>\n",
       "      <th>OverallQual</th>\n",
       "      <th>OverallCond</th>\n",
       "      <th>YearBuilt</th>\n",
       "      <th>YrSinceUpdate</th>\n",
       "      <th>ExterQual</th>\n",
       "      <th>...</th>\n",
       "      <th>BsmtFinType2</th>\n",
       "      <th>BedroomAbvGr</th>\n",
       "      <th>KitchenQual</th>\n",
       "      <th>GarageQual</th>\n",
       "      <th>GarageCond</th>\n",
       "      <th>PoolQC</th>\n",
       "      <th>MiscFeature</th>\n",
       "      <th>Functional</th>\n",
       "      <th>Neighborhood</th>\n",
       "      <th>Fence</th>\n",
       "    </tr>\n",
       "  </thead>\n",
       "  <tbody>\n",
       "    <tr>\n",
       "      <th>1</th>\n",
       "      <td>909176150</td>\n",
       "      <td>126000</td>\n",
       "      <td>856</td>\n",
       "      <td>1Fam</td>\n",
       "      <td>1Story</td>\n",
       "      <td>6</td>\n",
       "      <td>6</td>\n",
       "      <td>1939</td>\n",
       "      <td>60</td>\n",
       "      <td>TA</td>\n",
       "      <td>...</td>\n",
       "      <td>Unf</td>\n",
       "      <td>2</td>\n",
       "      <td>TA</td>\n",
       "      <td>TA</td>\n",
       "      <td>TA</td>\n",
       "      <td>NaN</td>\n",
       "      <td>NaN</td>\n",
       "      <td>Typ</td>\n",
       "      <td>SWISU</td>\n",
       "      <td>NaN</td>\n",
       "    </tr>\n",
       "    <tr>\n",
       "      <th>2</th>\n",
       "      <td>905476230</td>\n",
       "      <td>139500</td>\n",
       "      <td>1049</td>\n",
       "      <td>TwnhsE</td>\n",
       "      <td>1Story</td>\n",
       "      <td>5</td>\n",
       "      <td>5</td>\n",
       "      <td>1984</td>\n",
       "      <td>26</td>\n",
       "      <td>Gd</td>\n",
       "      <td>...</td>\n",
       "      <td>ALQ</td>\n",
       "      <td>2</td>\n",
       "      <td>Gd</td>\n",
       "      <td>TA</td>\n",
       "      <td>TA</td>\n",
       "      <td>NaN</td>\n",
       "      <td>NaN</td>\n",
       "      <td>Typ</td>\n",
       "      <td>Edwards</td>\n",
       "      <td>NaN</td>\n",
       "    </tr>\n",
       "    <tr>\n",
       "      <th>3</th>\n",
       "      <td>911128020</td>\n",
       "      <td>124900</td>\n",
       "      <td>1001</td>\n",
       "      <td>1Fam</td>\n",
       "      <td>1Story</td>\n",
       "      <td>5</td>\n",
       "      <td>9</td>\n",
       "      <td>1930</td>\n",
       "      <td>3</td>\n",
       "      <td>Gd</td>\n",
       "      <td>...</td>\n",
       "      <td>Unf</td>\n",
       "      <td>2</td>\n",
       "      <td>Gd</td>\n",
       "      <td>TA</td>\n",
       "      <td>Po</td>\n",
       "      <td>NaN</td>\n",
       "      <td>NaN</td>\n",
       "      <td>Typ</td>\n",
       "      <td>IDOTRR</td>\n",
       "      <td>NaN</td>\n",
       "    </tr>\n",
       "    <tr>\n",
       "      <th>4</th>\n",
       "      <td>535377150</td>\n",
       "      <td>114000</td>\n",
       "      <td>1039</td>\n",
       "      <td>1Fam</td>\n",
       "      <td>2Story</td>\n",
       "      <td>4</td>\n",
       "      <td>8</td>\n",
       "      <td>1900</td>\n",
       "      <td>7</td>\n",
       "      <td>Gd</td>\n",
       "      <td>...</td>\n",
       "      <td>Unf</td>\n",
       "      <td>2</td>\n",
       "      <td>TA</td>\n",
       "      <td>TA</td>\n",
       "      <td>TA</td>\n",
       "      <td>NaN</td>\n",
       "      <td>NaN</td>\n",
       "      <td>Typ</td>\n",
       "      <td>OldTown</td>\n",
       "      <td>NaN</td>\n",
       "    </tr>\n",
       "    <tr>\n",
       "      <th>5</th>\n",
       "      <td>534177230</td>\n",
       "      <td>227000</td>\n",
       "      <td>1665</td>\n",
       "      <td>1Fam</td>\n",
       "      <td>2Story</td>\n",
       "      <td>8</td>\n",
       "      <td>6</td>\n",
       "      <td>2001</td>\n",
       "      <td>9</td>\n",
       "      <td>Gd</td>\n",
       "      <td>...</td>\n",
       "      <td>Unf</td>\n",
       "      <td>3</td>\n",
       "      <td>Gd</td>\n",
       "      <td>TA</td>\n",
       "      <td>TA</td>\n",
       "      <td>NaN</td>\n",
       "      <td>NaN</td>\n",
       "      <td>Typ</td>\n",
       "      <td>NWAmes</td>\n",
       "      <td>NaN</td>\n",
       "    </tr>\n",
       "    <tr>\n",
       "      <th>...</th>\n",
       "      <td>...</td>\n",
       "      <td>...</td>\n",
       "      <td>...</td>\n",
       "      <td>...</td>\n",
       "      <td>...</td>\n",
       "      <td>...</td>\n",
       "      <td>...</td>\n",
       "      <td>...</td>\n",
       "      <td>...</td>\n",
       "      <td>...</td>\n",
       "      <td>...</td>\n",
       "      <td>...</td>\n",
       "      <td>...</td>\n",
       "      <td>...</td>\n",
       "      <td>...</td>\n",
       "      <td>...</td>\n",
       "      <td>...</td>\n",
       "      <td>...</td>\n",
       "      <td>...</td>\n",
       "      <td>...</td>\n",
       "      <td>...</td>\n",
       "    </tr>\n",
       "    <tr>\n",
       "      <th>759</th>\n",
       "      <td>903205040</td>\n",
       "      <td>121000</td>\n",
       "      <td>952</td>\n",
       "      <td>1Fam</td>\n",
       "      <td>1.5Unf</td>\n",
       "      <td>6</td>\n",
       "      <td>6</td>\n",
       "      <td>1916</td>\n",
       "      <td>60</td>\n",
       "      <td>TA</td>\n",
       "      <td>...</td>\n",
       "      <td>Unf</td>\n",
       "      <td>2</td>\n",
       "      <td>Fa</td>\n",
       "      <td>Fa</td>\n",
       "      <td>Po</td>\n",
       "      <td>NaN</td>\n",
       "      <td>NaN</td>\n",
       "      <td>Typ</td>\n",
       "      <td>BrkSide</td>\n",
       "      <td>NaN</td>\n",
       "    </tr>\n",
       "    <tr>\n",
       "      <th>760</th>\n",
       "      <td>905402060</td>\n",
       "      <td>139600</td>\n",
       "      <td>1733</td>\n",
       "      <td>1Fam</td>\n",
       "      <td>1Story</td>\n",
       "      <td>3</td>\n",
       "      <td>5</td>\n",
       "      <td>1955</td>\n",
       "      <td>55</td>\n",
       "      <td>TA</td>\n",
       "      <td>...</td>\n",
       "      <td>NaN</td>\n",
       "      <td>4</td>\n",
       "      <td>TA</td>\n",
       "      <td>TA</td>\n",
       "      <td>TA</td>\n",
       "      <td>NaN</td>\n",
       "      <td>NaN</td>\n",
       "      <td>Min2</td>\n",
       "      <td>Edwards</td>\n",
       "      <td>NaN</td>\n",
       "    </tr>\n",
       "    <tr>\n",
       "      <th>761</th>\n",
       "      <td>909275030</td>\n",
       "      <td>145000</td>\n",
       "      <td>2002</td>\n",
       "      <td>Duplex</td>\n",
       "      <td>2Story</td>\n",
       "      <td>5</td>\n",
       "      <td>6</td>\n",
       "      <td>1949</td>\n",
       "      <td>60</td>\n",
       "      <td>TA</td>\n",
       "      <td>...</td>\n",
       "      <td>Unf</td>\n",
       "      <td>4</td>\n",
       "      <td>TA</td>\n",
       "      <td>TA</td>\n",
       "      <td>TA</td>\n",
       "      <td>NaN</td>\n",
       "      <td>NaN</td>\n",
       "      <td>Typ</td>\n",
       "      <td>Crawfor</td>\n",
       "      <td>NaN</td>\n",
       "    </tr>\n",
       "    <tr>\n",
       "      <th>762</th>\n",
       "      <td>907192040</td>\n",
       "      <td>217500</td>\n",
       "      <td>1842</td>\n",
       "      <td>1Fam</td>\n",
       "      <td>2Story</td>\n",
       "      <td>7</td>\n",
       "      <td>5</td>\n",
       "      <td>2000</td>\n",
       "      <td>10</td>\n",
       "      <td>Gd</td>\n",
       "      <td>...</td>\n",
       "      <td>Unf</td>\n",
       "      <td>3</td>\n",
       "      <td>Gd</td>\n",
       "      <td>TA</td>\n",
       "      <td>TA</td>\n",
       "      <td>NaN</td>\n",
       "      <td>NaN</td>\n",
       "      <td>Typ</td>\n",
       "      <td>CollgCr</td>\n",
       "      <td>NaN</td>\n",
       "    </tr>\n",
       "    <tr>\n",
       "      <th>763</th>\n",
       "      <td>906223180</td>\n",
       "      <td>215000</td>\n",
       "      <td>1911</td>\n",
       "      <td>1Fam</td>\n",
       "      <td>2Story</td>\n",
       "      <td>8</td>\n",
       "      <td>5</td>\n",
       "      <td>1993</td>\n",
       "      <td>16</td>\n",
       "      <td>Gd</td>\n",
       "      <td>...</td>\n",
       "      <td>Unf</td>\n",
       "      <td>3</td>\n",
       "      <td>Gd</td>\n",
       "      <td>TA</td>\n",
       "      <td>TA</td>\n",
       "      <td>NaN</td>\n",
       "      <td>NaN</td>\n",
       "      <td>Typ</td>\n",
       "      <td>SawyerW</td>\n",
       "      <td>NaN</td>\n",
       "    </tr>\n",
       "  </tbody>\n",
       "</table>\n",
       "<p>2580 rows × 29 columns</p>\n",
       "</div>"
      ],
      "text/plain": [
       "           PID  SalePrice  GrLivArea BldgType HouseStyle  OverallQual  \\\n",
       "1    909176150     126000        856     1Fam     1Story            6   \n",
       "2    905476230     139500       1049   TwnhsE     1Story            5   \n",
       "3    911128020     124900       1001     1Fam     1Story            5   \n",
       "4    535377150     114000       1039     1Fam     2Story            4   \n",
       "5    534177230     227000       1665     1Fam     2Story            8   \n",
       "..         ...        ...        ...      ...        ...          ...   \n",
       "759  903205040     121000        952     1Fam     1.5Unf            6   \n",
       "760  905402060     139600       1733     1Fam     1Story            3   \n",
       "761  909275030     145000       2002   Duplex     2Story            5   \n",
       "762  907192040     217500       1842     1Fam     2Story            7   \n",
       "763  906223180     215000       1911     1Fam     2Story            8   \n",
       "\n",
       "     OverallCond  YearBuilt  YrSinceUpdate ExterQual  ... BsmtFinType2  \\\n",
       "1              6       1939             60        TA  ...          Unf   \n",
       "2              5       1984             26        Gd  ...          ALQ   \n",
       "3              9       1930              3        Gd  ...          Unf   \n",
       "4              8       1900              7        Gd  ...          Unf   \n",
       "5              6       2001              9        Gd  ...          Unf   \n",
       "..           ...        ...            ...       ...  ...          ...   \n",
       "759            6       1916             60        TA  ...          Unf   \n",
       "760            5       1955             55        TA  ...          NaN   \n",
       "761            6       1949             60        TA  ...          Unf   \n",
       "762            5       2000             10        Gd  ...          Unf   \n",
       "763            5       1993             16        Gd  ...          Unf   \n",
       "\n",
       "    BedroomAbvGr KitchenQual GarageQual GarageCond  PoolQC  MiscFeature  \\\n",
       "1              2          TA         TA         TA     NaN          NaN   \n",
       "2              2          Gd         TA         TA     NaN          NaN   \n",
       "3              2          Gd         TA         Po     NaN          NaN   \n",
       "4              2          TA         TA         TA     NaN          NaN   \n",
       "5              3          Gd         TA         TA     NaN          NaN   \n",
       "..           ...         ...        ...        ...     ...          ...   \n",
       "759            2          Fa         Fa         Po     NaN          NaN   \n",
       "760            4          TA         TA         TA     NaN          NaN   \n",
       "761            4          TA         TA         TA     NaN          NaN   \n",
       "762            3          Gd         TA         TA     NaN          NaN   \n",
       "763            3          Gd         TA         TA     NaN          NaN   \n",
       "\n",
       "    Functional Neighborhood Fence  \n",
       "1          Typ        SWISU   NaN  \n",
       "2          Typ      Edwards   NaN  \n",
       "3          Typ       IDOTRR   NaN  \n",
       "4          Typ      OldTown   NaN  \n",
       "5          Typ       NWAmes   NaN  \n",
       "..         ...          ...   ...  \n",
       "759        Typ      BrkSide   NaN  \n",
       "760       Min2      Edwards   NaN  \n",
       "761        Typ      Crawfor   NaN  \n",
       "762        Typ      CollgCr   NaN  \n",
       "763        Typ      SawyerW   NaN  \n",
       "\n",
       "[2580 rows x 29 columns]"
      ]
     },
     "execution_count": 3,
     "metadata": {},
     "output_type": "execute_result"
    }
   ],
   "source": [
    "airbnb_cols = ['PID','SalePrice','GrLivArea','BldgType','HouseStyle','OverallQual','OverallCond',\n",
    "              'YearBuilt','YrSinceUpdate','ExterQual','ExterCond','BsmtQual','BsmtCond',\n",
    "               'HeatingQC','CentralAir','Total_FullBaths','Total_HalfBaths','FireplaceQu',\n",
    "              'BsmtFinType1','BsmtFinType2','BedroomAbvGr','KitchenQual','GarageQual','GarageCond',\n",
    "               'PoolQC','MiscFeature','Functional',\"Neighborhood\",'Fence']\n",
    "\n",
    "\n",
    "prices = prices[airbnb_cols]\n",
    "prices"
   ]
  },
  {
   "cell_type": "markdown",
   "id": "subject-entrance",
   "metadata": {},
   "source": [
    "### Ensure brand quality by filtering out lower quality houses"
   ]
  },
  {
   "cell_type": "code",
   "execution_count": 4,
   "id": "touched-gabriel",
   "metadata": {},
   "outputs": [],
   "source": [
    "prices = prices.loc[(prices.BsmtFinType1!= 'LwQ') & (prices.BsmtFinType1 !='Unf')]\n",
    "prices = prices.loc[(prices.BsmtFinType2!= 'LwQ') & (prices.BsmtFinType2 !='Unf')]\n",
    "prices = prices.loc[(prices.Functional == 'Typ')&(prices.OverallQual >=5)&(prices.OverallCond >=5)]\n",
    "prices.drop('Functional',axis = 1, inplace = True)"
   ]
  },
  {
   "cell_type": "markdown",
   "id": "viral-court",
   "metadata": {},
   "source": [
    "# Converting quality/condition categoricals to numerical"
   ]
  },
  {
   "cell_type": "code",
   "execution_count": 5,
   "id": "processed-revision",
   "metadata": {},
   "outputs": [],
   "source": [
    "def ordinal_scale(Series):\n",
    "    '''Returns a pandas Series where quality scores are converted to integers\n",
    "    \n",
    "    Args:\n",
    "    \n",
    "    Series: a pandas Series of categorical quality scores'''\n",
    "    return prices[Series].replace({'Po':None,'Fa':1,'TA':2,'Gd':3,'Ex':4})\n",
    "\n",
    "prices['KitchenQual'] = ordinal_scale('KitchenQual')\n",
    "prices['ExterQual'] = ordinal_scale('ExterQual')\n",
    "prices['ExterCond'] = ordinal_scale('ExterCond')\n",
    "prices['HeatingQC'] = ordinal_scale('HeatingQC')"
   ]
  },
  {
   "cell_type": "code",
   "execution_count": 6,
   "id": "controlled-certificate",
   "metadata": {
    "scrolled": true
   },
   "outputs": [],
   "source": [
    "# prices['BsmtCond'].value_counts()"
   ]
  },
  {
   "cell_type": "code",
   "execution_count": 7,
   "id": "encouraging-medium",
   "metadata": {},
   "outputs": [],
   "source": [
    "def switch_ordinals(Series):\n",
    "    '''\n",
    "    Returns a pandas series replacing null values with DNE (Does Not Exist) so they can be imputed.\n",
    "    \n",
    "    Args:\n",
    "    \n",
    "\n",
    "    Series: str, column name in the pandas dataframe.\n",
    "    '''\n",
    "    prices[Series].fillna('DNE',inplace = True)\n",
    "    return prices[Series]\n",
    "    \n",
    "impute_cols = ['BsmtQual','BsmtCond','FireplaceQu',\n",
    "               'BsmtFinType1','BsmtFinType2','GarageQual','GarageCond','PoolQC']\n",
    "\n",
    "\n",
    "\n",
    "\n",
    "for i in impute_cols:\n",
    "    prices[i] = switch_ordinals(i)\n",
    "\n",
    "for i in impute_cols:\n",
    "    prices[i].replace({'Po':None,'DNE':1,'Fa':2,'TA':3,'Gd':4,'Ex':5},inplace = True)\n",
    "    \n",
    "prices.update(prices[['Fence','MiscFeature']].fillna('None'))\n",
    "\n"
   ]
  },
  {
   "cell_type": "code",
   "execution_count": 8,
   "id": "narrative-royalty",
   "metadata": {},
   "outputs": [
    {
     "data": {
      "text/plain": [
       "Index(['PID', 'SalePrice', 'GrLivArea', 'BldgType', 'HouseStyle',\n",
       "       'OverallQual', 'OverallCond', 'YearBuilt', 'YrSinceUpdate', 'ExterQual',\n",
       "       'ExterCond', 'BsmtQual', 'BsmtCond', 'HeatingQC', 'CentralAir',\n",
       "       'Total_FullBaths', 'Total_HalfBaths', 'FireplaceQu', 'BsmtFinType1',\n",
       "       'BsmtFinType2', 'BedroomAbvGr', 'KitchenQual', 'GarageQual',\n",
       "       'GarageCond', 'PoolQC', 'MiscFeature', 'Neighborhood', 'Fence'],\n",
       "      dtype='object')"
      ]
     },
     "execution_count": 8,
     "metadata": {},
     "output_type": "execute_result"
    }
   ],
   "source": [
    "prices.columns"
   ]
  },
  {
   "cell_type": "code",
   "execution_count": 9,
   "id": "conceptual-orientation",
   "metadata": {
    "scrolled": true
   },
   "outputs": [],
   "source": [
    "# summer_cols = ['PoolQC','CentralAir']\n",
    "# winter_cols = ['FireplaceQu','HeatingQC']"
   ]
  },
  {
   "cell_type": "code",
   "execution_count": null,
   "id": "short-bernard",
   "metadata": {},
   "outputs": [],
   "source": []
  },
  {
   "cell_type": "code",
   "execution_count": 10,
   "id": "julian-prisoner",
   "metadata": {},
   "outputs": [
    {
     "data": {
      "text/plain": [
       "FireplaceQu    4\n",
       "dtype: int64"
      ]
     },
     "execution_count": 10,
     "metadata": {},
     "output_type": "execute_result"
    }
   ],
   "source": [
    "nulls = prices.isnull().sum()\n",
    "nulls[nulls>1]"
   ]
  },
  {
   "cell_type": "code",
   "execution_count": 11,
   "id": "binding-stewart",
   "metadata": {},
   "outputs": [],
   "source": [
    "#prices['CentralAir'].replace({'N':0,'Y':1},inplace = True)\n",
    "\n",
    "\n",
    "prices['Total_FullBaths'] = prices['Total_FullBaths'].fillna(prices['Total_FullBaths'].mean())\n",
    "prices['Total_HalfBaths'] = prices['Total_HalfBaths'].fillna(prices['Total_HalfBaths'].mean())\n"
   ]
  },
  {
   "cell_type": "code",
   "execution_count": 12,
   "id": "documentary-infrared",
   "metadata": {},
   "outputs": [
    {
     "data": {
      "text/plain": [
       "FireplaceQu    4\n",
       "dtype: int64"
      ]
     },
     "execution_count": 12,
     "metadata": {},
     "output_type": "execute_result"
    }
   ],
   "source": [
    "nulls = prices.isnull().sum(axis = 0)\n",
    "nulls[nulls>1]"
   ]
  },
  {
   "cell_type": "code",
   "execution_count": 13,
   "id": "oriented-interference",
   "metadata": {},
   "outputs": [],
   "source": [
    "prices.dropna(axis = 0, how = 'any',inplace = True)"
   ]
  },
  {
   "cell_type": "code",
   "execution_count": 14,
   "id": "duplicate-small",
   "metadata": {},
   "outputs": [
    {
     "name": "stdout",
     "output_type": "stream",
     "text": [
      "<class 'pandas.core.frame.DataFrame'>\n",
      "Int64Index: 177 entries, 2 to 742\n",
      "Data columns (total 28 columns):\n",
      " #   Column           Non-Null Count  Dtype  \n",
      "---  ------           --------------  -----  \n",
      " 0   PID              177 non-null    int64  \n",
      " 1   SalePrice        177 non-null    int64  \n",
      " 2   GrLivArea        177 non-null    int64  \n",
      " 3   BldgType         177 non-null    object \n",
      " 4   HouseStyle       177 non-null    object \n",
      " 5   OverallQual      177 non-null    int64  \n",
      " 6   OverallCond      177 non-null    int64  \n",
      " 7   YearBuilt        177 non-null    int64  \n",
      " 8   YrSinceUpdate    177 non-null    int64  \n",
      " 9   ExterQual        177 non-null    int64  \n",
      " 10  ExterCond        177 non-null    int64  \n",
      " 11  BsmtQual         177 non-null    int64  \n",
      " 12  BsmtCond         177 non-null    int64  \n",
      " 13  HeatingQC        177 non-null    int64  \n",
      " 14  CentralAir       177 non-null    object \n",
      " 15  Total_FullBaths  177 non-null    float64\n",
      " 16  Total_HalfBaths  177 non-null    float64\n",
      " 17  FireplaceQu      177 non-null    float64\n",
      " 18  BsmtFinType1     177 non-null    object \n",
      " 19  BsmtFinType2     177 non-null    object \n",
      " 20  BedroomAbvGr     177 non-null    int64  \n",
      " 21  KitchenQual      177 non-null    int64  \n",
      " 22  GarageQual       177 non-null    int64  \n",
      " 23  GarageCond       177 non-null    int64  \n",
      " 24  PoolQC           177 non-null    int64  \n",
      " 25  MiscFeature      177 non-null    object \n",
      " 26  Neighborhood     177 non-null    object \n",
      " 27  Fence            177 non-null    object \n",
      "dtypes: float64(3), int64(17), object(8)\n",
      "memory usage: 40.1+ KB\n"
     ]
    }
   ],
   "source": [
    "prices.info()"
   ]
  },
  {
   "cell_type": "markdown",
   "id": "unnecessary-steal",
   "metadata": {},
   "source": [
    "# Merge housing data with Geopy data"
   ]
  },
  {
   "cell_type": "code",
   "execution_count": 15,
   "id": "unique-edward",
   "metadata": {},
   "outputs": [
    {
     "data": {
      "text/html": [
       "<div>\n",
       "<style scoped>\n",
       "    .dataframe tbody tr th:only-of-type {\n",
       "        vertical-align: middle;\n",
       "    }\n",
       "\n",
       "    .dataframe tbody tr th {\n",
       "        vertical-align: top;\n",
       "    }\n",
       "\n",
       "    .dataframe thead th {\n",
       "        text-align: right;\n",
       "    }\n",
       "</style>\n",
       "<table border=\"1\" class=\"dataframe\">\n",
       "  <thead>\n",
       "    <tr style=\"text-align: right;\">\n",
       "      <th></th>\n",
       "      <th>PID</th>\n",
       "      <th>lat</th>\n",
       "      <th>lon</th>\n",
       "      <th>dist_stadium</th>\n",
       "      <th>dist_downtown</th>\n",
       "      <th>dist_airport</th>\n",
       "      <th>coord</th>\n",
       "    </tr>\n",
       "  </thead>\n",
       "  <tbody>\n",
       "    <tr>\n",
       "      <th>0</th>\n",
       "      <td>526301100</td>\n",
       "      <td>42.053808</td>\n",
       "      <td>-93.618344</td>\n",
       "      <td>4.417461</td>\n",
       "      <td>3.210441</td>\n",
       "      <td>6.102121</td>\n",
       "      <td>(42.053808, -93.618344)</td>\n",
       "    </tr>\n",
       "    <tr>\n",
       "      <th>1</th>\n",
       "      <td>526302030</td>\n",
       "      <td>42.053668</td>\n",
       "      <td>-93.618459</td>\n",
       "      <td>4.399660</td>\n",
       "      <td>3.196132</td>\n",
       "      <td>6.086080</td>\n",
       "      <td>(42.053668, -93.618459)</td>\n",
       "    </tr>\n",
       "    <tr>\n",
       "      <th>2</th>\n",
       "      <td>526302040</td>\n",
       "      <td>42.053578</td>\n",
       "      <td>-93.618276</td>\n",
       "      <td>4.395200</td>\n",
       "      <td>3.184448</td>\n",
       "      <td>6.076963</td>\n",
       "      <td>(42.05357834520508, -93.61827582597934)</td>\n",
       "    </tr>\n",
       "    <tr>\n",
       "      <th>3</th>\n",
       "      <td>526302110</td>\n",
       "      <td>42.052841</td>\n",
       "      <td>-93.618633</td>\n",
       "      <td>4.308096</td>\n",
       "      <td>3.106740</td>\n",
       "      <td>5.993553</td>\n",
       "      <td>(42.05284062808919, -93.61863289727206)</td>\n",
       "    </tr>\n",
       "    <tr>\n",
       "      <th>4</th>\n",
       "      <td>526302120</td>\n",
       "      <td>42.052853</td>\n",
       "      <td>-93.618678</td>\n",
       "      <td>4.308129</td>\n",
       "      <td>3.108530</td>\n",
       "      <td>5.994682</td>\n",
       "      <td>(42.05285252734815, -93.61867770937495)</td>\n",
       "    </tr>\n",
       "  </tbody>\n",
       "</table>\n",
       "</div>"
      ],
      "text/plain": [
       "         PID        lat        lon  dist_stadium  dist_downtown  dist_airport  \\\n",
       "0  526301100  42.053808 -93.618344      4.417461       3.210441      6.102121   \n",
       "1  526302030  42.053668 -93.618459      4.399660       3.196132      6.086080   \n",
       "2  526302040  42.053578 -93.618276      4.395200       3.184448      6.076963   \n",
       "3  526302110  42.052841 -93.618633      4.308096       3.106740      5.993553   \n",
       "4  526302120  42.052853 -93.618678      4.308129       3.108530      5.994682   \n",
       "\n",
       "                                     coord  \n",
       "0                  (42.053808, -93.618344)  \n",
       "1                  (42.053668, -93.618459)  \n",
       "2  (42.05357834520508, -93.61827582597934)  \n",
       "3  (42.05284062808919, -93.61863289727206)  \n",
       "4  (42.05285252734815, -93.61867770937495)  "
      ]
     },
     "execution_count": 15,
     "metadata": {},
     "output_type": "execute_result"
    }
   ],
   "source": [
    "latlon = pd.read_csv('../../data/full_latlon.csv')\n",
    "latlon.head()"
   ]
  },
  {
   "cell_type": "code",
   "execution_count": 16,
   "id": "external-kelly",
   "metadata": {},
   "outputs": [],
   "source": [
    "prices = pd.merge(prices, latlon, how='inner', left_on = 'PID', right_on = 'PID' )"
   ]
  },
  {
   "cell_type": "code",
   "execution_count": 17,
   "id": "equivalent-newspaper",
   "metadata": {},
   "outputs": [
    {
     "name": "stdout",
     "output_type": "stream",
     "text": [
      "<class 'pandas.core.frame.DataFrame'>\n",
      "Int64Index: 174 entries, 0 to 179\n",
      "Data columns (total 34 columns):\n",
      " #   Column           Non-Null Count  Dtype  \n",
      "---  ------           --------------  -----  \n",
      " 0   PID              174 non-null    int64  \n",
      " 1   SalePrice        174 non-null    int64  \n",
      " 2   GrLivArea        174 non-null    int64  \n",
      " 3   BldgType         174 non-null    object \n",
      " 4   HouseStyle       174 non-null    object \n",
      " 5   OverallQual      174 non-null    int64  \n",
      " 6   OverallCond      174 non-null    int64  \n",
      " 7   YearBuilt        174 non-null    int64  \n",
      " 8   YrSinceUpdate    174 non-null    int64  \n",
      " 9   ExterQual        174 non-null    int64  \n",
      " 10  ExterCond        174 non-null    int64  \n",
      " 11  BsmtQual         174 non-null    int64  \n",
      " 12  BsmtCond         174 non-null    int64  \n",
      " 13  HeatingQC        174 non-null    int64  \n",
      " 14  CentralAir       174 non-null    object \n",
      " 15  Total_FullBaths  174 non-null    float64\n",
      " 16  Total_HalfBaths  174 non-null    float64\n",
      " 17  FireplaceQu      174 non-null    float64\n",
      " 18  BsmtFinType1     174 non-null    object \n",
      " 19  BsmtFinType2     174 non-null    object \n",
      " 20  BedroomAbvGr     174 non-null    int64  \n",
      " 21  KitchenQual      174 non-null    int64  \n",
      " 22  GarageQual       174 non-null    int64  \n",
      " 23  GarageCond       174 non-null    int64  \n",
      " 24  PoolQC           174 non-null    int64  \n",
      " 25  MiscFeature      174 non-null    object \n",
      " 26  Neighborhood     174 non-null    object \n",
      " 27  Fence            174 non-null    object \n",
      " 28  lat              174 non-null    float64\n",
      " 29  lon              174 non-null    float64\n",
      " 30  dist_stadium     174 non-null    float64\n",
      " 31  dist_downtown    174 non-null    float64\n",
      " 32  dist_airport     174 non-null    float64\n",
      " 33  coord            174 non-null    object \n",
      "dtypes: float64(8), int64(17), object(9)\n",
      "memory usage: 47.6+ KB\n"
     ]
    }
   ],
   "source": [
    "prices = prices.drop_duplicates()\n",
    "prices.info()"
   ]
  },
  {
   "cell_type": "markdown",
   "id": "current-producer",
   "metadata": {},
   "source": [
    "Convert the distances from km to miles"
   ]
  },
  {
   "cell_type": "code",
   "execution_count": 18,
   "id": "necessary-carry",
   "metadata": {},
   "outputs": [],
   "source": [
    "prices['dist_airport']=prices['dist_airport']*0.621371\n",
    "prices['dist_downtown']=prices['dist_downtown']*0.621371\n",
    "prices['dist_stadium']=prices['dist_stadium']*0.621371"
   ]
  },
  {
   "cell_type": "code",
   "execution_count": null,
   "id": "numerous-sense",
   "metadata": {},
   "outputs": [],
   "source": []
  },
  {
   "cell_type": "code",
   "execution_count": 19,
   "id": "adjusted-shift",
   "metadata": {},
   "outputs": [
    {
     "name": "stdout",
     "output_type": "stream",
     "text": [
      "<class 'pandas.core.frame.DataFrame'>\n",
      "Int64Index: 174 entries, 0 to 179\n",
      "Data columns (total 33 columns):\n",
      " #   Column           Non-Null Count  Dtype  \n",
      "---  ------           --------------  -----  \n",
      " 0   PID              174 non-null    int64  \n",
      " 1   SalePrice        174 non-null    int64  \n",
      " 2   GrLivArea        174 non-null    int64  \n",
      " 3   BldgType         174 non-null    object \n",
      " 4   HouseStyle       174 non-null    object \n",
      " 5   OverallQual      174 non-null    int64  \n",
      " 6   OverallCond      174 non-null    int64  \n",
      " 7   YearBuilt        174 non-null    int64  \n",
      " 8   YrSinceUpdate    174 non-null    int64  \n",
      " 9   ExterQual        174 non-null    int64  \n",
      " 10  ExterCond        174 non-null    int64  \n",
      " 11  BsmtQual         174 non-null    int64  \n",
      " 12  BsmtCond         174 non-null    int64  \n",
      " 13  HeatingQC        174 non-null    int64  \n",
      " 14  CentralAir       174 non-null    object \n",
      " 15  Total_FullBaths  174 non-null    float64\n",
      " 16  Total_HalfBaths  174 non-null    float64\n",
      " 17  FireplaceQu      174 non-null    float64\n",
      " 18  BsmtFinType1     174 non-null    object \n",
      " 19  BsmtFinType2     174 non-null    object \n",
      " 20  BedroomAbvGr     174 non-null    int64  \n",
      " 21  KitchenQual      174 non-null    int64  \n",
      " 22  GarageQual       174 non-null    int64  \n",
      " 23  GarageCond       174 non-null    int64  \n",
      " 24  PoolQC           174 non-null    int64  \n",
      " 25  MiscFeature      174 non-null    object \n",
      " 26  Neighborhood     174 non-null    object \n",
      " 27  Fence            174 non-null    object \n",
      " 28  lat              174 non-null    float64\n",
      " 29  lon              174 non-null    float64\n",
      " 30  dist_stadium     174 non-null    float64\n",
      " 31  dist_downtown    174 non-null    float64\n",
      " 32  dist_airport     174 non-null    float64\n",
      "dtypes: float64(8), int64(17), object(8)\n",
      "memory usage: 46.2+ KB\n"
     ]
    }
   ],
   "source": [
    "prices = prices.drop_duplicates()\n",
    "prices.drop('coord',axis = 1, inplace = True)\n",
    "prices.info()"
   ]
  },
  {
   "cell_type": "code",
   "execution_count": 20,
   "id": "intense-costume",
   "metadata": {},
   "outputs": [
    {
     "data": {
      "text/plain": [
       "NAmes      57\n",
       "Edwards    16\n",
       "Sawyer     15\n",
       "NWAmes     14\n",
       "SawyerW    11\n",
       "Mitchel     9\n",
       "CollgCr     7\n",
       "NoRidge     6\n",
       "Timber      5\n",
       "Somerst     4\n",
       "OldTown     4\n",
       "Veenker     4\n",
       "IDOTRR      3\n",
       "NridgHt     3\n",
       "Crawfor     3\n",
       "ClearCr     3\n",
       "NPkVill     2\n",
       "StoneBr     2\n",
       "Gilbert     2\n",
       "BrkSide     2\n",
       "MeadowV     1\n",
       "SWISU       1\n",
       "Name: Neighborhood, dtype: int64"
      ]
     },
     "execution_count": 20,
     "metadata": {},
     "output_type": "execute_result"
    }
   ],
   "source": [
    "prices['Neighborhood'].value_counts()"
   ]
  },
  {
   "cell_type": "code",
   "execution_count": 21,
   "id": "dominant-doubt",
   "metadata": {},
   "outputs": [],
   "source": [
    "prices['stadium_transp'] = prices['dist_stadium'].apply(\n",
    "    lambda x: 'walking' if x <= 0.3 else ('biking' if x <= 3 else 'driving'))"
   ]
  },
  {
   "cell_type": "code",
   "execution_count": 22,
   "id": "listed-vancouver",
   "metadata": {},
   "outputs": [
    {
     "data": {
      "text/html": [
       "<div>\n",
       "<style scoped>\n",
       "    .dataframe tbody tr th:only-of-type {\n",
       "        vertical-align: middle;\n",
       "    }\n",
       "\n",
       "    .dataframe tbody tr th {\n",
       "        vertical-align: top;\n",
       "    }\n",
       "\n",
       "    .dataframe thead th {\n",
       "        text-align: right;\n",
       "    }\n",
       "</style>\n",
       "<table border=\"1\" class=\"dataframe\">\n",
       "  <thead>\n",
       "    <tr style=\"text-align: right;\">\n",
       "      <th></th>\n",
       "      <th>SalePrice</th>\n",
       "      <th>Total_FullBaths</th>\n",
       "      <th>Total_HalfBaths</th>\n",
       "      <th>BedroomAbvGr</th>\n",
       "    </tr>\n",
       "  </thead>\n",
       "  <tbody>\n",
       "    <tr>\n",
       "      <th>46</th>\n",
       "      <td>144800</td>\n",
       "      <td>2.0</td>\n",
       "      <td>0.0</td>\n",
       "      <td>2</td>\n",
       "    </tr>\n",
       "    <tr>\n",
       "      <th>56</th>\n",
       "      <td>257500</td>\n",
       "      <td>2.0</td>\n",
       "      <td>1.0</td>\n",
       "      <td>4</td>\n",
       "    </tr>\n",
       "  </tbody>\n",
       "</table>\n",
       "</div>"
      ],
      "text/plain": [
       "    SalePrice  Total_FullBaths  Total_HalfBaths  BedroomAbvGr\n",
       "46     144800              2.0              0.0             2\n",
       "56     257500              2.0              1.0             4"
      ]
     },
     "execution_count": 22,
     "metadata": {},
     "output_type": "execute_result"
    }
   ],
   "source": [
    "prices[['SalePrice','Total_FullBaths','Total_HalfBaths','BedroomAbvGr']].loc[prices.stadium_transp == 'walking']"
   ]
  },
  {
   "cell_type": "code",
   "execution_count": 23,
   "id": "touched-butler",
   "metadata": {},
   "outputs": [],
   "source": [
    "ideal_homes = prices.drop(['PID','Neighborhood','stadium_transp'],axis = 1)"
   ]
  },
  {
   "cell_type": "code",
   "execution_count": 24,
   "id": "formal-consequence",
   "metadata": {},
   "outputs": [
    {
     "data": {
      "text/plain": [
       "biking     165\n",
       "driving      7\n",
       "walking      2\n",
       "Name: stadium_transp, dtype: int64"
      ]
     },
     "execution_count": 24,
     "metadata": {},
     "output_type": "execute_result"
    }
   ],
   "source": [
    "prices['stadium_transp'].value_counts()"
   ]
  },
  {
   "cell_type": "code",
   "execution_count": 25,
   "id": "loaded-easter",
   "metadata": {},
   "outputs": [
    {
     "data": {
      "text/html": [
       "<div>\n",
       "<style scoped>\n",
       "    .dataframe tbody tr th:only-of-type {\n",
       "        vertical-align: middle;\n",
       "    }\n",
       "\n",
       "    .dataframe tbody tr th {\n",
       "        vertical-align: top;\n",
       "    }\n",
       "\n",
       "    .dataframe thead th {\n",
       "        text-align: right;\n",
       "    }\n",
       "</style>\n",
       "<table border=\"1\" class=\"dataframe\">\n",
       "  <thead>\n",
       "    <tr style=\"text-align: right;\">\n",
       "      <th></th>\n",
       "      <th>PID</th>\n",
       "      <th>SalePrice</th>\n",
       "      <th>GrLivArea</th>\n",
       "      <th>BldgType</th>\n",
       "      <th>HouseStyle</th>\n",
       "      <th>OverallQual</th>\n",
       "      <th>OverallCond</th>\n",
       "      <th>YearBuilt</th>\n",
       "      <th>YrSinceUpdate</th>\n",
       "      <th>ExterQual</th>\n",
       "      <th>...</th>\n",
       "      <th>PoolQC</th>\n",
       "      <th>MiscFeature</th>\n",
       "      <th>Neighborhood</th>\n",
       "      <th>Fence</th>\n",
       "      <th>lat</th>\n",
       "      <th>lon</th>\n",
       "      <th>dist_stadium</th>\n",
       "      <th>dist_downtown</th>\n",
       "      <th>dist_airport</th>\n",
       "      <th>stadium_transp</th>\n",
       "    </tr>\n",
       "  </thead>\n",
       "  <tbody>\n",
       "    <tr>\n",
       "      <th>46</th>\n",
       "      <td>909282130</td>\n",
       "      <td>144800</td>\n",
       "      <td>1112</td>\n",
       "      <td>1Fam</td>\n",
       "      <td>1Story</td>\n",
       "      <td>5</td>\n",
       "      <td>6</td>\n",
       "      <td>1954</td>\n",
       "      <td>56</td>\n",
       "      <td>2</td>\n",
       "      <td>...</td>\n",
       "      <td>1</td>\n",
       "      <td>None</td>\n",
       "      <td>Crawfor</td>\n",
       "      <td>MnPrv</td>\n",
       "      <td>42.016043</td>\n",
       "      <td>-93.639473</td>\n",
       "      <td>0.194167</td>\n",
       "      <td>1.461358</td>\n",
       "      <td>1.471981</td>\n",
       "      <td>walking</td>\n",
       "    </tr>\n",
       "    <tr>\n",
       "      <th>56</th>\n",
       "      <td>909281080</td>\n",
       "      <td>257500</td>\n",
       "      <td>2133</td>\n",
       "      <td>1Fam</td>\n",
       "      <td>1.5Fin</td>\n",
       "      <td>7</td>\n",
       "      <td>6</td>\n",
       "      <td>1941</td>\n",
       "      <td>25</td>\n",
       "      <td>3</td>\n",
       "      <td>...</td>\n",
       "      <td>1</td>\n",
       "      <td>None</td>\n",
       "      <td>Crawfor</td>\n",
       "      <td>None</td>\n",
       "      <td>42.016308</td>\n",
       "      <td>-93.639600</td>\n",
       "      <td>0.200568</td>\n",
       "      <td>1.459616</td>\n",
       "      <td>1.490563</td>\n",
       "      <td>walking</td>\n",
       "    </tr>\n",
       "  </tbody>\n",
       "</table>\n",
       "<p>2 rows × 34 columns</p>\n",
       "</div>"
      ],
      "text/plain": [
       "          PID  SalePrice  GrLivArea BldgType HouseStyle  OverallQual  \\\n",
       "46  909282130     144800       1112     1Fam     1Story            5   \n",
       "56  909281080     257500       2133     1Fam     1.5Fin            7   \n",
       "\n",
       "    OverallCond  YearBuilt  YrSinceUpdate  ExterQual  ...  PoolQC  \\\n",
       "46            6       1954             56          2  ...       1   \n",
       "56            6       1941             25          3  ...       1   \n",
       "\n",
       "    MiscFeature  Neighborhood  Fence        lat        lon  dist_stadium  \\\n",
       "46         None       Crawfor  MnPrv  42.016043 -93.639473      0.194167   \n",
       "56         None       Crawfor   None  42.016308 -93.639600      0.200568   \n",
       "\n",
       "    dist_downtown dist_airport stadium_transp  \n",
       "46       1.461358     1.471981        walking  \n",
       "56       1.459616     1.490563        walking  \n",
       "\n",
       "[2 rows x 34 columns]"
      ]
     },
     "execution_count": 25,
     "metadata": {},
     "output_type": "execute_result"
    }
   ],
   "source": [
    "prices.loc[prices.stadium_transp == 'walking']"
   ]
  },
  {
   "cell_type": "code",
   "execution_count": 26,
   "id": "arabic-electricity",
   "metadata": {},
   "outputs": [],
   "source": [
    "airbnb_winter = ideal_homes.drop(summer_cols,axis = 1)\n",
    "airbnb_summer = ideal_homes.drop(winter_cols,axis = 1)"
   ]
  },
  {
   "cell_type": "code",
   "execution_count": 27,
   "id": "aging-making",
   "metadata": {},
   "outputs": [
    {
     "data": {
      "text/plain": [
       "Index(['SalePrice', 'GrLivArea', 'BldgType', 'HouseStyle', 'OverallQual',\n",
       "       'OverallCond', 'YearBuilt', 'YrSinceUpdate', 'ExterQual', 'ExterCond',\n",
       "       'BsmtQual', 'BsmtCond', 'HeatingQC', 'CentralAir', 'Total_FullBaths',\n",
       "       'Total_HalfBaths', 'FireplaceQu', 'BsmtFinType1', 'BsmtFinType2',\n",
       "       'BedroomAbvGr', 'KitchenQual', 'GarageQual', 'GarageCond', 'PoolQC',\n",
       "       'MiscFeature', 'Fence', 'lat', 'lon', 'dist_stadium', 'dist_downtown',\n",
       "       'dist_airport'],\n",
       "      dtype='object')"
      ]
     },
     "execution_count": 27,
     "metadata": {},
     "output_type": "execute_result"
    }
   ],
   "source": [
    "ideal_homes.columns"
   ]
  },
  {
   "cell_type": "code",
   "execution_count": 28,
   "id": "filled-charles",
   "metadata": {},
   "outputs": [
    {
     "data": {
      "text/plain": [
       "None     127\n",
       "MnPrv     29\n",
       "GdWo       9\n",
       "GdPrv      7\n",
       "MnWw       2\n",
       "Name: Fence, dtype: int64"
      ]
     },
     "execution_count": 28,
     "metadata": {},
     "output_type": "execute_result"
    }
   ],
   "source": [
    "ideal_homes['Fence'].value_counts()"
   ]
  },
  {
   "cell_type": "markdown",
   "id": "saved-expression",
   "metadata": {},
   "source": [
    "## Reducing to numeric features"
   ]
  },
  {
   "cell_type": "code",
   "execution_count": 29,
   "id": "executive-legislature",
   "metadata": {},
   "outputs": [
    {
     "data": {
      "text/html": [
       "<div>\n",
       "<style scoped>\n",
       "    .dataframe tbody tr th:only-of-type {\n",
       "        vertical-align: middle;\n",
       "    }\n",
       "\n",
       "    .dataframe tbody tr th {\n",
       "        vertical-align: top;\n",
       "    }\n",
       "\n",
       "    .dataframe thead th {\n",
       "        text-align: right;\n",
       "    }\n",
       "</style>\n",
       "<table border=\"1\" class=\"dataframe\">\n",
       "  <thead>\n",
       "    <tr style=\"text-align: right;\">\n",
       "      <th></th>\n",
       "      <th>SalePrice</th>\n",
       "      <th>GrLivArea</th>\n",
       "      <th>BldgType</th>\n",
       "      <th>HouseStyle</th>\n",
       "      <th>OverallQual</th>\n",
       "      <th>OverallCond</th>\n",
       "      <th>YearBuilt</th>\n",
       "      <th>YrSinceUpdate</th>\n",
       "      <th>ExterQual</th>\n",
       "      <th>ExterCond</th>\n",
       "      <th>...</th>\n",
       "      <th>GarageQual</th>\n",
       "      <th>GarageCond</th>\n",
       "      <th>PoolQC</th>\n",
       "      <th>MiscFeature</th>\n",
       "      <th>Fence</th>\n",
       "      <th>lat</th>\n",
       "      <th>lon</th>\n",
       "      <th>dist_stadium</th>\n",
       "      <th>dist_downtown</th>\n",
       "      <th>dist_airport</th>\n",
       "    </tr>\n",
       "  </thead>\n",
       "  <tbody>\n",
       "    <tr>\n",
       "      <th>89</th>\n",
       "      <td>100000</td>\n",
       "      <td>1664</td>\n",
       "      <td>Duplex</td>\n",
       "      <td>1Story</td>\n",
       "      <td>5</td>\n",
       "      <td>5</td>\n",
       "      <td>1965</td>\n",
       "      <td>45</td>\n",
       "      <td>2</td>\n",
       "      <td>2</td>\n",
       "      <td>...</td>\n",
       "      <td>1</td>\n",
       "      <td>1</td>\n",
       "      <td>1</td>\n",
       "      <td>None</td>\n",
       "      <td>None</td>\n",
       "      <td>42.020968</td>\n",
       "      <td>-93.677587</td>\n",
       "      <td>2.180376</td>\n",
       "      <td>3.294617</td>\n",
       "      <td>3.222971</td>\n",
       "    </tr>\n",
       "    <tr>\n",
       "      <th>22</th>\n",
       "      <td>149900</td>\n",
       "      <td>833</td>\n",
       "      <td>1Fam</td>\n",
       "      <td>1Story</td>\n",
       "      <td>5</td>\n",
       "      <td>7</td>\n",
       "      <td>1984</td>\n",
       "      <td>26</td>\n",
       "      <td>2</td>\n",
       "      <td>2</td>\n",
       "      <td>...</td>\n",
       "      <td>3</td>\n",
       "      <td>3</td>\n",
       "      <td>1</td>\n",
       "      <td>None</td>\n",
       "      <td>MnPrv</td>\n",
       "      <td>41.988915</td>\n",
       "      <td>-93.603718</td>\n",
       "      <td>2.501713</td>\n",
       "      <td>2.551034</td>\n",
       "      <td>1.183972</td>\n",
       "    </tr>\n",
       "    <tr>\n",
       "      <th>82</th>\n",
       "      <td>134900</td>\n",
       "      <td>914</td>\n",
       "      <td>1Fam</td>\n",
       "      <td>1Story</td>\n",
       "      <td>5</td>\n",
       "      <td>7</td>\n",
       "      <td>1979</td>\n",
       "      <td>31</td>\n",
       "      <td>2</td>\n",
       "      <td>2</td>\n",
       "      <td>...</td>\n",
       "      <td>3</td>\n",
       "      <td>3</td>\n",
       "      <td>1</td>\n",
       "      <td>None</td>\n",
       "      <td>None</td>\n",
       "      <td>42.019641</td>\n",
       "      <td>-93.686855</td>\n",
       "      <td>2.643120</td>\n",
       "      <td>3.778078</td>\n",
       "      <td>3.613497</td>\n",
       "    </tr>\n",
       "    <tr>\n",
       "      <th>128</th>\n",
       "      <td>240000</td>\n",
       "      <td>2614</td>\n",
       "      <td>1Fam</td>\n",
       "      <td>2Story</td>\n",
       "      <td>6</td>\n",
       "      <td>7</td>\n",
       "      <td>1974</td>\n",
       "      <td>13</td>\n",
       "      <td>2</td>\n",
       "      <td>2</td>\n",
       "      <td>...</td>\n",
       "      <td>3</td>\n",
       "      <td>3</td>\n",
       "      <td>1</td>\n",
       "      <td>None</td>\n",
       "      <td>None</td>\n",
       "      <td>42.043751</td>\n",
       "      <td>-93.631242</td>\n",
       "      <td>1.915189</td>\n",
       "      <td>1.568862</td>\n",
       "      <td>3.125496</td>\n",
       "    </tr>\n",
       "    <tr>\n",
       "      <th>55</th>\n",
       "      <td>138000</td>\n",
       "      <td>1183</td>\n",
       "      <td>1Fam</td>\n",
       "      <td>SLvl</td>\n",
       "      <td>5</td>\n",
       "      <td>5</td>\n",
       "      <td>1959</td>\n",
       "      <td>51</td>\n",
       "      <td>2</td>\n",
       "      <td>2</td>\n",
       "      <td>...</td>\n",
       "      <td>3</td>\n",
       "      <td>3</td>\n",
       "      <td>1</td>\n",
       "      <td>None</td>\n",
       "      <td>GdWo</td>\n",
       "      <td>42.035817</td>\n",
       "      <td>-93.606004</td>\n",
       "      <td>2.041741</td>\n",
       "      <td>0.841423</td>\n",
       "      <td>2.680038</td>\n",
       "    </tr>\n",
       "  </tbody>\n",
       "</table>\n",
       "<p>5 rows × 29 columns</p>\n",
       "</div>"
      ],
      "text/plain": [
       "     SalePrice  GrLivArea BldgType HouseStyle  OverallQual  OverallCond  \\\n",
       "89      100000       1664   Duplex     1Story            5            5   \n",
       "22      149900        833     1Fam     1Story            5            7   \n",
       "82      134900        914     1Fam     1Story            5            7   \n",
       "128     240000       2614     1Fam     2Story            6            7   \n",
       "55      138000       1183     1Fam       SLvl            5            5   \n",
       "\n",
       "     YearBuilt  YrSinceUpdate  ExterQual  ExterCond  ...  GarageQual  \\\n",
       "89        1965             45          2          2  ...           1   \n",
       "22        1984             26          2          2  ...           3   \n",
       "82        1979             31          2          2  ...           3   \n",
       "128       1974             13          2          2  ...           3   \n",
       "55        1959             51          2          2  ...           3   \n",
       "\n",
       "     GarageCond PoolQC  MiscFeature  Fence        lat        lon  \\\n",
       "89            1      1         None   None  42.020968 -93.677587   \n",
       "22            3      1         None  MnPrv  41.988915 -93.603718   \n",
       "82            3      1         None   None  42.019641 -93.686855   \n",
       "128           3      1         None   None  42.043751 -93.631242   \n",
       "55            3      1         None   GdWo  42.035817 -93.606004   \n",
       "\n",
       "     dist_stadium  dist_downtown  dist_airport  \n",
       "89       2.180376       3.294617      3.222971  \n",
       "22       2.501713       2.551034      1.183972  \n",
       "82       2.643120       3.778078      3.613497  \n",
       "128      1.915189       1.568862      3.125496  \n",
       "55       2.041741       0.841423      2.680038  \n",
       "\n",
       "[5 rows x 29 columns]"
      ]
     },
     "execution_count": 29,
     "metadata": {},
     "output_type": "execute_result"
    }
   ],
   "source": [
    "airbnb_summer.sample(5)"
   ]
  },
  {
   "cell_type": "code",
   "execution_count": 30,
   "id": "honey-geography",
   "metadata": {},
   "outputs": [
    {
     "data": {
      "text/plain": [
       "Index(['BldgType', 'HouseStyle', 'CentralAir', 'BsmtFinType1', 'BsmtFinType2',\n",
       "       'MiscFeature', 'Fence'],\n",
       "      dtype='object')"
      ]
     },
     "execution_count": 30,
     "metadata": {},
     "output_type": "execute_result"
    }
   ],
   "source": [
    "cats = ideal_homes.select_dtypes(object).columns\n",
    "cats"
   ]
  },
  {
   "cell_type": "code",
   "execution_count": 31,
   "id": "collective-philippines",
   "metadata": {},
   "outputs": [],
   "source": [
    "dummy = pd.get_dummies(ideal_homes, columns = cats,drop_first=True)"
   ]
  },
  {
   "cell_type": "code",
   "execution_count": null,
   "id": "analyzed-recommendation",
   "metadata": {},
   "outputs": [],
   "source": []
  },
  {
   "cell_type": "code",
   "execution_count": 32,
   "id": "later-silicon",
   "metadata": {},
   "outputs": [
    {
     "data": {
      "text/plain": [
       "<AxesSubplot:>"
      ]
     },
     "execution_count": 32,
     "metadata": {},
     "output_type": "execute_result"
    },
    {
     "data": {
      "image/png": "[encoded data removed]",
      "text/plain": [
       "<Figure size 432x288 with 1 Axes>"
      ]
     },
     "metadata": {
      "needs_background": "light"
     },
     "output_type": "display_data"
    }
   ],
   "source": [
    "Y = np.log(dummy['SalePrice'])\n",
    "X = dummy.drop(['SalePrice'],axis = 1)\n",
    "Y.hist()"
   ]
  },
  {
   "cell_type": "code",
   "execution_count": 33,
   "id": "physical-donor",
   "metadata": {},
   "outputs": [
    {
     "data": {
      "text/plain": [
       "Index(['GrLivArea', 'OverallQual', 'OverallCond', 'YearBuilt', 'YrSinceUpdate',\n",
       "       'ExterQual', 'ExterCond', 'BsmtQual', 'BsmtCond', 'HeatingQC',\n",
       "       'Total_FullBaths', 'Total_HalfBaths', 'FireplaceQu', 'BedroomAbvGr',\n",
       "       'KitchenQual', 'GarageQual', 'GarageCond', 'PoolQC', 'lat', 'lon',\n",
       "       'dist_stadium', 'dist_downtown', 'dist_airport', 'BldgType_2fmCon',\n",
       "       'BldgType_Duplex', 'BldgType_Twnhs', 'BldgType_TwnhsE',\n",
       "       'HouseStyle_1Story', 'HouseStyle_2Story', 'HouseStyle_SFoyer',\n",
       "       'HouseStyle_SLvl', 'CentralAir_Y', 'BsmtFinType1_ALQ',\n",
       "       'BsmtFinType1_BLQ', 'BsmtFinType1_GLQ', 'BsmtFinType1_Rec',\n",
       "       'BsmtFinType2_ALQ', 'BsmtFinType2_BLQ', 'BsmtFinType2_GLQ',\n",
       "       'BsmtFinType2_Rec', 'MiscFeature_None', 'MiscFeature_Shed',\n",
       "       'Fence_GdWo', 'Fence_MnPrv', 'Fence_MnWw', 'Fence_None'],\n",
       "      dtype='object')"
      ]
     },
     "execution_count": 33,
     "metadata": {},
     "output_type": "execute_result"
    }
   ],
   "source": [
    "X_columns = X.columns\n",
    "X_columns"
   ]
  },
  {
   "cell_type": "code",
   "execution_count": 34,
   "id": "beginning-alpha",
   "metadata": {},
   "outputs": [],
   "source": [
    "from sklearn.preprocessing import StandardScaler\n",
    "sc = StandardScaler()\n",
    "\n",
    "X = sc.fit_transform(X)"
   ]
  },
  {
   "cell_type": "code",
   "execution_count": 35,
   "id": "decreased-madonna",
   "metadata": {},
   "outputs": [
    {
     "data": {
      "text/plain": [
       "LinearRegression()"
      ]
     },
     "execution_count": 35,
     "metadata": {},
     "output_type": "execute_result"
    }
   ],
   "source": [
    "from sklearn.linear_model import LinearRegression\n",
    "reg = LinearRegression()\n",
    "\n",
    "reg.fit(X,Y)"
   ]
  },
  {
   "cell_type": "code",
   "execution_count": 36,
   "id": "filled-coverage",
   "metadata": {},
   "outputs": [
    {
     "name": "stdout",
     "output_type": "stream",
     "text": [
      "0.9410599286583101\n",
      "0.08101629817472833\n"
     ]
    }
   ],
   "source": [
    "print(reg.score(X,Y))\n",
    "\n",
    "\n",
    "from sklearn.metrics import mean_squared_error\n",
    "Ypred = reg.predict(X)\n",
    "RMSE = mean_squared_error(Y,Ypred,squared = False)\n",
    "print(RMSE)"
   ]
  },
  {
   "cell_type": "code",
   "execution_count": 37,
   "id": "thorough-cancer",
   "metadata": {},
   "outputs": [
    {
     "name": "stdout",
     "output_type": "stream",
     "text": [
      "GrLivArea: 0.18374318684174157\n",
      "OverallQual: 0.07458822151873554\n",
      "OverallCond: 0.035823795673820005\n",
      "YearBuilt: 0.03137931569462753\n",
      "YrSinceUpdate: 0.004392269164177072\n",
      "ExterQual: 0.004075648467482769\n",
      "ExterCond: -0.021167643801287106\n",
      "BsmtQual: 0.0773506607717467\n",
      "BsmtCond: 0.0306827084094543\n",
      "HeatingQC: 0.006682771323363583\n",
      "Total_FullBaths: 0.03686597893991956\n",
      "Total_HalfBaths: 0.0021089364802419353\n",
      "FireplaceQu: 0.04201207390905411\n",
      "BedroomAbvGr: -0.011375650308694255\n",
      "KitchenQual: 0.0074039722646532455\n",
      "GarageQual: 0.017316618005525128\n",
      "GarageCond: 0.007996209943284985\n",
      "PoolQC: -2.0816681711721685e-17\n",
      "lat: 0.05243870575241063\n",
      "lon: 0.022057047819228338\n",
      "dist_stadium: -0.0029876356674291837\n",
      "dist_downtown: 0.05529515107955075\n",
      "dist_airport: -0.04643535562589495\n",
      "BldgType_2fmCon: 0.01208188977578378\n",
      "BldgType_Duplex: -0.013230964846106317\n",
      "BldgType_Twnhs: -0.02338620241014543\n",
      "BldgType_TwnhsE: -0.020213609524105627\n",
      "HouseStyle_1Story: 0.06708512877493017\n",
      "HouseStyle_2Story: 0.008835988793451922\n",
      "HouseStyle_SFoyer: 0.010419922023313688\n",
      "HouseStyle_SLvl: 0.0358560666859437\n",
      "CentralAir_Y: -0.003709526073038363\n",
      "BsmtFinType1_ALQ: -0.008876351120218989\n",
      "BsmtFinType1_BLQ: -0.019290312802214923\n",
      "BsmtFinType1_GLQ: -0.019541517317837306\n",
      "BsmtFinType1_Rec: -0.016052394895024268\n",
      "BsmtFinType2_ALQ: -0.0022191109679776536\n",
      "BsmtFinType2_BLQ: -0.015379789562182607\n",
      "BsmtFinType2_GLQ: -0.00689476504308142\n",
      "BsmtFinType2_Rec: -0.017783418289277986\n",
      "MiscFeature_None: 0.028075356231906\n",
      "MiscFeature_Shed: 0.019726783813361633\n",
      "Fence_GdWo: -0.003709982313781942\n",
      "Fence_MnPrv: -0.02103928737555269\n",
      "Fence_MnWw: -0.0002719682119416509\n",
      "Fence_None: -0.017338313578269062\n"
     ]
    }
   ],
   "source": [
    "for col, coef in zip(X_columns, reg.coef_):\n",
    "    print(f'{col}: {coef}')"
   ]
  },
  {
   "cell_type": "code",
   "execution_count": 38,
   "id": "alert-study",
   "metadata": {},
   "outputs": [
    {
     "data": {
      "text/plain": [
       "Text(0.5, 1.0, 'Standardized feature betas in log(SalePrice) linear model')"
      ]
     },
     "execution_count": 38,
     "metadata": {},
     "output_type": "execute_result"
    },
    {
     "data": {
      "image/png": "[encoded data removed]",
      "text/plain": [
       "<Figure size 1080x720 with 1 Axes>"
      ]
     },
     "metadata": {
      "needs_background": "light"
     },
     "output_type": "display_data"
    }
   ],
   "source": [
    "plt.figure(figsize = (15,10))\n",
    "plt.plot(list(range(len(X_columns))),reg.coef_,'bo:')\n",
    "plt.plot(list(range(len(X_columns))),np.array([0 for zero in range(len(X_columns))]),'k--',alpha = 0.49)\n",
    "plt.xticks(list(range(len(X_columns))),labels = X_columns, rotation = 90)\n",
    "plt.grid(color='r', linestyle='--', linewidth=0.5, axis = 'x',alpha = 0.5)\n",
    "plt.title('Standardized feature betas in log(SalePrice) linear model', fontsize = 15, fontweight = 'bold')\n"
   ]
  },
  {
   "cell_type": "code",
   "execution_count": 39,
   "id": "eight-passion",
   "metadata": {},
   "outputs": [
    {
     "name": "stdout",
     "output_type": "stream",
     "text": [
      "                            OLS Regression Results                            \n",
      "==============================================================================\n",
      "Dep. Variable:              SalePrice   R-squared:                       0.941\n",
      "Model:                            OLS   Adj. R-squared:                  0.920\n",
      "Method:                 Least Squares   F-statistic:                     45.42\n",
      "Date:                Sat, 06 Mar 2021   Prob (F-statistic):           4.83e-60\n",
      "Time:                        18:27:18   Log-Likelihood:                 190.38\n",
      "No. Observations:                 174   AIC:                            -288.8\n",
      "Df Residuals:                     128   BIC:                            -143.5\n",
      "Df Model:                          45                                         \n",
      "Covariance Type:            nonrobust                                         \n",
      "==============================================================================\n",
      "                 coef    std err          t      P>|t|      [0.025      0.975]\n",
      "------------------------------------------------------------------------------\n",
      "const         12.0094      0.007   1677.079      0.000      11.995      12.024\n",
      "x1             0.1837      0.017     11.020      0.000       0.151       0.217\n",
      "x2             0.0746      0.014      5.214      0.000       0.046       0.103\n",
      "x3             0.0358      0.010      3.425      0.001       0.015       0.057\n",
      "x4             0.0314      0.019      1.623      0.107      -0.007       0.070\n",
      "x5             0.0044      0.012      0.382      0.703      -0.018       0.027\n",
      "x6             0.0041      0.016      0.247      0.805      -0.029       0.037\n",
      "x7            -0.0212      0.011     -2.008      0.047      -0.042      -0.000\n",
      "x8             0.0774      0.023      3.349      0.001       0.032       0.123\n",
      "x9             0.0307      0.024      1.283      0.202      -0.017       0.078\n",
      "x10            0.0067      0.010      0.669      0.505      -0.013       0.026\n",
      "x11            0.0369      0.013      2.911      0.004       0.012       0.062\n",
      "x12            0.0021      0.011      0.190      0.849      -0.020       0.024\n",
      "x13            0.0420      0.010      4.110      0.000       0.022       0.062\n",
      "x14           -0.0114      0.013     -0.907      0.366      -0.036       0.013\n",
      "x15            0.0074      0.012      0.626      0.532      -0.016       0.031\n",
      "x16            0.0173      0.020      0.884      0.378      -0.021       0.056\n",
      "x17            0.0080      0.019      0.418      0.677      -0.030       0.046\n",
      "x18         6.286e-17   8.29e-17      0.758      0.450   -1.01e-16    2.27e-16\n",
      "x19            0.0524      0.063      0.828      0.409      -0.073       0.178\n",
      "x20            0.0221      0.063      0.348      0.728      -0.103       0.147\n",
      "x21           -0.0030      0.047     -0.063      0.949      -0.096       0.090\n",
      "x22            0.0553      0.043      1.278      0.204      -0.030       0.141\n",
      "x23           -0.0464      0.097     -0.480      0.632      -0.238       0.145\n",
      "x24            0.0121      0.009      1.339      0.183      -0.006       0.030\n",
      "x25           -0.0132      0.013     -1.034      0.303      -0.039       0.012\n",
      "x26           -0.0234      0.008     -2.865      0.005      -0.040      -0.007\n",
      "x27           -0.0202      0.009     -2.317      0.022      -0.037      -0.003\n",
      "x28            0.0671      0.019      3.581      0.000       0.030       0.104\n",
      "x29            0.0088      0.017      0.533      0.595      -0.024       0.042\n",
      "x30            0.0104      0.010      1.014      0.313      -0.010       0.031\n",
      "x31            0.0359      0.014      2.489      0.014       0.007       0.064\n",
      "x32           -0.0037      0.009     -0.426      0.671      -0.021       0.014\n",
      "x33           -0.0089      0.062     -0.143      0.887      -0.132       0.114\n",
      "x34           -0.0193      0.056     -0.346      0.730      -0.130       0.091\n",
      "x35           -0.0195      0.058     -0.338      0.736      -0.134       0.095\n",
      "x36           -0.0161      0.053     -0.303      0.762      -0.121       0.089\n",
      "x37           -0.0022      0.041     -0.054      0.957      -0.083       0.078\n",
      "x38           -0.0154      0.043     -0.356      0.722      -0.101       0.070\n",
      "x39           -0.0069      0.030     -0.227      0.820      -0.067       0.053\n",
      "x40           -0.0178      0.049     -0.360      0.719      -0.115       0.080\n",
      "x41            0.0281      0.030      0.922      0.358      -0.032       0.088\n",
      "x42            0.0197      0.030      0.661      0.510      -0.039       0.079\n",
      "x43           -0.0037      0.012     -0.318      0.751      -0.027       0.019\n",
      "x44           -0.0210      0.016     -1.288      0.200      -0.053       0.011\n",
      "x45           -0.0003      0.009     -0.030      0.976      -0.018       0.018\n",
      "x46           -0.0173      0.018     -0.966      0.336      -0.053       0.018\n",
      "==============================================================================\n",
      "Omnibus:                        5.703   Durbin-Watson:                   2.296\n",
      "Prob(Omnibus):                  0.058   Jarque-Bera (JB):                7.509\n",
      "Skew:                           0.171   Prob(JB):                       0.0234\n",
      "Kurtosis:                       3.959   Cond. No.                     1.68e+16\n",
      "==============================================================================\n",
      "\n",
      "Notes:\n",
      "[1] Standard Errors assume that the covariance matrix of the errors is correctly specified.\n",
      "[2] The smallest eigenvalue is 4.1e-30. This might indicate that there are\n",
      "strong multicollinearity problems or that the design matrix is singular.\n"
     ]
    }
   ],
   "source": [
    "import statsmodels.api as sm\n",
    "X = sm.add_constant(X)\n",
    "OLS = sm.OLS(Y,X)\n",
    "results = OLS.fit()\n",
    "print(results.summary())"
   ]
  },
  {
   "cell_type": "code",
   "execution_count": null,
   "id": "cordless-private",
   "metadata": {},
   "outputs": [],
   "source": []
  }
 ],
 "metadata": {
  "kernelspec": {
   "display_name": "Python 3",
   "language": "python",
   "name": "python3"
  },
  "language_info": {
   "codemirror_mode": {
    "name": "ipython",
    "version": 3
   },
   "file_extension": ".py",
   "mimetype": "text/x-python",
   "name": "python",
   "nbconvert_exporter": "python",
   "pygments_lexer": "ipython3",
   "version": "3.7.0"
  }
 },
 "nbformat": 4,
 "nbformat_minor": 5
}
