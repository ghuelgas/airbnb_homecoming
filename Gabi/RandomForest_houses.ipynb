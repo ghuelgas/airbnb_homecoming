{
 "cells": [
  {
   "cell_type": "markdown",
   "metadata": {},
   "source": [
    "# Housing Price Predictions"
   ]
  },
  {
   "cell_type": "code",
   "execution_count": 62,
   "metadata": {},
   "outputs": [],
   "source": [
    "import pandas as pd\n",
    "import numpy as np\n",
    "import matplotlib.pyplot as plt\n",
    "import seaborn as sns\n",
    "#prices = pd.read_csv('imputeImpl2_cat_housingData.csv',na_filter = False,index_col=0)\n",
    "prices = pd.read_csv('data/Ames_Housing_Price_Data.csv',index_col = 0)\n",
    "estate = pd.read_csv('data/full_wCoord.csv')"
   ]
  },
  {
   "cell_type": "code",
   "execution_count": 63,
   "metadata": {
    "scrolled": true
   },
   "outputs": [
    {
     "name": "stdout",
     "output_type": "stream",
     "text": [
      "<class 'pandas.core.frame.DataFrame'>\n",
      "RangeIndex: 2580 entries, 0 to 2579\n",
      "Data columns (total 81 columns):\n",
      " #   Column         Non-Null Count  Dtype  \n",
      "---  ------         --------------  -----  \n",
      " 0   PID            2580 non-null   int64  \n",
      " 1   GrLivArea      2580 non-null   int64  \n",
      " 2   SalePrice      2580 non-null   int64  \n",
      " 3   MSSubClass     2580 non-null   int64  \n",
      " 4   MSZoning       2580 non-null   object \n",
      " 5   LotFrontage    2118 non-null   float64\n",
      " 6   LotArea        2580 non-null   int64  \n",
      " 7   Street         2580 non-null   object \n",
      " 8   Alley          168 non-null    object \n",
      " 9   LotShape       2580 non-null   object \n",
      " 10  LandContour    2580 non-null   object \n",
      " 11  Utilities      2580 non-null   object \n",
      " 12  LotConfig      2580 non-null   object \n",
      " 13  LandSlope      2580 non-null   object \n",
      " 14  Neighborhood   2580 non-null   object \n",
      " 15  Condition1     2580 non-null   object \n",
      " 16  Condition2     2580 non-null   object \n",
      " 17  BldgType       2580 non-null   object \n",
      " 18  HouseStyle     2580 non-null   object \n",
      " 19  OverallQual    2580 non-null   int64  \n",
      " 20  OverallCond    2580 non-null   int64  \n",
      " 21  YearBuilt      2580 non-null   int64  \n",
      " 22  YearRemodAdd   2580 non-null   int64  \n",
      " 23  RoofStyle      2580 non-null   object \n",
      " 24  RoofMatl       2580 non-null   object \n",
      " 25  Exterior1st    2580 non-null   object \n",
      " 26  Exterior2nd    2580 non-null   object \n",
      " 27  MasVnrType     2566 non-null   object \n",
      " 28  MasVnrArea     2566 non-null   float64\n",
      " 29  ExterQual      2580 non-null   object \n",
      " 30  ExterCond      2580 non-null   object \n",
      " 31  Foundation     2580 non-null   object \n",
      " 32  BsmtQual       2511 non-null   object \n",
      " 33  BsmtCond       2511 non-null   object \n",
      " 34  BsmtExposure   2509 non-null   object \n",
      " 35  BsmtFinType1   2511 non-null   object \n",
      " 36  BsmtFinSF1     2579 non-null   float64\n",
      " 37  BsmtFinType2   2510 non-null   object \n",
      " 38  BsmtFinSF2     2579 non-null   float64\n",
      " 39  BsmtUnfSF      2579 non-null   float64\n",
      " 40  TotalBsmtSF    2579 non-null   float64\n",
      " 41  Heating        2580 non-null   object \n",
      " 42  HeatingQC      2580 non-null   object \n",
      " 43  CentralAir     2580 non-null   object \n",
      " 44  Electrical     2579 non-null   object \n",
      " 45  1stFlrSF       2580 non-null   int64  \n",
      " 46  2ndFlrSF       2580 non-null   int64  \n",
      " 47  LowQualFinSF   2580 non-null   int64  \n",
      " 48  BsmtFullBath   2578 non-null   float64\n",
      " 49  BsmtHalfBath   2578 non-null   float64\n",
      " 50  FullBath       2580 non-null   int64  \n",
      " 51  HalfBath       2580 non-null   int64  \n",
      " 52  BedroomAbvGr   2580 non-null   int64  \n",
      " 53  KitchenAbvGr   2580 non-null   int64  \n",
      " 54  KitchenQual    2580 non-null   object \n",
      " 55  TotRmsAbvGrd   2580 non-null   int64  \n",
      " 56  Functional     2580 non-null   object \n",
      " 57  Fireplaces     2580 non-null   int64  \n",
      " 58  FireplaceQu    1339 non-null   object \n",
      " 59  GarageType     2453 non-null   object \n",
      " 60  GarageYrBlt    2451 non-null   float64\n",
      " 61  GarageFinish   2451 non-null   object \n",
      " 62  GarageCars     2579 non-null   float64\n",
      " 63  GarageArea     2579 non-null   float64\n",
      " 64  GarageQual     2451 non-null   object \n",
      " 65  GarageCond     2451 non-null   object \n",
      " 66  PavedDrive     2580 non-null   object \n",
      " 67  WoodDeckSF     2580 non-null   int64  \n",
      " 68  OpenPorchSF    2580 non-null   int64  \n",
      " 69  EnclosedPorch  2580 non-null   int64  \n",
      " 70  3SsnPorch      2580 non-null   int64  \n",
      " 71  ScreenPorch    2580 non-null   int64  \n",
      " 72  PoolArea       2580 non-null   int64  \n",
      " 73  PoolQC         9 non-null      object \n",
      " 74  Fence          525 non-null    object \n",
      " 75  MiscFeature    97 non-null     object \n",
      " 76  MiscVal        2580 non-null   int64  \n",
      " 77  MoSold         2580 non-null   int64  \n",
      " 78  YrSold         2580 non-null   int64  \n",
      " 79  SaleType       2580 non-null   object \n",
      " 80  SaleCondition  2580 non-null   object \n",
      "dtypes: float64(11), int64(27), object(43)\n",
      "memory usage: 1.6+ MB\n"
     ]
    }
   ],
   "source": [
    "prices.reset_index(drop = True, inplace = True)\n",
    "prices.info()"
   ]
  },
  {
   "cell_type": "code",
   "execution_count": 64,
   "metadata": {},
   "outputs": [
    {
     "data": {
      "text/plain": [
       "LotFrontage      462\n",
       "Alley           2412\n",
       "MasVnrType        14\n",
       "MasVnrArea        14\n",
       "BsmtQual          69\n",
       "BsmtCond          69\n",
       "BsmtExposure      71\n",
       "BsmtFinType1      69\n",
       "BsmtFinType2      70\n",
       "BsmtFullBath       2\n",
       "BsmtHalfBath       2\n",
       "FireplaceQu     1241\n",
       "GarageType       127\n",
       "GarageYrBlt      129\n",
       "GarageFinish     129\n",
       "GarageQual       129\n",
       "GarageCond       129\n",
       "PoolQC          2571\n",
       "Fence           2055\n",
       "MiscFeature     2483\n",
       "dtype: int64"
      ]
     },
     "execution_count": 64,
     "metadata": {},
     "output_type": "execute_result"
    }
   ],
   "source": [
    "nulls = prices.isnull().sum(axis = 0)\n",
    "nulls[nulls>1]\n"
   ]
  },
  {
   "cell_type": "code",
   "execution_count": 65,
   "metadata": {},
   "outputs": [
    {
     "data": {
      "text/plain": [
       "309    10\n",
       "Name: OverallQual, dtype: int64"
      ]
     },
     "execution_count": 65,
     "metadata": {},
     "output_type": "execute_result"
    }
   ],
   "source": [
    "#testing the model w/o the maximum home price\n",
    "outlier =prices.loc[prices.SalePrice ==184750]\n",
    "outlier['OverallQual']"
   ]
  },
  {
   "cell_type": "code",
   "execution_count": 66,
   "metadata": {},
   "outputs": [
    {
     "name": "stdout",
     "output_type": "stream",
     "text": [
      "<class 'pandas.core.frame.DataFrame'>\n",
      "RangeIndex: 2580 entries, 0 to 2579\n",
      "Data columns (total 81 columns):\n",
      " #   Column         Non-Null Count  Dtype  \n",
      "---  ------         --------------  -----  \n",
      " 0   PID            2580 non-null   int64  \n",
      " 1   GrLivArea      2580 non-null   int64  \n",
      " 2   SalePrice      2580 non-null   int64  \n",
      " 3   MSSubClass     2580 non-null   int64  \n",
      " 4   MSZoning       2580 non-null   object \n",
      " 5   LotFrontage    2118 non-null   float64\n",
      " 6   LotArea        2580 non-null   int64  \n",
      " 7   Street         2580 non-null   object \n",
      " 8   Alley          168 non-null    object \n",
      " 9   LotShape       2580 non-null   object \n",
      " 10  LandContour    2580 non-null   object \n",
      " 11  Utilities      2580 non-null   object \n",
      " 12  LotConfig      2580 non-null   object \n",
      " 13  LandSlope      2580 non-null   object \n",
      " 14  Neighborhood   2580 non-null   object \n",
      " 15  Condition1     2580 non-null   object \n",
      " 16  Condition2     2580 non-null   object \n",
      " 17  BldgType       2580 non-null   object \n",
      " 18  HouseStyle     2580 non-null   object \n",
      " 19  OverallQual    2580 non-null   int64  \n",
      " 20  OverallCond    2580 non-null   int64  \n",
      " 21  YearBuilt      2580 non-null   int64  \n",
      " 22  YearRemodAdd   2580 non-null   int64  \n",
      " 23  RoofStyle      2580 non-null   object \n",
      " 24  RoofMatl       2580 non-null   object \n",
      " 25  Exterior1st    2580 non-null   object \n",
      " 26  Exterior2nd    2580 non-null   object \n",
      " 27  MasVnrType     2566 non-null   object \n",
      " 28  MasVnrArea     2566 non-null   float64\n",
      " 29  ExterQual      2580 non-null   object \n",
      " 30  ExterCond      2580 non-null   object \n",
      " 31  Foundation     2580 non-null   object \n",
      " 32  BsmtQual       2511 non-null   object \n",
      " 33  BsmtCond       2511 non-null   object \n",
      " 34  BsmtExposure   2509 non-null   object \n",
      " 35  BsmtFinType1   2511 non-null   object \n",
      " 36  BsmtFinSF1     2579 non-null   float64\n",
      " 37  BsmtFinType2   2510 non-null   object \n",
      " 38  BsmtFinSF2     2579 non-null   float64\n",
      " 39  BsmtUnfSF      2579 non-null   float64\n",
      " 40  TotalBsmtSF    2579 non-null   float64\n",
      " 41  Heating        2580 non-null   object \n",
      " 42  HeatingQC      2580 non-null   object \n",
      " 43  CentralAir     2580 non-null   object \n",
      " 44  Electrical     2579 non-null   object \n",
      " 45  1stFlrSF       2580 non-null   int64  \n",
      " 46  2ndFlrSF       2580 non-null   int64  \n",
      " 47  LowQualFinSF   2580 non-null   int64  \n",
      " 48  BsmtFullBath   2578 non-null   float64\n",
      " 49  BsmtHalfBath   2578 non-null   float64\n",
      " 50  FullBath       2580 non-null   int64  \n",
      " 51  HalfBath       2580 non-null   int64  \n",
      " 52  BedroomAbvGr   2580 non-null   int64  \n",
      " 53  KitchenAbvGr   2580 non-null   int64  \n",
      " 54  KitchenQual    2580 non-null   object \n",
      " 55  TotRmsAbvGrd   2580 non-null   int64  \n",
      " 56  Functional     2580 non-null   object \n",
      " 57  Fireplaces     2580 non-null   int64  \n",
      " 58  FireplaceQu    1339 non-null   object \n",
      " 59  GarageType     2453 non-null   object \n",
      " 60  GarageYrBlt    2451 non-null   float64\n",
      " 61  GarageFinish   2451 non-null   object \n",
      " 62  GarageCars     2579 non-null   float64\n",
      " 63  GarageArea     2579 non-null   float64\n",
      " 64  GarageQual     2451 non-null   object \n",
      " 65  GarageCond     2451 non-null   object \n",
      " 66  PavedDrive     2580 non-null   object \n",
      " 67  WoodDeckSF     2580 non-null   int64  \n",
      " 68  OpenPorchSF    2580 non-null   int64  \n",
      " 69  EnclosedPorch  2580 non-null   int64  \n",
      " 70  3SsnPorch      2580 non-null   int64  \n",
      " 71  ScreenPorch    2580 non-null   int64  \n",
      " 72  PoolArea       2580 non-null   int64  \n",
      " 73  PoolQC         9 non-null      object \n",
      " 74  Fence          525 non-null    object \n",
      " 75  MiscFeature    97 non-null     object \n",
      " 76  MiscVal        2580 non-null   int64  \n",
      " 77  MoSold         2580 non-null   int64  \n",
      " 78  YrSold         2580 non-null   int64  \n",
      " 79  SaleType       2580 non-null   object \n",
      " 80  SaleCondition  2580 non-null   object \n",
      "dtypes: float64(11), int64(27), object(43)\n",
      "memory usage: 1.6+ MB\n"
     ]
    }
   ],
   "source": [
    "prices.info()"
   ]
  },
  {
   "cell_type": "code",
   "execution_count": null,
   "metadata": {},
   "outputs": [],
   "source": []
  },
  {
   "cell_type": "code",
   "execution_count": null,
   "metadata": {},
   "outputs": [],
   "source": []
  },
  {
   "cell_type": "code",
   "execution_count": null,
   "metadata": {},
   "outputs": [],
   "source": []
  },
  {
   "cell_type": "code",
   "execution_count": 67,
   "metadata": {},
   "outputs": [],
   "source": [
    "#Creating a price per square foot column to help with feature engineering\n",
    "prices['Price_sqft'] = prices['SalePrice']/prices['GrLivArea']"
   ]
  },
  {
   "cell_type": "markdown",
   "metadata": {},
   "source": [
    "# Converting quality/condition categoricals to numerical"
   ]
  },
  {
   "cell_type": "code",
   "execution_count": 68,
   "metadata": {},
   "outputs": [],
   "source": [
    "def ordinal_scale(Series):\n",
    "        \n",
    "    '''Returns a pandas Series where quality scores are converted to integers\n",
    "    \n",
    "    Args:\n",
    "    \n",
    "    Series: a pandas Series of categorical quality scores'''\n",
    "    return prices[Series].replace({'Po':0,'Fa':1,'TA':2,'Gd':3,'Ex':4})\n",
    "\n",
    "prices['KitchenQual'] = ordinal_scale('KitchenQual')\n",
    "prices['ExterQual'] = ordinal_scale('ExterQual')\n",
    "prices['ExterCond'] = ordinal_scale('ExterCond')\n",
    "prices['HeatingQC'] = ordinal_scale('HeatingQC')"
   ]
  },
  {
   "cell_type": "code",
   "execution_count": 69,
   "metadata": {},
   "outputs": [],
   "source": [
    "def fillna_ordinals(Series):\n",
    "    '''\n",
    "    Returns a pandas series replacing null values with DNE (Does Not Exist) so they can be imputed.\n",
    "    \n",
    "    Args:\n",
    "    \n",
    "\n",
    "    Series: str, column name in the pandas dataframe.\n",
    "    '''\n",
    "    prices[Series].fillna('DNE',inplace = True)\n",
    "    return prices[Series]\n",
    "    \n",
    "impute_cols = ['Alley','BsmtQual','BsmtCond','BsmtExposure','BsmtFinType1',\n",
    "               'BsmtFinType2','FireplaceQu',\n",
    "               'GarageQual','GarageCond','PoolQC','Fence']\n",
    "\n",
    "for i in impute_cols:\n",
    "    prices[i] = fillna_ordinals(i)\n",
    "\n",
    "prices['GarageType'],prices['GarageFinish'] = fillna_ordinals('GarageType'),fillna_ordinals('GarageFinish')"
   ]
  },
  {
   "cell_type": "code",
   "execution_count": 70,
   "metadata": {},
   "outputs": [
    {
     "data": {
      "text/plain": [
       "TA     1166\n",
       "Gd     1077\n",
       "Ex      188\n",
       "Fa       78\n",
       "DNE      69\n",
       "Po        2\n",
       "Name: BsmtQual, dtype: int64"
      ]
     },
     "execution_count": 70,
     "metadata": {},
     "output_type": "execute_result"
    }
   ],
   "source": [
    "prices['BsmtQual'].value_counts()"
   ]
  },
  {
   "cell_type": "code",
   "execution_count": 71,
   "metadata": {
    "scrolled": true
   },
   "outputs": [
    {
     "data": {
      "image/png": "[encoded data removed]",
      "text/plain": [
       "<Figure size 432x288 with 1 Axes>"
      ]
     },
     "metadata": {
      "needs_background": "light"
     },
     "output_type": "display_data"
    }
   ],
   "source": [
    "def cat_medians(Series):\n",
    "    import seaborn as sns\n",
    "    import matplotlib.pyplot as plt\n",
    "    bars = prices.groupby(Series)['SalePrice'].median().reset_index().sort_values(by = 'SalePrice')\n",
    "    sns.barplot(data = bars, x = Series,y = 'SalePrice')\n",
    "\n",
    "    \n",
    "cat_medians('PoolQC')"
   ]
  },
  {
   "cell_type": "code",
   "execution_count": 72,
   "metadata": {},
   "outputs": [],
   "source": [
    "for i in impute_cols:\n",
    "    prices[i].replace({'Po':0,'DNE':1,'Fa':2,'TA':3,'Gd':4,'Ex':5},inplace = True)"
   ]
  },
  {
   "cell_type": "code",
   "execution_count": 73,
   "metadata": {
    "scrolled": true
   },
   "outputs": [],
   "source": [
    "# def impute_ordinals(Series):\n",
    "#     '''\n",
    "#     Returns a pandas series containing null values and converting to numerical, ordered by median price per sqft.\n",
    "    \n",
    "#     Args:\n",
    "    \n",
    "\n",
    "#     Series: str, column name in the pandas dataframe.\n",
    "#     '''\n",
    "#     prices[Series].fillna('DNE',inplace = True)\n",
    "#     ords = prices.groupby(Series)['Price_sqft'].median().sort_values().reset_index()\n",
    "#     ords = list(ords[Series])\n",
    "#     impute = dict()\n",
    "#     for i, j in enumerate(ords):\n",
    "#         impute[j] = i\n",
    "#     prices[Series].replace(impute, inplace = True)\n",
    "#     return prices[Series]\n"
   ]
  },
  {
   "cell_type": "code",
   "execution_count": 74,
   "metadata": {},
   "outputs": [],
   "source": [
    "# impute_cols = ['Alley','BsmtQual','BsmtCond','BsmtExposure','BsmtFinType1',\n",
    "#                'BsmtFinType2','FireplaceQu','GarageType','GarageFinish',\n",
    "#                'GarageQual','GarageCond','PoolQC','Fence']\n",
    "\n",
    "# impute_cols = ['BsmtQual','BsmtCond','BsmtExposure','BsmtFinType1',\n",
    "#                'BsmtFinType2','FireplaceQu','GarageType','GarageFinish',\n",
    "#                'GarageQual','GarageCond','PoolQC','Fence']\n",
    "# for i in impute_cols:\n",
    "#     prices[i] = impute_ordinals(i)"
   ]
  },
  {
   "cell_type": "code",
   "execution_count": 75,
   "metadata": {},
   "outputs": [
    {
     "data": {
      "text/plain": [
       "AllPub    2578\n",
       "NoSewr       2\n",
       "Name: Utilities, dtype: int64"
      ]
     },
     "execution_count": 75,
     "metadata": {},
     "output_type": "execute_result"
    }
   ],
   "source": [
    "prices['Utilities'].value_counts()"
   ]
  },
  {
   "cell_type": "code",
   "execution_count": 76,
   "metadata": {},
   "outputs": [],
   "source": [
    "prices['MiscFeature'].fillna(0,inplace = True)\n",
    "prices['MiscFeature'] = prices['MiscFeature'].apply(lambda M: 1 if M !=0 else M)\n",
    "prices['CentralAir'].replace({'N':0,'Y':1},inplace = True)\n",
    "prices['Street'].replace({'Grvl':1,'Pave':0},inplace = True)\n",
    "prices['PavedDrive'].replace({'Y':1,'P':0.5,'N':0},inplace = True)\n",
    "prices['Utilities'].replace({'AllPub':4, 'NoSewr':3, 'NoSeWa':2, 'ELO':1},inplace = True)"
   ]
  },
  {
   "cell_type": "code",
   "execution_count": 77,
   "metadata": {},
   "outputs": [
    {
     "data": {
      "text/plain": [
       "LotFrontage     462\n",
       "MasVnrType       14\n",
       "MasVnrArea       14\n",
       "BsmtFullBath      2\n",
       "BsmtHalfBath      2\n",
       "GarageYrBlt     129\n",
       "dtype: int64"
      ]
     },
     "execution_count": 77,
     "metadata": {},
     "output_type": "execute_result"
    }
   ],
   "source": [
    "nulls = prices.isnull().sum(axis = 0)\n",
    "nulls[nulls>1]"
   ]
  },
  {
   "cell_type": "code",
   "execution_count": null,
   "metadata": {},
   "outputs": [],
   "source": []
  },
  {
   "cell_type": "code",
   "execution_count": 245,
   "metadata": {},
   "outputs": [],
   "source": [
    "new_prices = prices.copy()\n",
    "new_prices = new_prices.loc[~new_prices['Neighborhood'].isin(['Landmrk','Greens','GrnHill'])]"
   ]
  },
  {
   "cell_type": "code",
   "execution_count": null,
   "metadata": {},
   "outputs": [],
   "source": []
  },
  {
   "cell_type": "code",
   "execution_count": 79,
   "metadata": {},
   "outputs": [],
   "source": [
    "def check_frontage(boro):\n",
    "    x = prices['LotFrontage'].loc[prices['Neighborhood']==boro]\n",
    "    return plt.hist(x)"
   ]
  },
  {
   "cell_type": "code",
   "execution_count": 80,
   "metadata": {},
   "outputs": [
    {
     "data": {
      "text/plain": [
       "(array([ 2.,  3.,  8., 30., 15., 14.,  9.,  5.,  2.,  2.]),\n",
       " array([ 40.,  48.,  56.,  64.,  72.,  80.,  88.,  96., 104., 112., 120.]),\n",
       " <BarContainer object of 10 artists>)"
      ]
     },
     "execution_count": 80,
     "metadata": {},
     "output_type": "execute_result"
    },
    {
     "data": {
      "image/png": "[encoded data removed]",
      "text/plain": [
       "<Figure size 432x288 with 1 Axes>"
      ]
     },
     "metadata": {
      "needs_background": "light"
     },
     "output_type": "display_data"
    }
   ],
   "source": [
    "check_frontage('Sawyer')"
   ]
  },
  {
   "cell_type": "markdown",
   "metadata": {},
   "source": [
    "## Reducing to numeric features"
   ]
  },
  {
   "cell_type": "code",
   "execution_count": 81,
   "metadata": {},
   "outputs": [
    {
     "data": {
      "text/plain": [
       "('MasVnrType', 'Electrical')"
      ]
     },
     "execution_count": 81,
     "metadata": {},
     "output_type": "execute_result"
    }
   ],
   "source": [
    "'MasVnrType','Electrical'"
   ]
  },
  {
   "cell_type": "code",
   "execution_count": 247,
   "metadata": {},
   "outputs": [],
   "source": [
    "#impute lot frontage based off the mean of the respective neighborhood\n",
    "def impute_by_neighborhood(Series):\n",
    "    return new_prices[Series].fillna(new_prices.groupby('Neighborhood')[Series].transform('mean'))"
   ]
  },
  {
   "cell_type": "code",
   "execution_count": 248,
   "metadata": {},
   "outputs": [],
   "source": [
    "new_prices['LotFrontage'] = impute_by_neighborhood('LotFrontage')\n",
    "new_prices['GarageYrBlt'] = impute_by_neighborhood('GarageYrBlt')"
   ]
  },
  {
   "cell_type": "code",
   "execution_count": 249,
   "metadata": {},
   "outputs": [
    {
     "data": {
      "text/plain": [
       "<AxesSubplot:xlabel='Neighborhood', ylabel='GarageYrBlt'>"
      ]
     },
     "execution_count": 249,
     "metadata": {},
     "output_type": "execute_result"
    },
    {
     "data": {
      "image/png": "[encoded data removed]",
      "text/plain": [
       "<Figure size 432x288 with 1 Axes>"
      ]
     },
     "metadata": {
      "needs_background": "light"
     },
     "output_type": "display_data"
    }
   ],
   "source": [
    "prices.groupby('Neighborhood')['GarageCars'].mean()\n",
    "sns.boxplot(data = prices, x = 'Neighborhood', y = 'GarageYrBlt')"
   ]
  },
  {
   "cell_type": "markdown",
   "metadata": {},
   "source": [
    "# Selecting numerical variables for multiple linear regression"
   ]
  },
  {
   "cell_type": "code",
   "execution_count": 85,
   "metadata": {},
   "outputs": [],
   "source": [
    "# categorical_features = new_prices.select_dtypes(include = object)\n",
    "# for i in categorical_features:\n",
    "#     categorical_features[i].fillna(categorical_features[i].mode()[0], inplace=True)\n",
    "\n",
    "# categorical_features = pd.get_dummies(categorical_features)\n",
    "numeric_features = new_prices.select_dtypes(include = np.number)\n",
    "\n",
    "# numeric_features =pd.concat([categorical_features, numeric_features], axis=1)\n",
    "\n",
    "\n",
    "# imputing remaining numerical features with the mean\n",
    "numeric_features_filled = numeric_features.fillna(numeric_features.mean())\n",
    "#numeric_features_filled = numeric_features.copy()\n",
    "y_price = np.log(numeric_features_filled['SalePrice'])\n",
    "numeric_features_filled.drop(['PID','SalePrice','Price_sqft','MSSubClass'], axis = 1, inplace = True)\n",
    "\n"
   ]
  },
  {
   "cell_type": "markdown",
   "metadata": {},
   "source": [
    "# OHE categorical values to numerical"
   ]
  },
  {
   "cell_type": "code",
   "execution_count": 86,
   "metadata": {},
   "outputs": [],
   "source": [
    "# print(len(categorical_features.columns))\n",
    "# categorical_features.columns"
   ]
  },
  {
   "cell_type": "code",
   "execution_count": 87,
   "metadata": {},
   "outputs": [],
   "source": [
    "#prices = pd.get_dummies(prices,columns=['GarageFinish','SaleCondition'])\n",
    "\n",
    "\n",
    "\n",
    "# from sklearn.preprocessing import OneHotEncoder\n",
    "# ohe = OneHotEncoder(handle_unknown='ignore')\n",
    "# ohe.fit_transform(categorical_features['GarageFinish'].astype(str))"
   ]
  },
  {
   "cell_type": "code",
   "execution_count": 88,
   "metadata": {},
   "outputs": [
    {
     "data": {
      "text/plain": [
       "Index(['GrLivArea', 'LotFrontage', 'LotArea', 'Street', 'Utilities',\n",
       "       'OverallQual', 'OverallCond', 'YearBuilt', 'YearRemodAdd', 'MasVnrArea',\n",
       "       'ExterQual', 'ExterCond', 'BsmtQual', 'BsmtCond', 'BsmtFinSF1',\n",
       "       'BsmtFinSF2', 'BsmtUnfSF', 'TotalBsmtSF', 'HeatingQC', 'CentralAir',\n",
       "       '1stFlrSF', '2ndFlrSF', 'LowQualFinSF', 'BsmtFullBath', 'BsmtHalfBath',\n",
       "       'FullBath', 'HalfBath', 'BedroomAbvGr', 'KitchenAbvGr', 'KitchenQual',\n",
       "       'TotRmsAbvGrd', 'Fireplaces', 'FireplaceQu', 'GarageYrBlt',\n",
       "       'GarageCars', 'GarageArea', 'GarageQual', 'GarageCond', 'PavedDrive',\n",
       "       'WoodDeckSF', 'OpenPorchSF', 'EnclosedPorch', '3SsnPorch',\n",
       "       'ScreenPorch', 'PoolArea', 'PoolQC', 'MiscFeature', 'MiscVal', 'MoSold',\n",
       "       'YrSold'],\n",
       "      dtype='object')"
      ]
     },
     "execution_count": 88,
     "metadata": {},
     "output_type": "execute_result"
    }
   ],
   "source": [
    "numeric_features_filled.columns"
   ]
  },
  {
   "cell_type": "code",
   "execution_count": 89,
   "metadata": {},
   "outputs": [],
   "source": [
    "#categorical_features['GarageType'].value_counts()"
   ]
  },
  {
   "cell_type": "code",
   "execution_count": null,
   "metadata": {},
   "outputs": [],
   "source": []
  },
  {
   "cell_type": "code",
   "execution_count": 90,
   "metadata": {},
   "outputs": [
    {
     "data": {
      "text/plain": [
       "<AxesSubplot:>"
      ]
     },
     "execution_count": 90,
     "metadata": {},
     "output_type": "execute_result"
    },
    {
     "data": {
      "image/png": "[encoded data removed]",
      "text/plain": [
       "<Figure size 1440x1080 with 2 Axes>"
      ]
     },
     "metadata": {
      "needs_background": "light"
     },
     "output_type": "display_data"
    }
   ],
   "source": [
    "plt.figure(figsize = (20,15))\n",
    "colormap = sns.color_palette('coolwarm',20)\n",
    "sns.heatmap(numeric_features_filled.corr(),cmap = colormap)"
   ]
  },
  {
   "cell_type": "code",
   "execution_count": 91,
   "metadata": {},
   "outputs": [],
   "source": [
    "r_prices = new_prices.corr()\n",
    "r_prices = r_prices[['SalePrice']][1:]"
   ]
  },
  {
   "cell_type": "code",
   "execution_count": 92,
   "metadata": {},
   "outputs": [
    {
     "data": {
      "text/plain": [
       "<AxesSubplot:>"
      ]
     },
     "execution_count": 92,
     "metadata": {},
     "output_type": "execute_result"
    },
    {
     "data": {
      "image/png": "[encoded data removed]",
      "text/plain": [
       "<Figure size 1800x1080 with 2 Axes>"
      ]
     },
     "metadata": {
      "needs_background": "light"
     },
     "output_type": "display_data"
    }
   ],
   "source": [
    "plt.figure(figsize = (25,15))\n",
    "sns.heatmap(r_prices,annot = True,cmap = colormap)"
   ]
  },
  {
   "cell_type": "code",
   "execution_count": 93,
   "metadata": {},
   "outputs": [
    {
     "name": "stdout",
     "output_type": "stream",
     "text": [
      "<class 'pandas.core.frame.DataFrame'>\n",
      "Int64Index: 2569 entries, 0 to 2579\n",
      "Data columns (total 50 columns):\n",
      " #   Column         Non-Null Count  Dtype  \n",
      "---  ------         --------------  -----  \n",
      " 0   GrLivArea      2569 non-null   int64  \n",
      " 1   LotFrontage    2569 non-null   float64\n",
      " 2   LotArea        2569 non-null   int64  \n",
      " 3   Street         2569 non-null   int64  \n",
      " 4   Utilities      2569 non-null   int64  \n",
      " 5   OverallQual    2569 non-null   int64  \n",
      " 6   OverallCond    2569 non-null   int64  \n",
      " 7   YearBuilt      2569 non-null   int64  \n",
      " 8   YearRemodAdd   2569 non-null   int64  \n",
      " 9   MasVnrArea     2569 non-null   float64\n",
      " 10  ExterQual      2569 non-null   int64  \n",
      " 11  ExterCond      2569 non-null   int64  \n",
      " 12  BsmtQual       2569 non-null   int64  \n",
      " 13  BsmtCond       2569 non-null   int64  \n",
      " 14  BsmtFinSF1     2569 non-null   float64\n",
      " 15  BsmtFinSF2     2569 non-null   float64\n",
      " 16  BsmtUnfSF      2569 non-null   float64\n",
      " 17  TotalBsmtSF    2569 non-null   float64\n",
      " 18  HeatingQC      2569 non-null   int64  \n",
      " 19  CentralAir     2569 non-null   int64  \n",
      " 20  1stFlrSF       2569 non-null   int64  \n",
      " 21  2ndFlrSF       2569 non-null   int64  \n",
      " 22  LowQualFinSF   2569 non-null   int64  \n",
      " 23  BsmtFullBath   2569 non-null   float64\n",
      " 24  BsmtHalfBath   2569 non-null   float64\n",
      " 25  FullBath       2569 non-null   int64  \n",
      " 26  HalfBath       2569 non-null   int64  \n",
      " 27  BedroomAbvGr   2569 non-null   int64  \n",
      " 28  KitchenAbvGr   2569 non-null   int64  \n",
      " 29  KitchenQual    2569 non-null   int64  \n",
      " 30  TotRmsAbvGrd   2569 non-null   int64  \n",
      " 31  Fireplaces     2569 non-null   int64  \n",
      " 32  FireplaceQu    2569 non-null   int64  \n",
      " 33  GarageYrBlt    2569 non-null   float64\n",
      " 34  GarageCars     2569 non-null   float64\n",
      " 35  GarageArea     2569 non-null   float64\n",
      " 36  GarageQual     2569 non-null   int64  \n",
      " 37  GarageCond     2569 non-null   int64  \n",
      " 38  PavedDrive     2569 non-null   float64\n",
      " 39  WoodDeckSF     2569 non-null   int64  \n",
      " 40  OpenPorchSF    2569 non-null   int64  \n",
      " 41  EnclosedPorch  2569 non-null   int64  \n",
      " 42  3SsnPorch      2569 non-null   int64  \n",
      " 43  ScreenPorch    2569 non-null   int64  \n",
      " 44  PoolArea       2569 non-null   int64  \n",
      " 45  PoolQC         2569 non-null   int64  \n",
      " 46  MiscFeature    2569 non-null   int64  \n",
      " 47  MiscVal        2569 non-null   int64  \n",
      " 48  MoSold         2569 non-null   int64  \n",
      " 49  YrSold         2569 non-null   int64  \n",
      "dtypes: float64(12), int64(38)\n",
      "memory usage: 1023.6 KB\n"
     ]
    }
   ],
   "source": [
    "numeric_features_filled.info()"
   ]
  },
  {
   "cell_type": "code",
   "execution_count": null,
   "metadata": {},
   "outputs": [],
   "source": []
  },
  {
   "cell_type": "markdown",
   "metadata": {},
   "source": [
    "# Distribution of numerical variables"
   ]
  },
  {
   "cell_type": "code",
   "execution_count": 94,
   "metadata": {},
   "outputs": [
    {
     "data": {
      "text/plain": [
       "50"
      ]
     },
     "execution_count": 94,
     "metadata": {},
     "output_type": "execute_result"
    }
   ],
   "source": [
    "numeric_colnames = numeric_features_filled.columns\n",
    "len(numeric_colnames)"
   ]
  },
  {
   "cell_type": "code",
   "execution_count": 95,
   "metadata": {},
   "outputs": [
    {
     "name": "stdout",
     "output_type": "stream",
     "text": [
      "Median is 159900.0\n",
      "Mean is 178059.62325581396\n"
     ]
    },
    {
     "data": {
      "image/png": "[encoded data removed]",
      "text/plain": [
       "<Figure size 432x288 with 1 Axes>"
      ]
     },
     "metadata": {
      "needs_background": "light"
     },
     "output_type": "display_data"
    }
   ],
   "source": [
    "sns.histplot(new_prices.SalePrice,kde = True)\n",
    "print(f'Median is {np.median(prices.SalePrice)}')\n",
    "print(f'Mean is {np.mean(prices.SalePrice)}')"
   ]
  },
  {
   "cell_type": "code",
   "execution_count": null,
   "metadata": {},
   "outputs": [],
   "source": []
  },
  {
   "cell_type": "code",
   "execution_count": 96,
   "metadata": {},
   "outputs": [
    {
     "data": {
      "text/plain": [
       "Text(0.5, 1.0, 'Distribution of numerical variables')"
      ]
     },
     "execution_count": 96,
     "metadata": {},
     "output_type": "execute_result"
    },
    {
     "data": {
      "image/png": "[encoded data removed]",
      "text/plain": [
       "<Figure size 1080x1080 with 56 Axes>"
      ]
     },
     "metadata": {
      "needs_background": "light"
     },
     "output_type": "display_data"
    }
   ],
   "source": [
    "numeric_features_filled.hist(figsize = (15,15))\n",
    "plt.title('Distribution of numerical variables')"
   ]
  },
  {
   "cell_type": "markdown",
   "metadata": {},
   "source": [
    "### Five fold CV using KFold"
   ]
  },
  {
   "cell_type": "markdown",
   "metadata": {},
   "source": [
    "<p> Gabi says drop garagecars, garagequal and garagecondition</p>"
   ]
  },
  {
   "cell_type": "code",
   "execution_count": 97,
   "metadata": {},
   "outputs": [],
   "source": [
    "from sklearn.model_selection import train_test_split, KFold\n",
    "from sklearn.linear_model import Lasso\n",
    "\n",
    "\n",
    "Xtrain,Xtest,ytrain,ytest = train_test_split(numeric_features_filled,y_price)\n",
    "\n",
    "from sklearn.preprocessing import StandardScaler\n",
    "sc = StandardScaler()\n",
    "cv = KFold(n_splits = 5, shuffle = True)\n",
    "\n",
    "\n",
    "from sklearn.linear_model import Lasso\n",
    "lasso = Lasso(max_iter = 3500000)\n",
    "\n",
    "from sklearn.pipeline import Pipeline\n",
    "from sklearn.model_selection import cross_validate\n",
    "# pipe = Pipeline(steps = [('ss',StandardScaler()),('lasso',lasso)])\n",
    "\n",
    "alphas = np.linspace(.00001,0.02,1000)\n",
    "\n",
    "cv_res=[]\n",
    "\n",
    "for alpha in alphas:\n",
    "    lasso.set_params(alpha = alpha)\n",
    "    pipe = Pipeline(steps = [('ss',StandardScaler()),('lasso',lasso)])\n",
    "    cv_res.append(cross_validate(pipe, Xtrain,ytrain,cv = cv, return_train_score = True))"
   ]
  },
  {
   "cell_type": "code",
   "execution_count": null,
   "metadata": {},
   "outputs": [],
   "source": []
  },
  {
   "cell_type": "code",
   "execution_count": 98,
   "metadata": {},
   "outputs": [],
   "source": [
    "lasso_test = [i['test_score'].mean() for i in cv_res]\n",
    "lasso_train = [i['train_score'].mean() for i in cv_res]"
   ]
  },
  {
   "cell_type": "code",
   "execution_count": 99,
   "metadata": {},
   "outputs": [
    {
     "data": {
      "text/plain": [
       "Text(0, 0.5, 'Coefficient of Determination')"
      ]
     },
     "execution_count": 99,
     "metadata": {},
     "output_type": "execute_result"
    },
    {
     "data": {
      "image/png": "[encoded data removed]",
      "text/plain": [
       "<Figure size 1080x720 with 1 Axes>"
      ]
     },
     "metadata": {
      "needs_background": "light"
     },
     "output_type": "display_data"
    }
   ],
   "source": [
    "plt.figure(figsize = (15,10))\n",
    "plt.scatter(alphas, lasso_test)\n",
    "plt.xlim([0,0.03])\n",
    "plt.title(r'Alpha values and corresponding R^2 values',fontsize = 15, fontweight = 'bold')\n",
    "plt.xlabel('Value of alpha')\n",
    "plt.ylabel('Coefficient of Determination')"
   ]
  },
  {
   "cell_type": "code",
   "execution_count": 100,
   "metadata": {},
   "outputs": [
    {
     "data": {
      "text/plain": [
       "'alpha: 0.003091541541541542, train_score: 0.9025526477834349, test_score: 0.8990561250428529'"
      ]
     },
     "execution_count": 100,
     "metadata": {},
     "output_type": "execute_result"
    }
   ],
   "source": [
    "alpha_ind = lasso_test.index(max(lasso_test))\n",
    "f'alpha: {alphas[alpha_ind]}, train_score: {lasso_train[alpha_ind]}, test_score: {lasso_test[alpha_ind]}'"
   ]
  },
  {
   "cell_type": "code",
   "execution_count": 101,
   "metadata": {},
   "outputs": [
    {
     "name": "stdout",
     "output_type": "stream",
     "text": [
      "0.9016065478629821\n",
      "0.9105035478970561\n"
     ]
    }
   ],
   "source": [
    "Xtrain = sc.fit_transform(Xtrain)\n",
    "Xtest = sc.transform(Xtest)\n",
    "lasso = Lasso()\n",
    "lasso.set_params(alpha = alphas[alpha_ind])\n",
    "lasso.fit(Xtrain,ytrain)\n",
    "\n",
    "lasso_train_results = lasso.score(Xtrain,ytrain)\n",
    "lasso_test_results = lasso.score(Xtest,ytest)\n",
    "print(lasso_train_results)\n",
    "print(lasso_test_results)"
   ]
  },
  {
   "cell_type": "code",
   "execution_count": null,
   "metadata": {},
   "outputs": [],
   "source": []
  },
  {
   "cell_type": "code",
   "execution_count": 102,
   "metadata": {},
   "outputs": [
    {
     "name": "stdout",
     "output_type": "stream",
     "text": [
      "MLR training score: 0.9030691172957819\n",
      "MLR testing score: 0.9123494537084216\n",
      "RMSE: 0.11953159240933472\n"
     ]
    }
   ],
   "source": [
    "from sklearn.linear_model import LinearRegression\n",
    "ols = LinearRegression()\n",
    "\n",
    "ols.fit(Xtrain,ytrain)\n",
    "\n",
    "print(f'MLR training score: {ols.score(Xtrain,ytrain)}')\n",
    "print(f'MLR testing score: {ols.score(Xtest,ytest)}')\n",
    "\n",
    "from sklearn.metrics import mean_squared_error\n",
    "y_pred = ols.predict(Xtest)\n",
    "RMSE = mean_squared_error(ytest,y_pred,squared = False)\n",
    "print(f'RMSE: {RMSE}')"
   ]
  },
  {
   "cell_type": "code",
   "execution_count": null,
   "metadata": {
    "scrolled": true
   },
   "outputs": [],
   "source": []
  },
  {
   "cell_type": "code",
   "execution_count": 103,
   "metadata": {},
   "outputs": [
    {
     "data": {
      "text/plain": [
       "Index(['MasVnrArea', 'ExterCond', 'BsmtUnfSF', '2ndFlrSF', 'BsmtHalfBath',\n",
       "       'HalfBath', 'BedroomAbvGr', 'GarageQual', 'OpenPorchSF', 'PoolArea',\n",
       "       'PoolQC', 'MiscFeature', 'MiscVal', 'MoSold'],\n",
       "      dtype='object')"
      ]
     },
     "execution_count": 103,
     "metadata": {},
     "output_type": "execute_result"
    }
   ],
   "source": [
    "coefs = lasso.coef_\n",
    "zero_idx = np.where(coefs == 0)\n",
    "numeric_features_filled.columns[zero_idx]"
   ]
  },
  {
   "cell_type": "code",
   "execution_count": 104,
   "metadata": {
    "scrolled": true
   },
   "outputs": [
    {
     "name": "stdout",
     "output_type": "stream",
     "text": [
      "MasVnrArea:   0.11304098074566218\n",
      "ExterCond:   0.02038461247741132\n",
      "BsmtUnfSF:   0.01935301199544194\n",
      "2ndFlrSF:   -0.0019591162030195915\n",
      "BsmtHalfBath:   0.0014373113645371753\n",
      "HalfBath:   0.09122834616444532\n",
      "BedroomAbvGr:   0.0455425717943845\n",
      "GarageQual:   0.053434680994951404\n",
      "OpenPorchSF:   0.007728193919901596\n",
      "PoolArea:   0.0\n",
      "PoolQC:   0.015381943580624982\n",
      "MiscFeature:   0.0\n",
      "MiscVal:   0.015890150747232074\n",
      "MoSold:   0.0015124571051325774\n"
     ]
    }
   ],
   "source": [
    "for col, coef in zip(numeric_features_filled.columns[zero_idx], lasso.coef_):\n",
    "    print(f'{col}:   {coef}')"
   ]
  },
  {
   "cell_type": "markdown",
   "metadata": {},
   "source": [
    "# Drop Features Post-lasso"
   ]
  },
  {
   "cell_type": "code",
   "execution_count": 105,
   "metadata": {},
   "outputs": [],
   "source": [
    "post_lasso = numeric_features_filled.drop(numeric_features_filled.columns[zero_idx],axis = 1)"
   ]
  },
  {
   "cell_type": "code",
   "execution_count": 106,
   "metadata": {},
   "outputs": [
    {
     "name": "stdout",
     "output_type": "stream",
     "text": [
      "36\n",
      "50\n"
     ]
    }
   ],
   "source": [
    "print(len(post_lasso.columns))\n",
    "\n",
    "print(len(numeric_features_filled.columns))"
   ]
  },
  {
   "cell_type": "code",
   "execution_count": 107,
   "metadata": {},
   "outputs": [
    {
     "data": {
      "text/plain": [
       "LinearRegression()"
      ]
     },
     "execution_count": 107,
     "metadata": {},
     "output_type": "execute_result"
    }
   ],
   "source": [
    "Xtrain,Xtest,ytrain,ytest = train_test_split(post_lasso,y_price)\n",
    "\n",
    "Xtrain = sc.fit_transform(Xtrain)\n",
    "Xtest = sc.transform(Xtest)\n",
    "\n",
    "\n",
    "ols2 = LinearRegression()\n",
    "ols2.fit(Xtrain,ytrain)"
   ]
  },
  {
   "cell_type": "code",
   "execution_count": 108,
   "metadata": {},
   "outputs": [
    {
     "name": "stdout",
     "output_type": "stream",
     "text": [
      "Post-lasso training score: 0.900720554249796\n",
      "Post-lasso testing score: 0.9190157910060327\n",
      "Post-lasso RMSE: 0.10906942107289351\n"
     ]
    }
   ],
   "source": [
    "print(f'Post-lasso training score: {ols2.score(Xtrain,ytrain)}')\n",
    "print(f'Post-lasso testing score: {ols2.score(Xtest,ytest)}')\n",
    "\n",
    "y_pred = ols2.predict(Xtest)\n",
    "RMSE = mean_squared_error(ytest,y_pred,squared=False)\n",
    "print(f'Post-lasso RMSE: {RMSE}')"
   ]
  },
  {
   "cell_type": "code",
   "execution_count": 109,
   "metadata": {},
   "outputs": [],
   "source": [
    "pipe = Pipeline(steps = [('ss',StandardScaler()),('ols',LinearRegression())])\n",
    "cv_res2 =cross_validate(pipe, post_lasso,y_price ,cv = cv, return_train_score = True)"
   ]
  },
  {
   "cell_type": "code",
   "execution_count": 110,
   "metadata": {},
   "outputs": [
    {
     "name": "stdout",
     "output_type": "stream",
     "text": [
      "Testing score: 0.9005710163869187\n",
      "Training score: 0.9062282384071016\n"
     ]
    }
   ],
   "source": [
    "print(f\"Testing score: {cv_res2['test_score'].mean()}\")\n",
    "print(f\"Training score: {cv_res2['train_score'].mean()}\")"
   ]
  },
  {
   "cell_type": "code",
   "execution_count": 111,
   "metadata": {},
   "outputs": [
    {
     "data": {
      "text/plain": [
       "{'fit_time': array([0.01270175, 0.00819874, 0.00806904, 0.00699592, 0.00706816]),\n",
       " 'score_time': array([0.00220919, 0.00219226, 0.00217605, 0.00222111, 0.00386095]),\n",
       " 'test_score': array([0.91940237, 0.91169805, 0.89021717, 0.91722227, 0.86431523]),\n",
       " 'train_score': array([0.90133109, 0.90388443, 0.90880258, 0.90263792, 0.91448518])}"
      ]
     },
     "execution_count": 111,
     "metadata": {},
     "output_type": "execute_result"
    }
   ],
   "source": [
    "cv_res2"
   ]
  },
  {
   "cell_type": "code",
   "execution_count": null,
   "metadata": {},
   "outputs": [],
   "source": []
  },
  {
   "cell_type": "code",
   "execution_count": 112,
   "metadata": {},
   "outputs": [
    {
     "ename": "ModuleNotFoundError",
     "evalue": "No module named 'yellowbrick'",
     "output_type": "error",
     "traceback": [
      "\u001b[0;31m---------------------------------------------------------------------------\u001b[0m",
      "\u001b[0;31mModuleNotFoundError\u001b[0m                       Traceback (most recent call last)",
      "\u001b[0;32m<ipython-input-112-03f3eaf772da>\u001b[0m in \u001b[0;36m<module>\u001b[0;34m\u001b[0m\n\u001b[0;32m----> 1\u001b[0;31m \u001b[0;32mfrom\u001b[0m \u001b[0myellowbrick\u001b[0m\u001b[0;34m.\u001b[0m\u001b[0mregressor\u001b[0m \u001b[0;32mimport\u001b[0m \u001b[0mResidualsPlot\u001b[0m\u001b[0;34m\u001b[0m\u001b[0;34m\u001b[0m\u001b[0m\n\u001b[0m\u001b[1;32m      2\u001b[0m \u001b[0mols2\u001b[0m \u001b[0;34m=\u001b[0m \u001b[0mLinearRegression\u001b[0m\u001b[0;34m(\u001b[0m\u001b[0;34m)\u001b[0m\u001b[0;34m\u001b[0m\u001b[0;34m\u001b[0m\u001b[0m\n\u001b[1;32m      3\u001b[0m \u001b[0mvisualizer\u001b[0m \u001b[0;34m=\u001b[0m \u001b[0mResidualsPlot\u001b[0m\u001b[0;34m(\u001b[0m\u001b[0mols2\u001b[0m\u001b[0;34m)\u001b[0m\u001b[0;34m\u001b[0m\u001b[0;34m\u001b[0m\u001b[0m\n\u001b[1;32m      4\u001b[0m \u001b[0mvisualizer\u001b[0m\u001b[0;34m.\u001b[0m\u001b[0mfit\u001b[0m\u001b[0;34m(\u001b[0m\u001b[0mXtrain\u001b[0m\u001b[0;34m,\u001b[0m \u001b[0mytrain\u001b[0m\u001b[0;34m)\u001b[0m\u001b[0;34m\u001b[0m\u001b[0;34m\u001b[0m\u001b[0m\n\u001b[1;32m      5\u001b[0m \u001b[0mvisualizer\u001b[0m\u001b[0;34m.\u001b[0m\u001b[0mscore\u001b[0m\u001b[0;34m(\u001b[0m\u001b[0mXtest\u001b[0m\u001b[0;34m,\u001b[0m \u001b[0mytest\u001b[0m\u001b[0;34m)\u001b[0m\u001b[0;34m\u001b[0m\u001b[0;34m\u001b[0m\u001b[0m\n",
      "\u001b[0;31mModuleNotFoundError\u001b[0m: No module named 'yellowbrick'"
     ]
    }
   ],
   "source": [
    "from yellowbrick.regressor import ResidualsPlot\n",
    "ols2 = LinearRegression()\n",
    "visualizer = ResidualsPlot(ols2)\n",
    "visualizer.fit(Xtrain, ytrain) \n",
    "visualizer.score(Xtest, ytest)  \n",
    "visualizer.show() "
   ]
  },
  {
   "cell_type": "code",
   "execution_count": null,
   "metadata": {},
   "outputs": [],
   "source": []
  },
  {
   "cell_type": "markdown",
   "metadata": {},
   "source": [
    "## Gradient Boosting"
   ]
  },
  {
   "cell_type": "code",
   "execution_count": null,
   "metadata": {},
   "outputs": [],
   "source": [
    "from sklearn.ensemble import GradientBoostingRegressor\n",
    "\n",
    "gBoost = GradientBoostingRegressor()\n",
    "\n",
    "from sklearn.model_selection import GridSearchCV\n",
    "# search_grid={'n_estimators':[500,1000,2000],'learning_rate':[.001,0.01,.1],'max_depth':[1,2,4],'subsample':[.5,.75,1],'random_state':[1]}\n",
    "# search=GridSearchCV(estimator=gBoost,param_grid=search_grid,n_jobs=1,cv=cv)\n",
    "# search.fit(Xtrain,ytrain)\n",
    "\n",
    "# search.best_params_"
   ]
  },
  {
   "cell_type": "code",
   "execution_count": null,
   "metadata": {},
   "outputs": [],
   "source": [
    "# gBoost.set_params()\n",
    "gBoost.fit(Xtrain,ytrain)\n",
    "print(gBoost.score(Xtrain,ytrain))\n",
    "print(gBoost.score(Xtest,ytest))\n",
    "\n",
    "y_pred = gBoost.predict(Xtest)\n",
    "RMSE = mean_squared_error(ytest,y_pred,squared = False)\n",
    "print(f'Gradient Boosting RMSE: {RMSE}')"
   ]
  },
  {
   "cell_type": "markdown",
   "metadata": {},
   "source": [
    "<p>After selecting features with lasso, Linear regression R2 was .91, while a default GradientBoostingRegressor yielded .905</p>"
   ]
  },
  {
   "cell_type": "markdown",
   "metadata": {},
   "source": [
    "# Descriptive Model"
   ]
  },
  {
   "cell_type": "code",
   "execution_count": null,
   "metadata": {
    "scrolled": true
   },
   "outputs": [],
   "source": [
    "for col, coef in zip(post_lasso.columns, ols2.coef_):\n",
    "    print(f'{col}:   {coef}')"
   ]
  },
  {
   "cell_type": "code",
   "execution_count": null,
   "metadata": {},
   "outputs": [],
   "source": [
    "plt.figure(figsize = (15,10))\n",
    "plt.plot(list(range(len(post_lasso.columns))),ols2.coef_)\n",
    "plt.xticks(list(range(len(post_lasso.columns))),labels = post_lasso.columns, rotation = 90)\n",
    "plt.title('Standardized feature betas in log(SalePrice) linear model', fontsize = 15, fontweight = 'bold')"
   ]
  },
  {
   "cell_type": "markdown",
   "metadata": {},
   "source": [
    "<p>Most influential features in the linear model are GrLivArea, OverallQual, OverallCond, and YearBuilt</p>"
   ]
  },
  {
   "cell_type": "code",
   "execution_count": null,
   "metadata": {},
   "outputs": [],
   "source": []
  },
  {
   "cell_type": "code",
   "execution_count": null,
   "metadata": {},
   "outputs": [],
   "source": []
  },
  {
   "cell_type": "code",
   "execution_count": null,
   "metadata": {},
   "outputs": [],
   "source": [
    "from math import exp\n",
    "test = sc.transform(post_lasso.iloc[8].values.reshape(-1,len(post_lasso.columns)))\n",
    "137500 - exp(ols2.predict(test))"
   ]
  },
  {
   "cell_type": "code",
   "execution_count": null,
   "metadata": {},
   "outputs": [],
   "source": [
    "res = []\n",
    "obs = list(map(exp, ytest))\n",
    "exp = list(map(exp,y_pred))\n",
    "for i in range(len(obs)):\n",
    "    res.append(abs(obs[i]-exp[i]))"
   ]
  },
  {
   "cell_type": "code",
   "execution_count": null,
   "metadata": {},
   "outputs": [],
   "source": [
    "print(f'Average predicted price was off by ${np.mean(res)}')\n",
    "print(f'Closest prediction to actual price was ${np.min(res)}')\n",
    "print(f'Furthest prediction to actual price was ${np.max(res)}')"
   ]
  },
  {
   "cell_type": "code",
   "execution_count": null,
   "metadata": {},
   "outputs": [],
   "source": [
    "estate_data = estate[['PID','SalePrice','coord','dist_stadium','dist_downtown','dist_airport']]\n",
    "geo_price_data = pd.merge(prices, estate_data, on = ['PID','SalePrice'],how = 'inner')"
   ]
  },
  {
   "cell_type": "code",
   "execution_count": null,
   "metadata": {},
   "outputs": [],
   "source": [
    "new = geo_price_data[\"coord\"].str.replace('(', '').str.replace(')', '').str.split(\",\", n = 1, expand = True)\n",
    "geo_price_data['latitude']= new[0]\n",
    "geo_price_data['longitude']= new[1]\n",
    "\n",
    "geo_price_data['latitude'] = pd.to_numeric(geo_price_data['latitude'])\n",
    "geo_price_data['longitude'] = pd.to_numeric(geo_price_data['longitude'])"
   ]
  },
  {
   "cell_type": "markdown",
   "metadata": {},
   "source": [
    "# Random forest"
   ]
  },
  {
   "cell_type": "code",
   "execution_count": 250,
   "metadata": {},
   "outputs": [
    {
     "data": {
      "text/plain": [
       "Index(['PID', 'GrLivArea', 'SalePrice', 'MSSubClass', 'MSZoning',\n",
       "       'LotFrontage', 'LotArea', 'Street', 'Alley', 'LotShape', 'LandContour',\n",
       "       'Utilities', 'LotConfig', 'LandSlope', 'Neighborhood', 'Condition1',\n",
       "       'Condition2', 'BldgType', 'HouseStyle', 'OverallQual', 'OverallCond',\n",
       "       'YearBuilt', 'YearRemodAdd', 'RoofStyle', 'RoofMatl', 'Exterior1st',\n",
       "       'Exterior2nd', 'MasVnrType', 'MasVnrArea', 'ExterQual', 'ExterCond',\n",
       "       'Foundation', 'BsmtQual', 'BsmtCond', 'BsmtExposure', 'BsmtFinType1',\n",
       "       'BsmtFinSF1', 'BsmtFinType2', 'BsmtFinSF2', 'BsmtUnfSF', 'TotalBsmtSF',\n",
       "       'Heating', 'HeatingQC', 'CentralAir', 'Electrical', '1stFlrSF',\n",
       "       '2ndFlrSF', 'LowQualFinSF', 'BsmtFullBath', 'BsmtHalfBath', 'FullBath',\n",
       "       'HalfBath', 'BedroomAbvGr', 'KitchenAbvGr', 'KitchenQual',\n",
       "       'TotRmsAbvGrd', 'Functional', 'Fireplaces', 'FireplaceQu', 'GarageType',\n",
       "       'GarageYrBlt', 'GarageFinish', 'GarageCars', 'GarageArea', 'GarageQual',\n",
       "       'GarageCond', 'PavedDrive', 'WoodDeckSF', 'OpenPorchSF',\n",
       "       'EnclosedPorch', '3SsnPorch', 'ScreenPorch', 'PoolArea', 'PoolQC',\n",
       "       'Fence', 'MiscFeature', 'MiscVal', 'MoSold', 'YrSold', 'SaleType',\n",
       "       'SaleCondition', 'Price_sqft'],\n",
       "      dtype='object')"
      ]
     },
     "execution_count": 250,
     "metadata": {},
     "output_type": "execute_result"
    }
   ],
   "source": [
    "new_prices.columns"
   ]
  },
  {
   "cell_type": "code",
   "execution_count": 251,
   "metadata": {},
   "outputs": [
    {
     "data": {
      "text/html": [
       "<div>\n",
       "<style scoped>\n",
       "    .dataframe tbody tr th:only-of-type {\n",
       "        vertical-align: middle;\n",
       "    }\n",
       "\n",
       "    .dataframe tbody tr th {\n",
       "        vertical-align: top;\n",
       "    }\n",
       "\n",
       "    .dataframe thead th {\n",
       "        text-align: right;\n",
       "    }\n",
       "</style>\n",
       "<table border=\"1\" class=\"dataframe\">\n",
       "  <thead>\n",
       "    <tr style=\"text-align: right;\">\n",
       "      <th></th>\n",
       "      <th>PID</th>\n",
       "      <th>GrLivArea</th>\n",
       "      <th>SalePrice</th>\n",
       "      <th>MSSubClass</th>\n",
       "      <th>MSZoning</th>\n",
       "      <th>LotFrontage</th>\n",
       "      <th>LotArea</th>\n",
       "      <th>Street</th>\n",
       "      <th>Alley</th>\n",
       "      <th>LotShape</th>\n",
       "      <th>...</th>\n",
       "      <th>PoolArea</th>\n",
       "      <th>PoolQC</th>\n",
       "      <th>Fence</th>\n",
       "      <th>MiscFeature</th>\n",
       "      <th>MiscVal</th>\n",
       "      <th>MoSold</th>\n",
       "      <th>YrSold</th>\n",
       "      <th>SaleType</th>\n",
       "      <th>SaleCondition</th>\n",
       "      <th>Price_sqft</th>\n",
       "    </tr>\n",
       "  </thead>\n",
       "  <tbody>\n",
       "    <tr>\n",
       "      <th>0</th>\n",
       "      <td>909176150</td>\n",
       "      <td>856</td>\n",
       "      <td>126000</td>\n",
       "      <td>30</td>\n",
       "      <td>RL</td>\n",
       "      <td>58.769231</td>\n",
       "      <td>7890</td>\n",
       "      <td>0</td>\n",
       "      <td>1</td>\n",
       "      <td>Reg</td>\n",
       "      <td>...</td>\n",
       "      <td>0</td>\n",
       "      <td>1</td>\n",
       "      <td>1</td>\n",
       "      <td>0</td>\n",
       "      <td>0</td>\n",
       "      <td>3</td>\n",
       "      <td>2010</td>\n",
       "      <td>WD</td>\n",
       "      <td>Normal</td>\n",
       "      <td>147.196262</td>\n",
       "    </tr>\n",
       "    <tr>\n",
       "      <th>1</th>\n",
       "      <td>905476230</td>\n",
       "      <td>1049</td>\n",
       "      <td>139500</td>\n",
       "      <td>120</td>\n",
       "      <td>RL</td>\n",
       "      <td>42.000000</td>\n",
       "      <td>4235</td>\n",
       "      <td>0</td>\n",
       "      <td>1</td>\n",
       "      <td>Reg</td>\n",
       "      <td>...</td>\n",
       "      <td>0</td>\n",
       "      <td>1</td>\n",
       "      <td>1</td>\n",
       "      <td>0</td>\n",
       "      <td>0</td>\n",
       "      <td>2</td>\n",
       "      <td>2009</td>\n",
       "      <td>WD</td>\n",
       "      <td>Normal</td>\n",
       "      <td>132.983794</td>\n",
       "    </tr>\n",
       "    <tr>\n",
       "      <th>2</th>\n",
       "      <td>911128020</td>\n",
       "      <td>1001</td>\n",
       "      <td>124900</td>\n",
       "      <td>30</td>\n",
       "      <td>C (all)</td>\n",
       "      <td>60.000000</td>\n",
       "      <td>6060</td>\n",
       "      <td>0</td>\n",
       "      <td>1</td>\n",
       "      <td>Reg</td>\n",
       "      <td>...</td>\n",
       "      <td>0</td>\n",
       "      <td>1</td>\n",
       "      <td>1</td>\n",
       "      <td>0</td>\n",
       "      <td>0</td>\n",
       "      <td>11</td>\n",
       "      <td>2007</td>\n",
       "      <td>WD</td>\n",
       "      <td>Normal</td>\n",
       "      <td>124.775225</td>\n",
       "    </tr>\n",
       "    <tr>\n",
       "      <th>3</th>\n",
       "      <td>535377150</td>\n",
       "      <td>1039</td>\n",
       "      <td>114000</td>\n",
       "      <td>70</td>\n",
       "      <td>RL</td>\n",
       "      <td>80.000000</td>\n",
       "      <td>8146</td>\n",
       "      <td>0</td>\n",
       "      <td>1</td>\n",
       "      <td>Reg</td>\n",
       "      <td>...</td>\n",
       "      <td>0</td>\n",
       "      <td>1</td>\n",
       "      <td>1</td>\n",
       "      <td>0</td>\n",
       "      <td>0</td>\n",
       "      <td>5</td>\n",
       "      <td>2009</td>\n",
       "      <td>WD</td>\n",
       "      <td>Normal</td>\n",
       "      <td>109.720885</td>\n",
       "    </tr>\n",
       "    <tr>\n",
       "      <th>4</th>\n",
       "      <td>534177230</td>\n",
       "      <td>1665</td>\n",
       "      <td>227000</td>\n",
       "      <td>60</td>\n",
       "      <td>RL</td>\n",
       "      <td>70.000000</td>\n",
       "      <td>8400</td>\n",
       "      <td>0</td>\n",
       "      <td>1</td>\n",
       "      <td>Reg</td>\n",
       "      <td>...</td>\n",
       "      <td>0</td>\n",
       "      <td>1</td>\n",
       "      <td>1</td>\n",
       "      <td>0</td>\n",
       "      <td>0</td>\n",
       "      <td>11</td>\n",
       "      <td>2009</td>\n",
       "      <td>WD</td>\n",
       "      <td>Normal</td>\n",
       "      <td>136.336336</td>\n",
       "    </tr>\n",
       "    <tr>\n",
       "      <th>...</th>\n",
       "      <td>...</td>\n",
       "      <td>...</td>\n",
       "      <td>...</td>\n",
       "      <td>...</td>\n",
       "      <td>...</td>\n",
       "      <td>...</td>\n",
       "      <td>...</td>\n",
       "      <td>...</td>\n",
       "      <td>...</td>\n",
       "      <td>...</td>\n",
       "      <td>...</td>\n",
       "      <td>...</td>\n",
       "      <td>...</td>\n",
       "      <td>...</td>\n",
       "      <td>...</td>\n",
       "      <td>...</td>\n",
       "      <td>...</td>\n",
       "      <td>...</td>\n",
       "      <td>...</td>\n",
       "      <td>...</td>\n",
       "      <td>...</td>\n",
       "    </tr>\n",
       "    <tr>\n",
       "      <th>2575</th>\n",
       "      <td>903205040</td>\n",
       "      <td>952</td>\n",
       "      <td>121000</td>\n",
       "      <td>30</td>\n",
       "      <td>RL</td>\n",
       "      <td>55.945652</td>\n",
       "      <td>8854</td>\n",
       "      <td>0</td>\n",
       "      <td>1</td>\n",
       "      <td>Reg</td>\n",
       "      <td>...</td>\n",
       "      <td>0</td>\n",
       "      <td>1</td>\n",
       "      <td>1</td>\n",
       "      <td>0</td>\n",
       "      <td>0</td>\n",
       "      <td>5</td>\n",
       "      <td>2009</td>\n",
       "      <td>WD</td>\n",
       "      <td>Normal</td>\n",
       "      <td>127.100840</td>\n",
       "    </tr>\n",
       "    <tr>\n",
       "      <th>2576</th>\n",
       "      <td>905402060</td>\n",
       "      <td>1733</td>\n",
       "      <td>139600</td>\n",
       "      <td>20</td>\n",
       "      <td>RL</td>\n",
       "      <td>65.490066</td>\n",
       "      <td>13680</td>\n",
       "      <td>0</td>\n",
       "      <td>1</td>\n",
       "      <td>IR1</td>\n",
       "      <td>...</td>\n",
       "      <td>0</td>\n",
       "      <td>1</td>\n",
       "      <td>1</td>\n",
       "      <td>0</td>\n",
       "      <td>0</td>\n",
       "      <td>6</td>\n",
       "      <td>2009</td>\n",
       "      <td>WD</td>\n",
       "      <td>Normal</td>\n",
       "      <td>80.553953</td>\n",
       "    </tr>\n",
       "    <tr>\n",
       "      <th>2577</th>\n",
       "      <td>909275030</td>\n",
       "      <td>2002</td>\n",
       "      <td>145000</td>\n",
       "      <td>90</td>\n",
       "      <td>RH</td>\n",
       "      <td>82.000000</td>\n",
       "      <td>6270</td>\n",
       "      <td>0</td>\n",
       "      <td>1</td>\n",
       "      <td>Reg</td>\n",
       "      <td>...</td>\n",
       "      <td>0</td>\n",
       "      <td>1</td>\n",
       "      <td>1</td>\n",
       "      <td>0</td>\n",
       "      <td>0</td>\n",
       "      <td>8</td>\n",
       "      <td>2007</td>\n",
       "      <td>WD</td>\n",
       "      <td>Normal</td>\n",
       "      <td>72.427572</td>\n",
       "    </tr>\n",
       "    <tr>\n",
       "      <th>2578</th>\n",
       "      <td>907192040</td>\n",
       "      <td>1842</td>\n",
       "      <td>217500</td>\n",
       "      <td>60</td>\n",
       "      <td>RL</td>\n",
       "      <td>69.978947</td>\n",
       "      <td>8826</td>\n",
       "      <td>0</td>\n",
       "      <td>1</td>\n",
       "      <td>Reg</td>\n",
       "      <td>...</td>\n",
       "      <td>0</td>\n",
       "      <td>1</td>\n",
       "      <td>1</td>\n",
       "      <td>0</td>\n",
       "      <td>0</td>\n",
       "      <td>7</td>\n",
       "      <td>2007</td>\n",
       "      <td>WD</td>\n",
       "      <td>Normal</td>\n",
       "      <td>118.078176</td>\n",
       "    </tr>\n",
       "    <tr>\n",
       "      <th>2579</th>\n",
       "      <td>906223180</td>\n",
       "      <td>1911</td>\n",
       "      <td>215000</td>\n",
       "      <td>60</td>\n",
       "      <td>RL</td>\n",
       "      <td>80.000000</td>\n",
       "      <td>9554</td>\n",
       "      <td>0</td>\n",
       "      <td>1</td>\n",
       "      <td>IR1</td>\n",
       "      <td>...</td>\n",
       "      <td>0</td>\n",
       "      <td>1</td>\n",
       "      <td>1</td>\n",
       "      <td>0</td>\n",
       "      <td>0</td>\n",
       "      <td>9</td>\n",
       "      <td>2006</td>\n",
       "      <td>WD</td>\n",
       "      <td>Normal</td>\n",
       "      <td>112.506541</td>\n",
       "    </tr>\n",
       "  </tbody>\n",
       "</table>\n",
       "<p>2569 rows × 82 columns</p>\n",
       "</div>"
      ],
      "text/plain": [
       "            PID  GrLivArea  SalePrice  MSSubClass MSZoning  LotFrontage  \\\n",
       "0     909176150        856     126000          30       RL    58.769231   \n",
       "1     905476230       1049     139500         120       RL    42.000000   \n",
       "2     911128020       1001     124900          30  C (all)    60.000000   \n",
       "3     535377150       1039     114000          70       RL    80.000000   \n",
       "4     534177230       1665     227000          60       RL    70.000000   \n",
       "...         ...        ...        ...         ...      ...          ...   \n",
       "2575  903205040        952     121000          30       RL    55.945652   \n",
       "2576  905402060       1733     139600          20       RL    65.490066   \n",
       "2577  909275030       2002     145000          90       RH    82.000000   \n",
       "2578  907192040       1842     217500          60       RL    69.978947   \n",
       "2579  906223180       1911     215000          60       RL    80.000000   \n",
       "\n",
       "      LotArea  Street Alley LotShape  ... PoolArea  PoolQC Fence MiscFeature  \\\n",
       "0        7890       0     1      Reg  ...        0       1     1           0   \n",
       "1        4235       0     1      Reg  ...        0       1     1           0   \n",
       "2        6060       0     1      Reg  ...        0       1     1           0   \n",
       "3        8146       0     1      Reg  ...        0       1     1           0   \n",
       "4        8400       0     1      Reg  ...        0       1     1           0   \n",
       "...       ...     ...   ...      ...  ...      ...     ...   ...         ...   \n",
       "2575     8854       0     1      Reg  ...        0       1     1           0   \n",
       "2576    13680       0     1      IR1  ...        0       1     1           0   \n",
       "2577     6270       0     1      Reg  ...        0       1     1           0   \n",
       "2578     8826       0     1      Reg  ...        0       1     1           0   \n",
       "2579     9554       0     1      IR1  ...        0       1     1           0   \n",
       "\n",
       "     MiscVal MoSold YrSold SaleType SaleCondition  Price_sqft  \n",
       "0          0      3   2010      WD         Normal  147.196262  \n",
       "1          0      2   2009      WD         Normal  132.983794  \n",
       "2          0     11   2007      WD         Normal  124.775225  \n",
       "3          0      5   2009      WD         Normal  109.720885  \n",
       "4          0     11   2009      WD         Normal  136.336336  \n",
       "...      ...    ...    ...      ...           ...         ...  \n",
       "2575       0      5   2009      WD         Normal  127.100840  \n",
       "2576       0      6   2009      WD         Normal   80.553953  \n",
       "2577       0      8   2007      WD         Normal   72.427572  \n",
       "2578       0      7   2007      WD         Normal  118.078176  \n",
       "2579       0      9   2006      WD         Normal  112.506541  \n",
       "\n",
       "[2569 rows x 82 columns]"
      ]
     },
     "execution_count": 251,
     "metadata": {},
     "output_type": "execute_result"
    }
   ],
   "source": [
    "new_prices"
   ]
  },
  {
   "cell_type": "code",
   "execution_count": 252,
   "metadata": {},
   "outputs": [],
   "source": [
    "new_prices.drop_duplicates(subset= None, keep='first', inplace=True, ignore_index=False)"
   ]
  },
  {
   "cell_type": "code",
   "execution_count": 253,
   "metadata": {},
   "outputs": [
    {
     "data": {
      "text/plain": [
       "(2568, 82)"
      ]
     },
     "execution_count": 253,
     "metadata": {},
     "output_type": "execute_result"
    }
   ],
   "source": [
    "new_prices.shape"
   ]
  },
  {
   "cell_type": "code",
   "execution_count": 254,
   "metadata": {},
   "outputs": [
    {
     "data": {
      "text/html": [
       "<div>\n",
       "<style scoped>\n",
       "    .dataframe tbody tr th:only-of-type {\n",
       "        vertical-align: middle;\n",
       "    }\n",
       "\n",
       "    .dataframe tbody tr th {\n",
       "        vertical-align: top;\n",
       "    }\n",
       "\n",
       "    .dataframe thead th {\n",
       "        text-align: right;\n",
       "    }\n",
       "</style>\n",
       "<table border=\"1\" class=\"dataframe\">\n",
       "  <thead>\n",
       "    <tr style=\"text-align: right;\">\n",
       "      <th></th>\n",
       "      <th>PID</th>\n",
       "      <th>lat</th>\n",
       "      <th>lon</th>\n",
       "      <th>dist_stadium</th>\n",
       "      <th>dist_downtown</th>\n",
       "      <th>dist_airport</th>\n",
       "      <th>coord</th>\n",
       "    </tr>\n",
       "  </thead>\n",
       "  <tbody>\n",
       "    <tr>\n",
       "      <th>0</th>\n",
       "      <td>526301100</td>\n",
       "      <td>42.053808</td>\n",
       "      <td>-93.618344</td>\n",
       "      <td>4.417461</td>\n",
       "      <td>3.210441</td>\n",
       "      <td>6.102121</td>\n",
       "      <td>(42.053808, -93.618344)</td>\n",
       "    </tr>\n",
       "    <tr>\n",
       "      <th>1</th>\n",
       "      <td>526302030</td>\n",
       "      <td>42.053668</td>\n",
       "      <td>-93.618459</td>\n",
       "      <td>4.399660</td>\n",
       "      <td>3.196132</td>\n",
       "      <td>6.086080</td>\n",
       "      <td>(42.053668, -93.618459)</td>\n",
       "    </tr>\n",
       "    <tr>\n",
       "      <th>2</th>\n",
       "      <td>526302040</td>\n",
       "      <td>42.053578</td>\n",
       "      <td>-93.618276</td>\n",
       "      <td>4.395200</td>\n",
       "      <td>3.184448</td>\n",
       "      <td>6.076963</td>\n",
       "      <td>(42.05357834520508, -93.61827582597934)</td>\n",
       "    </tr>\n",
       "    <tr>\n",
       "      <th>3</th>\n",
       "      <td>526302110</td>\n",
       "      <td>42.052841</td>\n",
       "      <td>-93.618633</td>\n",
       "      <td>4.308096</td>\n",
       "      <td>3.106740</td>\n",
       "      <td>5.993553</td>\n",
       "      <td>(42.05284062808919, -93.61863289727206)</td>\n",
       "    </tr>\n",
       "    <tr>\n",
       "      <th>4</th>\n",
       "      <td>526302120</td>\n",
       "      <td>42.052853</td>\n",
       "      <td>-93.618678</td>\n",
       "      <td>4.308129</td>\n",
       "      <td>3.108530</td>\n",
       "      <td>5.994682</td>\n",
       "      <td>(42.05285252734815, -93.61867770937495)</td>\n",
       "    </tr>\n",
       "  </tbody>\n",
       "</table>\n",
       "</div>"
      ],
      "text/plain": [
       "         PID        lat        lon  dist_stadium  dist_downtown  dist_airport  \\\n",
       "0  526301100  42.053808 -93.618344      4.417461       3.210441      6.102121   \n",
       "1  526302030  42.053668 -93.618459      4.399660       3.196132      6.086080   \n",
       "2  526302040  42.053578 -93.618276      4.395200       3.184448      6.076963   \n",
       "3  526302110  42.052841 -93.618633      4.308096       3.106740      5.993553   \n",
       "4  526302120  42.052853 -93.618678      4.308129       3.108530      5.994682   \n",
       "\n",
       "                                     coord  \n",
       "0                  (42.053808, -93.618344)  \n",
       "1                  (42.053668, -93.618459)  \n",
       "2  (42.05357834520508, -93.61827582597934)  \n",
       "3  (42.05284062808919, -93.61863289727206)  \n",
       "4  (42.05285252734815, -93.61867770937495)  "
      ]
     },
     "execution_count": 254,
     "metadata": {},
     "output_type": "execute_result"
    }
   ],
   "source": [
    "latlon = pd.read_csv('data/full_latlon.csv')\n",
    "latlon.head()"
   ]
  },
  {
   "cell_type": "code",
   "execution_count": 255,
   "metadata": {},
   "outputs": [],
   "source": [
    "full_prices = new_prices.copy()\n",
    "full_prices = pd.merge(new_prices, latlon, how='inner', left_on = 'PID', right_on = 'PID' )\n",
    "full_prices.drop(columns = 'coord', inplace = True)"
   ]
  },
  {
   "cell_type": "code",
   "execution_count": 256,
   "metadata": {},
   "outputs": [
    {
     "name": "stdout",
     "output_type": "stream",
     "text": [
      "<class 'pandas.core.frame.DataFrame'>\n",
      "Int64Index: 2615 entries, 0 to 2614\n",
      "Data columns (total 87 columns):\n",
      " #   Column         Non-Null Count  Dtype  \n",
      "---  ------         --------------  -----  \n",
      " 0   PID            2615 non-null   int64  \n",
      " 1   GrLivArea      2615 non-null   int64  \n",
      " 2   SalePrice      2615 non-null   int64  \n",
      " 3   MSSubClass     2615 non-null   int64  \n",
      " 4   MSZoning       2615 non-null   object \n",
      " 5   LotFrontage    2615 non-null   float64\n",
      " 6   LotArea        2615 non-null   int64  \n",
      " 7   Street         2615 non-null   int64  \n",
      " 8   Alley          2615 non-null   object \n",
      " 9   LotShape       2615 non-null   object \n",
      " 10  LandContour    2615 non-null   object \n",
      " 11  Utilities      2615 non-null   int64  \n",
      " 12  LotConfig      2615 non-null   object \n",
      " 13  LandSlope      2615 non-null   object \n",
      " 14  Neighborhood   2615 non-null   object \n",
      " 15  Condition1     2615 non-null   object \n",
      " 16  Condition2     2615 non-null   object \n",
      " 17  BldgType       2615 non-null   object \n",
      " 18  HouseStyle     2615 non-null   object \n",
      " 19  OverallQual    2615 non-null   int64  \n",
      " 20  OverallCond    2615 non-null   int64  \n",
      " 21  YearBuilt      2615 non-null   int64  \n",
      " 22  YearRemodAdd   2615 non-null   int64  \n",
      " 23  RoofStyle      2615 non-null   object \n",
      " 24  RoofMatl       2615 non-null   object \n",
      " 25  Exterior1st    2615 non-null   object \n",
      " 26  Exterior2nd    2615 non-null   object \n",
      " 27  MasVnrType     2601 non-null   object \n",
      " 28  MasVnrArea     2601 non-null   float64\n",
      " 29  ExterQual      2615 non-null   int64  \n",
      " 30  ExterCond      2615 non-null   int64  \n",
      " 31  Foundation     2615 non-null   object \n",
      " 32  BsmtQual       2615 non-null   int64  \n",
      " 33  BsmtCond       2615 non-null   int64  \n",
      " 34  BsmtExposure   2615 non-null   object \n",
      " 35  BsmtFinType1   2615 non-null   object \n",
      " 36  BsmtFinSF1     2614 non-null   float64\n",
      " 37  BsmtFinType2   2615 non-null   object \n",
      " 38  BsmtFinSF2     2614 non-null   float64\n",
      " 39  BsmtUnfSF      2614 non-null   float64\n",
      " 40  TotalBsmtSF    2614 non-null   float64\n",
      " 41  Heating        2615 non-null   object \n",
      " 42  HeatingQC      2615 non-null   int64  \n",
      " 43  CentralAir     2615 non-null   int64  \n",
      " 44  Electrical     2614 non-null   object \n",
      " 45  1stFlrSF       2615 non-null   int64  \n",
      " 46  2ndFlrSF       2615 non-null   int64  \n",
      " 47  LowQualFinSF   2615 non-null   int64  \n",
      " 48  BsmtFullBath   2613 non-null   float64\n",
      " 49  BsmtHalfBath   2613 non-null   float64\n",
      " 50  FullBath       2615 non-null   int64  \n",
      " 51  HalfBath       2615 non-null   int64  \n",
      " 52  BedroomAbvGr   2615 non-null   int64  \n",
      " 53  KitchenAbvGr   2615 non-null   int64  \n",
      " 54  KitchenQual    2615 non-null   int64  \n",
      " 55  TotRmsAbvGrd   2615 non-null   int64  \n",
      " 56  Functional     2615 non-null   object \n",
      " 57  Fireplaces     2615 non-null   int64  \n",
      " 58  FireplaceQu    2615 non-null   int64  \n",
      " 59  GarageType     2615 non-null   object \n",
      " 60  GarageYrBlt    2615 non-null   float64\n",
      " 61  GarageFinish   2615 non-null   object \n",
      " 62  GarageCars     2614 non-null   float64\n",
      " 63  GarageArea     2614 non-null   float64\n",
      " 64  GarageQual     2615 non-null   int64  \n",
      " 65  GarageCond     2615 non-null   int64  \n",
      " 66  PavedDrive     2615 non-null   float64\n",
      " 67  WoodDeckSF     2615 non-null   int64  \n",
      " 68  OpenPorchSF    2615 non-null   int64  \n",
      " 69  EnclosedPorch  2615 non-null   int64  \n",
      " 70  3SsnPorch      2615 non-null   int64  \n",
      " 71  ScreenPorch    2615 non-null   int64  \n",
      " 72  PoolArea       2615 non-null   int64  \n",
      " 73  PoolQC         2615 non-null   int64  \n",
      " 74  Fence          2615 non-null   object \n",
      " 75  MiscFeature    2615 non-null   int64  \n",
      " 76  MiscVal        2615 non-null   int64  \n",
      " 77  MoSold         2615 non-null   int64  \n",
      " 78  YrSold         2615 non-null   int64  \n",
      " 79  SaleType       2615 non-null   object \n",
      " 80  SaleCondition  2615 non-null   object \n",
      " 81  Price_sqft     2615 non-null   float64\n",
      " 82  lat            2615 non-null   float64\n",
      " 83  lon            2615 non-null   float64\n",
      " 84  dist_stadium   2615 non-null   float64\n",
      " 85  dist_downtown  2615 non-null   float64\n",
      " 86  dist_airport   2615 non-null   float64\n",
      "dtypes: float64(18), int64(41), object(28)\n",
      "memory usage: 1.8+ MB\n"
     ]
    }
   ],
   "source": [
    "full_prices.info()"
   ]
  },
  {
   "cell_type": "markdown",
   "metadata": {},
   "source": [
    "This is essentially the flowchart for random forest that works well:\n",
    "Impute all missing values. For categoricals, the mode, for numericals, the mean/median based on distribution.\n",
    "    Split data frame into categorical columns and numerical columns.\n",
    "    from sklearn.preprocessing import LabelEncoder\n",
    "    use LabelEncoder on the categorical data\n",
    "    Use standardScaler on the numerical data\n",
    "    Concatenate the categorical and numerical data back together\n",
    "    Run the randomforest"
   ]
  },
  {
   "cell_type": "code",
   "execution_count": 225,
   "metadata": {},
   "outputs": [
    {
     "data": {
      "text/plain": [
       "Index(['MSZoning', 'Alley', 'LotShape', 'LandContour', 'LotConfig',\n",
       "       'LandSlope', 'Neighborhood', 'Condition1', 'Condition2', 'BldgType',\n",
       "       'HouseStyle', 'RoofStyle', 'RoofMatl', 'Exterior1st', 'Exterior2nd',\n",
       "       'MasVnrType', 'Foundation', 'BsmtExposure', 'BsmtFinType1',\n",
       "       'BsmtFinType2', 'Heating', 'Electrical', 'Functional', 'GarageType',\n",
       "       'GarageFinish', 'Fence', 'SaleType', 'SaleCondition'],\n",
       "      dtype='object')"
      ]
     },
     "execution_count": 225,
     "metadata": {},
     "output_type": "execute_result"
    }
   ],
   "source": [
    "categ = full_prices.select_dtypes(object).columns\n",
    "categ"
   ]
  },
  {
   "cell_type": "code",
   "execution_count": 234,
   "metadata": {},
   "outputs": [
    {
     "data": {
      "text/plain": [
       "Index(['GrLivArea', 'SalePrice', 'MSSubClass', 'LotFrontage', 'LotArea',\n",
       "       'Street', 'Utilities', 'OverallQual', 'OverallCond', 'YearBuilt',\n",
       "       'YearRemodAdd', 'MasVnrArea', 'ExterQual', 'ExterCond', 'BsmtQual',\n",
       "       'BsmtCond', 'BsmtFinSF1', 'BsmtFinSF2', 'BsmtUnfSF', 'TotalBsmtSF',\n",
       "       'HeatingQC', 'CentralAir', '1stFlrSF', '2ndFlrSF', 'LowQualFinSF',\n",
       "       'BsmtFullBath', 'BsmtHalfBath', 'FullBath', 'HalfBath', 'BedroomAbvGr',\n",
       "       'KitchenAbvGr', 'KitchenQual', 'TotRmsAbvGrd', 'Fireplaces',\n",
       "       'FireplaceQu', 'GarageYrBlt', 'GarageCars', 'GarageArea', 'GarageQual',\n",
       "       'GarageCond', 'PavedDrive', 'WoodDeckSF', 'OpenPorchSF',\n",
       "       'EnclosedPorch', '3SsnPorch', 'ScreenPorch', 'PoolArea', 'PoolQC',\n",
       "       'MiscFeature', 'MiscVal', 'MoSold', 'YrSold', 'Price_sqft', 'lat',\n",
       "       'lon', 'dist_stadium', 'dist_downtown', 'dist_airport'],\n",
       "      dtype='object')"
      ]
     },
     "execution_count": 234,
     "metadata": {},
     "output_type": "execute_result"
    }
   ],
   "source": [
    "numer = full_prices.select_dtypes(include = ['float64', 'int64']).columns\n",
    "\n",
    "numer = numer.drop(\"PID\")\n",
    "\n",
    "numer"
   ]
  },
  {
   "cell_type": "code",
   "execution_count": 163,
   "metadata": {},
   "outputs": [],
   "source": [
    "from sklearn.preprocessing import LabelEncoder"
   ]
  },
  {
   "cell_type": "code",
   "execution_count": 164,
   "metadata": {},
   "outputs": [],
   "source": [
    "labelencoder = LabelEncoder()\n"
   ]
  },
  {
   "cell_type": "code",
   "execution_count": 208,
   "metadata": {},
   "outputs": [
    {
     "data": {
      "text/html": [
       "<div>\n",
       "<style scoped>\n",
       "    .dataframe tbody tr th:only-of-type {\n",
       "        vertical-align: middle;\n",
       "    }\n",
       "\n",
       "    .dataframe tbody tr th {\n",
       "        vertical-align: top;\n",
       "    }\n",
       "\n",
       "    .dataframe thead th {\n",
       "        text-align: right;\n",
       "    }\n",
       "</style>\n",
       "<table border=\"1\" class=\"dataframe\">\n",
       "  <thead>\n",
       "    <tr style=\"text-align: right;\">\n",
       "      <th></th>\n",
       "      <th>MSZoning</th>\n",
       "      <th>Alley</th>\n",
       "      <th>LotShape</th>\n",
       "      <th>LandContour</th>\n",
       "      <th>LotConfig</th>\n",
       "      <th>LandSlope</th>\n",
       "      <th>Neighborhood</th>\n",
       "      <th>Condition1</th>\n",
       "      <th>Condition2</th>\n",
       "      <th>BldgType</th>\n",
       "      <th>...</th>\n",
       "      <th>BsmtFinType1</th>\n",
       "      <th>BsmtFinType2</th>\n",
       "      <th>Heating</th>\n",
       "      <th>Electrical</th>\n",
       "      <th>Functional</th>\n",
       "      <th>GarageType</th>\n",
       "      <th>GarageFinish</th>\n",
       "      <th>Fence</th>\n",
       "      <th>SaleType</th>\n",
       "      <th>SaleCondition</th>\n",
       "    </tr>\n",
       "  </thead>\n",
       "  <tbody>\n",
       "    <tr>\n",
       "      <th>0</th>\n",
       "      <td>5</td>\n",
       "      <td>0</td>\n",
       "      <td>3</td>\n",
       "      <td>3</td>\n",
       "      <td>0</td>\n",
       "      <td>0</td>\n",
       "      <td>18</td>\n",
       "      <td>2</td>\n",
       "      <td>2</td>\n",
       "      <td>0</td>\n",
       "      <td>...</td>\n",
       "      <td>5</td>\n",
       "      <td>6</td>\n",
       "      <td>1</td>\n",
       "      <td>3</td>\n",
       "      <td>6</td>\n",
       "      <td>6</td>\n",
       "      <td>3</td>\n",
       "      <td>0</td>\n",
       "      <td>9</td>\n",
       "      <td>4</td>\n",
       "    </tr>\n",
       "    <tr>\n",
       "      <th>1</th>\n",
       "      <td>5</td>\n",
       "      <td>0</td>\n",
       "      <td>3</td>\n",
       "      <td>3</td>\n",
       "      <td>4</td>\n",
       "      <td>0</td>\n",
       "      <td>7</td>\n",
       "      <td>2</td>\n",
       "      <td>2</td>\n",
       "      <td>4</td>\n",
       "      <td>...</td>\n",
       "      <td>3</td>\n",
       "      <td>1</td>\n",
       "      <td>1</td>\n",
       "      <td>3</td>\n",
       "      <td>6</td>\n",
       "      <td>1</td>\n",
       "      <td>1</td>\n",
       "      <td>0</td>\n",
       "      <td>9</td>\n",
       "      <td>4</td>\n",
       "    </tr>\n",
       "    <tr>\n",
       "      <th>2</th>\n",
       "      <td>5</td>\n",
       "      <td>0</td>\n",
       "      <td>3</td>\n",
       "      <td>3</td>\n",
       "      <td>4</td>\n",
       "      <td>0</td>\n",
       "      <td>7</td>\n",
       "      <td>2</td>\n",
       "      <td>2</td>\n",
       "      <td>4</td>\n",
       "      <td>...</td>\n",
       "      <td>3</td>\n",
       "      <td>1</td>\n",
       "      <td>1</td>\n",
       "      <td>3</td>\n",
       "      <td>6</td>\n",
       "      <td>1</td>\n",
       "      <td>1</td>\n",
       "      <td>0</td>\n",
       "      <td>9</td>\n",
       "      <td>4</td>\n",
       "    </tr>\n",
       "    <tr>\n",
       "      <th>3</th>\n",
       "      <td>1</td>\n",
       "      <td>0</td>\n",
       "      <td>3</td>\n",
       "      <td>3</td>\n",
       "      <td>4</td>\n",
       "      <td>0</td>\n",
       "      <td>9</td>\n",
       "      <td>2</td>\n",
       "      <td>2</td>\n",
       "      <td>0</td>\n",
       "      <td>...</td>\n",
       "      <td>1</td>\n",
       "      <td>6</td>\n",
       "      <td>1</td>\n",
       "      <td>3</td>\n",
       "      <td>6</td>\n",
       "      <td>6</td>\n",
       "      <td>3</td>\n",
       "      <td>0</td>\n",
       "      <td>9</td>\n",
       "      <td>4</td>\n",
       "    </tr>\n",
       "    <tr>\n",
       "      <th>4</th>\n",
       "      <td>5</td>\n",
       "      <td>0</td>\n",
       "      <td>3</td>\n",
       "      <td>3</td>\n",
       "      <td>0</td>\n",
       "      <td>0</td>\n",
       "      <td>17</td>\n",
       "      <td>2</td>\n",
       "      <td>2</td>\n",
       "      <td>0</td>\n",
       "      <td>...</td>\n",
       "      <td>6</td>\n",
       "      <td>6</td>\n",
       "      <td>1</td>\n",
       "      <td>3</td>\n",
       "      <td>6</td>\n",
       "      <td>6</td>\n",
       "      <td>3</td>\n",
       "      <td>0</td>\n",
       "      <td>9</td>\n",
       "      <td>4</td>\n",
       "    </tr>\n",
       "    <tr>\n",
       "      <th>...</th>\n",
       "      <td>...</td>\n",
       "      <td>...</td>\n",
       "      <td>...</td>\n",
       "      <td>...</td>\n",
       "      <td>...</td>\n",
       "      <td>...</td>\n",
       "      <td>...</td>\n",
       "      <td>...</td>\n",
       "      <td>...</td>\n",
       "      <td>...</td>\n",
       "      <td>...</td>\n",
       "      <td>...</td>\n",
       "      <td>...</td>\n",
       "      <td>...</td>\n",
       "      <td>...</td>\n",
       "      <td>...</td>\n",
       "      <td>...</td>\n",
       "      <td>...</td>\n",
       "      <td>...</td>\n",
       "      <td>...</td>\n",
       "      <td>...</td>\n",
       "    </tr>\n",
       "    <tr>\n",
       "      <th>2614</th>\n",
       "      <td>5</td>\n",
       "      <td>0</td>\n",
       "      <td>3</td>\n",
       "      <td>3</td>\n",
       "      <td>4</td>\n",
       "      <td>0</td>\n",
       "      <td>3</td>\n",
       "      <td>2</td>\n",
       "      <td>2</td>\n",
       "      <td>0</td>\n",
       "      <td>...</td>\n",
       "      <td>6</td>\n",
       "      <td>6</td>\n",
       "      <td>3</td>\n",
       "      <td>1</td>\n",
       "      <td>6</td>\n",
       "      <td>6</td>\n",
       "      <td>3</td>\n",
       "      <td>0</td>\n",
       "      <td>9</td>\n",
       "      <td>4</td>\n",
       "    </tr>\n",
       "    <tr>\n",
       "      <th>2615</th>\n",
       "      <td>5</td>\n",
       "      <td>0</td>\n",
       "      <td>0</td>\n",
       "      <td>3</td>\n",
       "      <td>1</td>\n",
       "      <td>0</td>\n",
       "      <td>7</td>\n",
       "      <td>2</td>\n",
       "      <td>2</td>\n",
       "      <td>0</td>\n",
       "      <td>...</td>\n",
       "      <td>0</td>\n",
       "      <td>0</td>\n",
       "      <td>1</td>\n",
       "      <td>0</td>\n",
       "      <td>3</td>\n",
       "      <td>1</td>\n",
       "      <td>3</td>\n",
       "      <td>0</td>\n",
       "      <td>9</td>\n",
       "      <td>4</td>\n",
       "    </tr>\n",
       "    <tr>\n",
       "      <th>2616</th>\n",
       "      <td>4</td>\n",
       "      <td>0</td>\n",
       "      <td>3</td>\n",
       "      <td>1</td>\n",
       "      <td>4</td>\n",
       "      <td>0</td>\n",
       "      <td>6</td>\n",
       "      <td>2</td>\n",
       "      <td>2</td>\n",
       "      <td>2</td>\n",
       "      <td>...</td>\n",
       "      <td>2</td>\n",
       "      <td>6</td>\n",
       "      <td>1</td>\n",
       "      <td>0</td>\n",
       "      <td>6</td>\n",
       "      <td>0</td>\n",
       "      <td>3</td>\n",
       "      <td>0</td>\n",
       "      <td>9</td>\n",
       "      <td>4</td>\n",
       "    </tr>\n",
       "    <tr>\n",
       "      <th>2617</th>\n",
       "      <td>5</td>\n",
       "      <td>0</td>\n",
       "      <td>3</td>\n",
       "      <td>3</td>\n",
       "      <td>4</td>\n",
       "      <td>0</td>\n",
       "      <td>5</td>\n",
       "      <td>2</td>\n",
       "      <td>2</td>\n",
       "      <td>0</td>\n",
       "      <td>...</td>\n",
       "      <td>3</td>\n",
       "      <td>6</td>\n",
       "      <td>1</td>\n",
       "      <td>3</td>\n",
       "      <td>6</td>\n",
       "      <td>1</td>\n",
       "      <td>1</td>\n",
       "      <td>0</td>\n",
       "      <td>9</td>\n",
       "      <td>4</td>\n",
       "    </tr>\n",
       "    <tr>\n",
       "      <th>2618</th>\n",
       "      <td>5</td>\n",
       "      <td>0</td>\n",
       "      <td>0</td>\n",
       "      <td>3</td>\n",
       "      <td>4</td>\n",
       "      <td>0</td>\n",
       "      <td>20</td>\n",
       "      <td>2</td>\n",
       "      <td>2</td>\n",
       "      <td>0</td>\n",
       "      <td>...</td>\n",
       "      <td>3</td>\n",
       "      <td>6</td>\n",
       "      <td>1</td>\n",
       "      <td>3</td>\n",
       "      <td>6</td>\n",
       "      <td>1</td>\n",
       "      <td>2</td>\n",
       "      <td>0</td>\n",
       "      <td>9</td>\n",
       "      <td>4</td>\n",
       "    </tr>\n",
       "  </tbody>\n",
       "</table>\n",
       "<p>2619 rows × 28 columns</p>\n",
       "</div>"
      ],
      "text/plain": [
       "      MSZoning  Alley  LotShape  LandContour  LotConfig  LandSlope  \\\n",
       "0            5      0         3            3          0          0   \n",
       "1            5      0         3            3          4          0   \n",
       "2            5      0         3            3          4          0   \n",
       "3            1      0         3            3          4          0   \n",
       "4            5      0         3            3          0          0   \n",
       "...        ...    ...       ...          ...        ...        ...   \n",
       "2614         5      0         3            3          4          0   \n",
       "2615         5      0         0            3          1          0   \n",
       "2616         4      0         3            1          4          0   \n",
       "2617         5      0         3            3          4          0   \n",
       "2618         5      0         0            3          4          0   \n",
       "\n",
       "      Neighborhood  Condition1  Condition2  BldgType  ...  BsmtFinType1  \\\n",
       "0               18           2           2         0  ...             5   \n",
       "1                7           2           2         4  ...             3   \n",
       "2                7           2           2         4  ...             3   \n",
       "3                9           2           2         0  ...             1   \n",
       "4               17           2           2         0  ...             6   \n",
       "...            ...         ...         ...       ...  ...           ...   \n",
       "2614             3           2           2         0  ...             6   \n",
       "2615             7           2           2         0  ...             0   \n",
       "2616             6           2           2         2  ...             2   \n",
       "2617             5           2           2         0  ...             3   \n",
       "2618            20           2           2         0  ...             3   \n",
       "\n",
       "      BsmtFinType2  Heating  Electrical  Functional  GarageType  GarageFinish  \\\n",
       "0                6        1           3           6           6             3   \n",
       "1                1        1           3           6           1             1   \n",
       "2                1        1           3           6           1             1   \n",
       "3                6        1           3           6           6             3   \n",
       "4                6        1           3           6           6             3   \n",
       "...            ...      ...         ...         ...         ...           ...   \n",
       "2614             6        3           1           6           6             3   \n",
       "2615             0        1           0           3           1             3   \n",
       "2616             6        1           0           6           0             3   \n",
       "2617             6        1           3           6           1             1   \n",
       "2618             6        1           3           6           1             2   \n",
       "\n",
       "      Fence  SaleType  SaleCondition  \n",
       "0         0         9              4  \n",
       "1         0         9              4  \n",
       "2         0         9              4  \n",
       "3         0         9              4  \n",
       "4         0         9              4  \n",
       "...     ...       ...            ...  \n",
       "2614      0         9              4  \n",
       "2615      0         9              4  \n",
       "2616      0         9              4  \n",
       "2617      0         9              4  \n",
       "2618      0         9              4  \n",
       "\n",
       "[2619 rows x 28 columns]"
      ]
     },
     "execution_count": 208,
     "metadata": {},
     "output_type": "execute_result"
    }
   ],
   "source": [
    "categ_df = pd.DataFrame()\n",
    "\n",
    "for col in categ:\n",
    "    full_prices[col] = full_prices[col].astype(str)\n",
    "    categ_df[col]= labelencoder.fit_transform(full_prices[col])\n",
    "    \n",
    "categ_df"
   ]
  },
  {
   "cell_type": "code",
   "execution_count": 176,
   "metadata": {},
   "outputs": [
    {
     "data": {
      "text/html": [
       "<div>\n",
       "<style scoped>\n",
       "    .dataframe tbody tr th:only-of-type {\n",
       "        vertical-align: middle;\n",
       "    }\n",
       "\n",
       "    .dataframe tbody tr th {\n",
       "        vertical-align: top;\n",
       "    }\n",
       "\n",
       "    .dataframe thead th {\n",
       "        text-align: right;\n",
       "    }\n",
       "</style>\n",
       "<table border=\"1\" class=\"dataframe\">\n",
       "  <thead>\n",
       "    <tr style=\"text-align: right;\">\n",
       "      <th></th>\n",
       "      <th>MSZoning</th>\n",
       "      <th>LotShape</th>\n",
       "      <th>LandContour</th>\n",
       "      <th>LotConfig</th>\n",
       "      <th>LandSlope</th>\n",
       "      <th>Neighborhood</th>\n",
       "      <th>Condition1</th>\n",
       "      <th>Condition2</th>\n",
       "      <th>BldgType</th>\n",
       "      <th>HouseStyle</th>\n",
       "      <th>...</th>\n",
       "      <th>BsmtExposure</th>\n",
       "      <th>BsmtFinType1</th>\n",
       "      <th>BsmtFinType2</th>\n",
       "      <th>Heating</th>\n",
       "      <th>Electrical</th>\n",
       "      <th>Functional</th>\n",
       "      <th>GarageType</th>\n",
       "      <th>GarageFinish</th>\n",
       "      <th>SaleType</th>\n",
       "      <th>SaleCondition</th>\n",
       "    </tr>\n",
       "  </thead>\n",
       "  <tbody>\n",
       "    <tr>\n",
       "      <th>0</th>\n",
       "      <td>RL</td>\n",
       "      <td>Reg</td>\n",
       "      <td>Lvl</td>\n",
       "      <td>Corner</td>\n",
       "      <td>Gtl</td>\n",
       "      <td>SWISU</td>\n",
       "      <td>Norm</td>\n",
       "      <td>Norm</td>\n",
       "      <td>1Fam</td>\n",
       "      <td>1Story</td>\n",
       "      <td>...</td>\n",
       "      <td>No</td>\n",
       "      <td>Rec</td>\n",
       "      <td>Unf</td>\n",
       "      <td>GasA</td>\n",
       "      <td>SBrkr</td>\n",
       "      <td>Typ</td>\n",
       "      <td>Detchd</td>\n",
       "      <td>Unf</td>\n",
       "      <td>WD</td>\n",
       "      <td>Normal</td>\n",
       "    </tr>\n",
       "    <tr>\n",
       "      <th>1</th>\n",
       "      <td>RL</td>\n",
       "      <td>Reg</td>\n",
       "      <td>Lvl</td>\n",
       "      <td>Inside</td>\n",
       "      <td>Gtl</td>\n",
       "      <td>Edwards</td>\n",
       "      <td>Norm</td>\n",
       "      <td>Norm</td>\n",
       "      <td>TwnhsE</td>\n",
       "      <td>1Story</td>\n",
       "      <td>...</td>\n",
       "      <td>Mn</td>\n",
       "      <td>GLQ</td>\n",
       "      <td>ALQ</td>\n",
       "      <td>GasA</td>\n",
       "      <td>SBrkr</td>\n",
       "      <td>Typ</td>\n",
       "      <td>Attchd</td>\n",
       "      <td>Fin</td>\n",
       "      <td>WD</td>\n",
       "      <td>Normal</td>\n",
       "    </tr>\n",
       "    <tr>\n",
       "      <th>2</th>\n",
       "      <td>RL</td>\n",
       "      <td>Reg</td>\n",
       "      <td>Lvl</td>\n",
       "      <td>Inside</td>\n",
       "      <td>Gtl</td>\n",
       "      <td>Edwards</td>\n",
       "      <td>Norm</td>\n",
       "      <td>Norm</td>\n",
       "      <td>TwnhsE</td>\n",
       "      <td>1Story</td>\n",
       "      <td>...</td>\n",
       "      <td>Mn</td>\n",
       "      <td>GLQ</td>\n",
       "      <td>ALQ</td>\n",
       "      <td>GasA</td>\n",
       "      <td>SBrkr</td>\n",
       "      <td>Typ</td>\n",
       "      <td>Attchd</td>\n",
       "      <td>Fin</td>\n",
       "      <td>WD</td>\n",
       "      <td>Normal</td>\n",
       "    </tr>\n",
       "    <tr>\n",
       "      <th>3</th>\n",
       "      <td>C (all)</td>\n",
       "      <td>Reg</td>\n",
       "      <td>Lvl</td>\n",
       "      <td>Inside</td>\n",
       "      <td>Gtl</td>\n",
       "      <td>IDOTRR</td>\n",
       "      <td>Norm</td>\n",
       "      <td>Norm</td>\n",
       "      <td>1Fam</td>\n",
       "      <td>1Story</td>\n",
       "      <td>...</td>\n",
       "      <td>No</td>\n",
       "      <td>ALQ</td>\n",
       "      <td>Unf</td>\n",
       "      <td>GasA</td>\n",
       "      <td>SBrkr</td>\n",
       "      <td>Typ</td>\n",
       "      <td>Detchd</td>\n",
       "      <td>Unf</td>\n",
       "      <td>WD</td>\n",
       "      <td>Normal</td>\n",
       "    </tr>\n",
       "    <tr>\n",
       "      <th>4</th>\n",
       "      <td>RL</td>\n",
       "      <td>Reg</td>\n",
       "      <td>Lvl</td>\n",
       "      <td>Corner</td>\n",
       "      <td>Gtl</td>\n",
       "      <td>OldTown</td>\n",
       "      <td>Norm</td>\n",
       "      <td>Norm</td>\n",
       "      <td>1Fam</td>\n",
       "      <td>2Story</td>\n",
       "      <td>...</td>\n",
       "      <td>No</td>\n",
       "      <td>Unf</td>\n",
       "      <td>Unf</td>\n",
       "      <td>GasA</td>\n",
       "      <td>SBrkr</td>\n",
       "      <td>Typ</td>\n",
       "      <td>Detchd</td>\n",
       "      <td>Unf</td>\n",
       "      <td>WD</td>\n",
       "      <td>Normal</td>\n",
       "    </tr>\n",
       "    <tr>\n",
       "      <th>...</th>\n",
       "      <td>...</td>\n",
       "      <td>...</td>\n",
       "      <td>...</td>\n",
       "      <td>...</td>\n",
       "      <td>...</td>\n",
       "      <td>...</td>\n",
       "      <td>...</td>\n",
       "      <td>...</td>\n",
       "      <td>...</td>\n",
       "      <td>...</td>\n",
       "      <td>...</td>\n",
       "      <td>...</td>\n",
       "      <td>...</td>\n",
       "      <td>...</td>\n",
       "      <td>...</td>\n",
       "      <td>...</td>\n",
       "      <td>...</td>\n",
       "      <td>...</td>\n",
       "      <td>...</td>\n",
       "      <td>...</td>\n",
       "      <td>...</td>\n",
       "    </tr>\n",
       "    <tr>\n",
       "      <th>2614</th>\n",
       "      <td>RL</td>\n",
       "      <td>Reg</td>\n",
       "      <td>Lvl</td>\n",
       "      <td>Inside</td>\n",
       "      <td>Gtl</td>\n",
       "      <td>BrkSide</td>\n",
       "      <td>Norm</td>\n",
       "      <td>Norm</td>\n",
       "      <td>1Fam</td>\n",
       "      <td>1.5Unf</td>\n",
       "      <td>...</td>\n",
       "      <td>No</td>\n",
       "      <td>Unf</td>\n",
       "      <td>Unf</td>\n",
       "      <td>Grav</td>\n",
       "      <td>FuseF</td>\n",
       "      <td>Typ</td>\n",
       "      <td>Detchd</td>\n",
       "      <td>Unf</td>\n",
       "      <td>WD</td>\n",
       "      <td>Normal</td>\n",
       "    </tr>\n",
       "    <tr>\n",
       "      <th>2615</th>\n",
       "      <td>RL</td>\n",
       "      <td>IR1</td>\n",
       "      <td>Lvl</td>\n",
       "      <td>CulDSac</td>\n",
       "      <td>Gtl</td>\n",
       "      <td>Edwards</td>\n",
       "      <td>Norm</td>\n",
       "      <td>Norm</td>\n",
       "      <td>1Fam</td>\n",
       "      <td>1Story</td>\n",
       "      <td>...</td>\n",
       "      <td>1</td>\n",
       "      <td>1</td>\n",
       "      <td>1</td>\n",
       "      <td>GasA</td>\n",
       "      <td>FuseA</td>\n",
       "      <td>Min2</td>\n",
       "      <td>Attchd</td>\n",
       "      <td>Unf</td>\n",
       "      <td>WD</td>\n",
       "      <td>Normal</td>\n",
       "    </tr>\n",
       "    <tr>\n",
       "      <th>2616</th>\n",
       "      <td>RH</td>\n",
       "      <td>Reg</td>\n",
       "      <td>HLS</td>\n",
       "      <td>Inside</td>\n",
       "      <td>Gtl</td>\n",
       "      <td>Crawfor</td>\n",
       "      <td>Norm</td>\n",
       "      <td>Norm</td>\n",
       "      <td>Duplex</td>\n",
       "      <td>2Story</td>\n",
       "      <td>...</td>\n",
       "      <td>No</td>\n",
       "      <td>BLQ</td>\n",
       "      <td>Unf</td>\n",
       "      <td>GasA</td>\n",
       "      <td>FuseA</td>\n",
       "      <td>Typ</td>\n",
       "      <td>2Types</td>\n",
       "      <td>Unf</td>\n",
       "      <td>WD</td>\n",
       "      <td>Normal</td>\n",
       "    </tr>\n",
       "    <tr>\n",
       "      <th>2617</th>\n",
       "      <td>RL</td>\n",
       "      <td>Reg</td>\n",
       "      <td>Lvl</td>\n",
       "      <td>Inside</td>\n",
       "      <td>Gtl</td>\n",
       "      <td>CollgCr</td>\n",
       "      <td>Norm</td>\n",
       "      <td>Norm</td>\n",
       "      <td>1Fam</td>\n",
       "      <td>2Story</td>\n",
       "      <td>...</td>\n",
       "      <td>No</td>\n",
       "      <td>GLQ</td>\n",
       "      <td>Unf</td>\n",
       "      <td>GasA</td>\n",
       "      <td>SBrkr</td>\n",
       "      <td>Typ</td>\n",
       "      <td>Attchd</td>\n",
       "      <td>Fin</td>\n",
       "      <td>WD</td>\n",
       "      <td>Normal</td>\n",
       "    </tr>\n",
       "    <tr>\n",
       "      <th>2618</th>\n",
       "      <td>RL</td>\n",
       "      <td>IR1</td>\n",
       "      <td>Lvl</td>\n",
       "      <td>Inside</td>\n",
       "      <td>Gtl</td>\n",
       "      <td>SawyerW</td>\n",
       "      <td>Norm</td>\n",
       "      <td>Norm</td>\n",
       "      <td>1Fam</td>\n",
       "      <td>2Story</td>\n",
       "      <td>...</td>\n",
       "      <td>No</td>\n",
       "      <td>GLQ</td>\n",
       "      <td>Unf</td>\n",
       "      <td>GasA</td>\n",
       "      <td>SBrkr</td>\n",
       "      <td>Typ</td>\n",
       "      <td>Attchd</td>\n",
       "      <td>RFn</td>\n",
       "      <td>WD</td>\n",
       "      <td>Normal</td>\n",
       "    </tr>\n",
       "  </tbody>\n",
       "</table>\n",
       "<p>2619 rows × 26 columns</p>\n",
       "</div>"
      ],
      "text/plain": [
       "     MSZoning LotShape LandContour LotConfig LandSlope Neighborhood  \\\n",
       "0          RL      Reg         Lvl    Corner       Gtl        SWISU   \n",
       "1          RL      Reg         Lvl    Inside       Gtl      Edwards   \n",
       "2          RL      Reg         Lvl    Inside       Gtl      Edwards   \n",
       "3     C (all)      Reg         Lvl    Inside       Gtl       IDOTRR   \n",
       "4          RL      Reg         Lvl    Corner       Gtl      OldTown   \n",
       "...       ...      ...         ...       ...       ...          ...   \n",
       "2614       RL      Reg         Lvl    Inside       Gtl      BrkSide   \n",
       "2615       RL      IR1         Lvl   CulDSac       Gtl      Edwards   \n",
       "2616       RH      Reg         HLS    Inside       Gtl      Crawfor   \n",
       "2617       RL      Reg         Lvl    Inside       Gtl      CollgCr   \n",
       "2618       RL      IR1         Lvl    Inside       Gtl      SawyerW   \n",
       "\n",
       "     Condition1 Condition2 BldgType HouseStyle  ... BsmtExposure BsmtFinType1  \\\n",
       "0          Norm       Norm     1Fam     1Story  ...           No          Rec   \n",
       "1          Norm       Norm   TwnhsE     1Story  ...           Mn          GLQ   \n",
       "2          Norm       Norm   TwnhsE     1Story  ...           Mn          GLQ   \n",
       "3          Norm       Norm     1Fam     1Story  ...           No          ALQ   \n",
       "4          Norm       Norm     1Fam     2Story  ...           No          Unf   \n",
       "...         ...        ...      ...        ...  ...          ...          ...   \n",
       "2614       Norm       Norm     1Fam     1.5Unf  ...           No          Unf   \n",
       "2615       Norm       Norm     1Fam     1Story  ...            1            1   \n",
       "2616       Norm       Norm   Duplex     2Story  ...           No          BLQ   \n",
       "2617       Norm       Norm     1Fam     2Story  ...           No          GLQ   \n",
       "2618       Norm       Norm     1Fam     2Story  ...           No          GLQ   \n",
       "\n",
       "     BsmtFinType2 Heating Electrical Functional GarageType GarageFinish  \\\n",
       "0             Unf    GasA      SBrkr        Typ     Detchd          Unf   \n",
       "1             ALQ    GasA      SBrkr        Typ     Attchd          Fin   \n",
       "2             ALQ    GasA      SBrkr        Typ     Attchd          Fin   \n",
       "3             Unf    GasA      SBrkr        Typ     Detchd          Unf   \n",
       "4             Unf    GasA      SBrkr        Typ     Detchd          Unf   \n",
       "...           ...     ...        ...        ...        ...          ...   \n",
       "2614          Unf    Grav      FuseF        Typ     Detchd          Unf   \n",
       "2615            1    GasA      FuseA       Min2     Attchd          Unf   \n",
       "2616          Unf    GasA      FuseA        Typ     2Types          Unf   \n",
       "2617          Unf    GasA      SBrkr        Typ     Attchd          Fin   \n",
       "2618          Unf    GasA      SBrkr        Typ     Attchd          RFn   \n",
       "\n",
       "     SaleType SaleCondition  \n",
       "0         WD         Normal  \n",
       "1         WD         Normal  \n",
       "2         WD         Normal  \n",
       "3         WD         Normal  \n",
       "4         WD         Normal  \n",
       "...       ...           ...  \n",
       "2614      WD         Normal  \n",
       "2615      WD         Normal  \n",
       "2616      WD         Normal  \n",
       "2617      WD         Normal  \n",
       "2618      WD         Normal  \n",
       "\n",
       "[2619 rows x 26 columns]"
      ]
     },
     "execution_count": 176,
     "metadata": {},
     "output_type": "execute_result"
    }
   ],
   "source": [
    "full_prices[['MSZoning', 'LotShape', 'LandContour', 'LotConfig', 'LandSlope',\n",
    "       'Neighborhood', 'Condition1', 'Condition2', 'BldgType', 'HouseStyle',\n",
    "       'RoofStyle', 'RoofMatl', 'Exterior1st', 'Exterior2nd', 'MasVnrType',\n",
    "       'Foundation', 'BsmtExposure', 'BsmtFinType1', 'BsmtFinType2', 'Heating',\n",
    "       'Electrical', 'Functional', 'GarageType', 'GarageFinish', 'SaleType',\n",
    "       'SaleCondition']]"
   ]
  },
  {
   "cell_type": "code",
   "execution_count": 221,
   "metadata": {},
   "outputs": [],
   "source": [
    "from sklearn.preprocessing import StandardScaler\n",
    "sc = StandardScaler()\n",
    "\n"
   ]
  },
  {
   "cell_type": "code",
   "execution_count": 239,
   "metadata": {},
   "outputs": [
    {
     "data": {
      "text/plain": [
       "array([[-1.28541684, -0.6838038 , -0.64274879, ..., -1.77807034,\n",
       "        -0.18905608, -1.06086902],\n",
       "       [-0.89066169, -0.5055984 ,  1.45504014, ..., -0.77841987,\n",
       "         0.35182919, -0.29297948],\n",
       "       [-0.89066169, -0.5055984 ,  1.45504014, ..., -0.77841987,\n",
       "         0.35182919, -0.29297948],\n",
       "       ...,\n",
       "       [ 1.05856971, -0.4329962 ,  0.75577717, ..., -2.24357736,\n",
       "        -0.58363722, -1.25717255],\n",
       "       [ 0.73131155,  0.52403281,  0.05651419, ...,  0.91305632,\n",
       "         1.66848809,  0.62779554],\n",
       "       [ 0.87244163,  0.49103181,  0.05651419, ...,  0.68802644,\n",
       "         1.28722133,  0.76607833]])"
      ]
     },
     "execution_count": 239,
     "metadata": {},
     "output_type": "execute_result"
    }
   ],
   "source": [
    "numer_df = pd.DataFrame(full_prices[numer])\n",
    "\n",
    "X = sc.fit_transform(numer_df)\n",
    "    \n",
    "X\n"
   ]
  },
  {
   "cell_type": "code",
   "execution_count": 240,
   "metadata": {},
   "outputs": [],
   "source": [
    "X_columns = numer_df.columns"
   ]
  },
  {
   "cell_type": "code",
   "execution_count": 241,
   "metadata": {},
   "outputs": [
    {
     "data": {
      "text/html": [
       "<div>\n",
       "<style scoped>\n",
       "    .dataframe tbody tr th:only-of-type {\n",
       "        vertical-align: middle;\n",
       "    }\n",
       "\n",
       "    .dataframe tbody tr th {\n",
       "        vertical-align: top;\n",
       "    }\n",
       "\n",
       "    .dataframe thead th {\n",
       "        text-align: right;\n",
       "    }\n",
       "</style>\n",
       "<table border=\"1\" class=\"dataframe\">\n",
       "  <thead>\n",
       "    <tr style=\"text-align: right;\">\n",
       "      <th></th>\n",
       "      <th>GrLivArea</th>\n",
       "      <th>SalePrice</th>\n",
       "      <th>MSSubClass</th>\n",
       "      <th>LotFrontage</th>\n",
       "      <th>LotArea</th>\n",
       "      <th>Street</th>\n",
       "      <th>Utilities</th>\n",
       "      <th>OverallQual</th>\n",
       "      <th>OverallCond</th>\n",
       "      <th>YearBuilt</th>\n",
       "      <th>...</th>\n",
       "      <th>MiscFeature</th>\n",
       "      <th>MiscVal</th>\n",
       "      <th>MoSold</th>\n",
       "      <th>YrSold</th>\n",
       "      <th>Price_sqft</th>\n",
       "      <th>lat</th>\n",
       "      <th>lon</th>\n",
       "      <th>dist_stadium</th>\n",
       "      <th>dist_downtown</th>\n",
       "      <th>dist_airport</th>\n",
       "    </tr>\n",
       "  </thead>\n",
       "  <tbody>\n",
       "    <tr>\n",
       "      <th>0</th>\n",
       "      <td>-1.285417</td>\n",
       "      <td>-0.683804</td>\n",
       "      <td>-0.642749</td>\n",
       "      <td>NaN</td>\n",
       "      <td>-0.275659</td>\n",
       "      <td>-0.064945</td>\n",
       "      <td>0.027645</td>\n",
       "      <td>-0.022541</td>\n",
       "      <td>0.339019</td>\n",
       "      <td>-1.049758</td>\n",
       "      <td>...</td>\n",
       "      <td>-0.197164</td>\n",
       "      <td>-0.097293</td>\n",
       "      <td>-1.174285</td>\n",
       "      <td>1.645386</td>\n",
       "      <td>0.866597</td>\n",
       "      <td>-0.863707</td>\n",
       "      <td>-0.351531</td>\n",
       "      <td>-1.778070</td>\n",
       "      <td>-0.189056</td>\n",
       "      <td>-1.060869</td>\n",
       "    </tr>\n",
       "    <tr>\n",
       "      <th>1</th>\n",
       "      <td>-0.890662</td>\n",
       "      <td>-0.505598</td>\n",
       "      <td>1.455040</td>\n",
       "      <td>-1.160859</td>\n",
       "      <td>-0.728126</td>\n",
       "      <td>-0.064945</td>\n",
       "      <td>0.027645</td>\n",
       "      <td>-0.751365</td>\n",
       "      <td>-0.553334</td>\n",
       "      <td>0.464423</td>\n",
       "      <td>...</td>\n",
       "      <td>-0.197164</td>\n",
       "      <td>-0.097293</td>\n",
       "      <td>-1.548746</td>\n",
       "      <td>0.884300</td>\n",
       "      <td>0.400970</td>\n",
       "      <td>-0.517039</td>\n",
       "      <td>-0.816048</td>\n",
       "      <td>-0.778420</td>\n",
       "      <td>0.351829</td>\n",
       "      <td>-0.292979</td>\n",
       "    </tr>\n",
       "    <tr>\n",
       "      <th>2</th>\n",
       "      <td>-0.890662</td>\n",
       "      <td>-0.505598</td>\n",
       "      <td>1.455040</td>\n",
       "      <td>-1.160859</td>\n",
       "      <td>-0.728126</td>\n",
       "      <td>-0.064945</td>\n",
       "      <td>0.027645</td>\n",
       "      <td>-0.751365</td>\n",
       "      <td>-0.553334</td>\n",
       "      <td>0.464423</td>\n",
       "      <td>...</td>\n",
       "      <td>-0.197164</td>\n",
       "      <td>-0.097293</td>\n",
       "      <td>-1.548746</td>\n",
       "      <td>0.884300</td>\n",
       "      <td>0.400970</td>\n",
       "      <td>-0.517039</td>\n",
       "      <td>-0.816048</td>\n",
       "      <td>-0.778420</td>\n",
       "      <td>0.351829</td>\n",
       "      <td>-0.292979</td>\n",
       "    </tr>\n",
       "    <tr>\n",
       "      <th>3</th>\n",
       "      <td>-0.988839</td>\n",
       "      <td>-0.698324</td>\n",
       "      <td>-0.642749</td>\n",
       "      <td>-0.371902</td>\n",
       "      <td>-0.502202</td>\n",
       "      <td>-0.064945</td>\n",
       "      <td>0.027645</td>\n",
       "      <td>-0.751365</td>\n",
       "      <td>3.016080</td>\n",
       "      <td>-1.352594</td>\n",
       "      <td>...</td>\n",
       "      <td>-0.197164</td>\n",
       "      <td>-0.097293</td>\n",
       "      <td>1.821407</td>\n",
       "      <td>-0.637870</td>\n",
       "      <td>0.132043</td>\n",
       "      <td>-0.699317</td>\n",
       "      <td>1.095813</td>\n",
       "      <td>-1.310738</td>\n",
       "      <td>-1.855725</td>\n",
       "      <td>-1.476689</td>\n",
       "    </tr>\n",
       "    <tr>\n",
       "      <th>4</th>\n",
       "      <td>-0.911115</td>\n",
       "      <td>-0.842209</td>\n",
       "      <td>0.289602</td>\n",
       "      <td>0.504716</td>\n",
       "      <td>-0.243968</td>\n",
       "      <td>-0.064945</td>\n",
       "      <td>0.027645</td>\n",
       "      <td>-1.480188</td>\n",
       "      <td>2.123726</td>\n",
       "      <td>-2.362048</td>\n",
       "      <td>...</td>\n",
       "      <td>-0.197164</td>\n",
       "      <td>-0.097293</td>\n",
       "      <td>-0.425362</td>\n",
       "      <td>0.884300</td>\n",
       "      <td>-0.361165</td>\n",
       "      <td>0.173789</td>\n",
       "      <td>1.167548</td>\n",
       "      <td>-0.309195</td>\n",
       "      <td>-1.278820</td>\n",
       "      <td>-0.368158</td>\n",
       "    </tr>\n",
       "    <tr>\n",
       "      <th>...</th>\n",
       "      <td>...</td>\n",
       "      <td>...</td>\n",
       "      <td>...</td>\n",
       "      <td>...</td>\n",
       "      <td>...</td>\n",
       "      <td>...</td>\n",
       "      <td>...</td>\n",
       "      <td>...</td>\n",
       "      <td>...</td>\n",
       "      <td>...</td>\n",
       "      <td>...</td>\n",
       "      <td>...</td>\n",
       "      <td>...</td>\n",
       "      <td>...</td>\n",
       "      <td>...</td>\n",
       "      <td>...</td>\n",
       "      <td>...</td>\n",
       "      <td>...</td>\n",
       "      <td>...</td>\n",
       "      <td>...</td>\n",
       "      <td>...</td>\n",
       "    </tr>\n",
       "    <tr>\n",
       "      <th>2614</th>\n",
       "      <td>-1.089062</td>\n",
       "      <td>-0.749806</td>\n",
       "      <td>-0.642749</td>\n",
       "      <td>NaN</td>\n",
       "      <td>-0.156322</td>\n",
       "      <td>-0.064945</td>\n",
       "      <td>0.027645</td>\n",
       "      <td>-0.022541</td>\n",
       "      <td>0.339019</td>\n",
       "      <td>-1.823673</td>\n",
       "      <td>...</td>\n",
       "      <td>-0.197164</td>\n",
       "      <td>-0.097293</td>\n",
       "      <td>-0.425362</td>\n",
       "      <td>0.884300</td>\n",
       "      <td>0.208234</td>\n",
       "      <td>-0.117709</td>\n",
       "      <td>0.621547</td>\n",
       "      <td>-1.276577</td>\n",
       "      <td>-1.321654</td>\n",
       "      <td>-0.783029</td>\n",
       "    </tr>\n",
       "    <tr>\n",
       "      <th>2615</th>\n",
       "      <td>0.508367</td>\n",
       "      <td>-0.504278</td>\n",
       "      <td>-0.875836</td>\n",
       "      <td>NaN</td>\n",
       "      <td>0.441108</td>\n",
       "      <td>-0.064945</td>\n",
       "      <td>0.027645</td>\n",
       "      <td>-2.209012</td>\n",
       "      <td>-0.553334</td>\n",
       "      <td>-0.511382</td>\n",
       "      <td>...</td>\n",
       "      <td>-0.197164</td>\n",
       "      <td>-0.097293</td>\n",
       "      <td>-0.050900</td>\n",
       "      <td>0.884300</td>\n",
       "      <td>-1.316728</td>\n",
       "      <td>-0.361970</td>\n",
       "      <td>-0.911140</td>\n",
       "      <td>-0.506701</td>\n",
       "      <td>0.478044</td>\n",
       "      <td>-0.065691</td>\n",
       "    </tr>\n",
       "    <tr>\n",
       "      <th>2616</th>\n",
       "      <td>1.058570</td>\n",
       "      <td>-0.432996</td>\n",
       "      <td>0.755777</td>\n",
       "      <td>0.592378</td>\n",
       "      <td>-0.476205</td>\n",
       "      <td>-0.064945</td>\n",
       "      <td>0.027645</td>\n",
       "      <td>-0.751365</td>\n",
       "      <td>0.339019</td>\n",
       "      <td>-0.713273</td>\n",
       "      <td>...</td>\n",
       "      <td>-0.197164</td>\n",
       "      <td>-0.097293</td>\n",
       "      <td>0.698022</td>\n",
       "      <td>-0.637870</td>\n",
       "      <td>-1.582963</td>\n",
       "      <td>-0.777492</td>\n",
       "      <td>-0.051387</td>\n",
       "      <td>-2.243577</td>\n",
       "      <td>-0.583637</td>\n",
       "      <td>-1.257173</td>\n",
       "    </tr>\n",
       "    <tr>\n",
       "      <th>2617</th>\n",
       "      <td>0.731312</td>\n",
       "      <td>0.524033</td>\n",
       "      <td>0.056514</td>\n",
       "      <td>NaN</td>\n",
       "      <td>-0.159788</td>\n",
       "      <td>-0.064945</td>\n",
       "      <td>0.027645</td>\n",
       "      <td>0.706283</td>\n",
       "      <td>-0.553334</td>\n",
       "      <td>1.002799</td>\n",
       "      <td>...</td>\n",
       "      <td>-0.197164</td>\n",
       "      <td>-0.097293</td>\n",
       "      <td>0.323561</td>\n",
       "      <td>-0.637870</td>\n",
       "      <td>-0.087365</td>\n",
       "      <td>-0.960830</td>\n",
       "      <td>-1.821158</td>\n",
       "      <td>0.913056</td>\n",
       "      <td>1.668488</td>\n",
       "      <td>0.627796</td>\n",
       "    </tr>\n",
       "    <tr>\n",
       "      <th>2618</th>\n",
       "      <td>0.872442</td>\n",
       "      <td>0.491032</td>\n",
       "      <td>0.056514</td>\n",
       "      <td>0.504716</td>\n",
       "      <td>-0.069666</td>\n",
       "      <td>-0.064945</td>\n",
       "      <td>0.027645</td>\n",
       "      <td>1.435106</td>\n",
       "      <td>-0.553334</td>\n",
       "      <td>0.767260</td>\n",
       "      <td>...</td>\n",
       "      <td>-0.197164</td>\n",
       "      <td>-0.097293</td>\n",
       "      <td>1.072484</td>\n",
       "      <td>-1.398956</td>\n",
       "      <td>-0.269902</td>\n",
       "      <td>-0.146499</td>\n",
       "      <td>-1.531448</td>\n",
       "      <td>0.688026</td>\n",
       "      <td>1.287221</td>\n",
       "      <td>0.766078</td>\n",
       "    </tr>\n",
       "  </tbody>\n",
       "</table>\n",
       "<p>2619 rows × 58 columns</p>\n",
       "</div>"
      ],
      "text/plain": [
       "      GrLivArea  SalePrice  MSSubClass  LotFrontage   LotArea    Street  \\\n",
       "0     -1.285417  -0.683804   -0.642749          NaN -0.275659 -0.064945   \n",
       "1     -0.890662  -0.505598    1.455040    -1.160859 -0.728126 -0.064945   \n",
       "2     -0.890662  -0.505598    1.455040    -1.160859 -0.728126 -0.064945   \n",
       "3     -0.988839  -0.698324   -0.642749    -0.371902 -0.502202 -0.064945   \n",
       "4     -0.911115  -0.842209    0.289602     0.504716 -0.243968 -0.064945   \n",
       "...         ...        ...         ...          ...       ...       ...   \n",
       "2614  -1.089062  -0.749806   -0.642749          NaN -0.156322 -0.064945   \n",
       "2615   0.508367  -0.504278   -0.875836          NaN  0.441108 -0.064945   \n",
       "2616   1.058570  -0.432996    0.755777     0.592378 -0.476205 -0.064945   \n",
       "2617   0.731312   0.524033    0.056514          NaN -0.159788 -0.064945   \n",
       "2618   0.872442   0.491032    0.056514     0.504716 -0.069666 -0.064945   \n",
       "\n",
       "      Utilities  OverallQual  OverallCond  YearBuilt  ...  MiscFeature  \\\n",
       "0      0.027645    -0.022541     0.339019  -1.049758  ...    -0.197164   \n",
       "1      0.027645    -0.751365    -0.553334   0.464423  ...    -0.197164   \n",
       "2      0.027645    -0.751365    -0.553334   0.464423  ...    -0.197164   \n",
       "3      0.027645    -0.751365     3.016080  -1.352594  ...    -0.197164   \n",
       "4      0.027645    -1.480188     2.123726  -2.362048  ...    -0.197164   \n",
       "...         ...          ...          ...        ...  ...          ...   \n",
       "2614   0.027645    -0.022541     0.339019  -1.823673  ...    -0.197164   \n",
       "2615   0.027645    -2.209012    -0.553334  -0.511382  ...    -0.197164   \n",
       "2616   0.027645    -0.751365     0.339019  -0.713273  ...    -0.197164   \n",
       "2617   0.027645     0.706283    -0.553334   1.002799  ...    -0.197164   \n",
       "2618   0.027645     1.435106    -0.553334   0.767260  ...    -0.197164   \n",
       "\n",
       "       MiscVal    MoSold    YrSold  Price_sqft       lat       lon  \\\n",
       "0    -0.097293 -1.174285  1.645386    0.866597 -0.863707 -0.351531   \n",
       "1    -0.097293 -1.548746  0.884300    0.400970 -0.517039 -0.816048   \n",
       "2    -0.097293 -1.548746  0.884300    0.400970 -0.517039 -0.816048   \n",
       "3    -0.097293  1.821407 -0.637870    0.132043 -0.699317  1.095813   \n",
       "4    -0.097293 -0.425362  0.884300   -0.361165  0.173789  1.167548   \n",
       "...        ...       ...       ...         ...       ...       ...   \n",
       "2614 -0.097293 -0.425362  0.884300    0.208234 -0.117709  0.621547   \n",
       "2615 -0.097293 -0.050900  0.884300   -1.316728 -0.361970 -0.911140   \n",
       "2616 -0.097293  0.698022 -0.637870   -1.582963 -0.777492 -0.051387   \n",
       "2617 -0.097293  0.323561 -0.637870   -0.087365 -0.960830 -1.821158   \n",
       "2618 -0.097293  1.072484 -1.398956   -0.269902 -0.146499 -1.531448   \n",
       "\n",
       "      dist_stadium  dist_downtown  dist_airport  \n",
       "0        -1.778070      -0.189056     -1.060869  \n",
       "1        -0.778420       0.351829     -0.292979  \n",
       "2        -0.778420       0.351829     -0.292979  \n",
       "3        -1.310738      -1.855725     -1.476689  \n",
       "4        -0.309195      -1.278820     -0.368158  \n",
       "...            ...            ...           ...  \n",
       "2614     -1.276577      -1.321654     -0.783029  \n",
       "2615     -0.506701       0.478044     -0.065691  \n",
       "2616     -2.243577      -0.583637     -1.257173  \n",
       "2617      0.913056       1.668488      0.627796  \n",
       "2618      0.688026       1.287221      0.766078  \n",
       "\n",
       "[2619 rows x 58 columns]"
      ]
     },
     "execution_count": 241,
     "metadata": {},
     "output_type": "execute_result"
    }
   ],
   "source": [
    "scaled_numer_df = pd.DataFrame(X, columns=X_columns)\n",
    "scaled_numer_df "
   ]
  },
  {
   "cell_type": "code",
   "execution_count": null,
   "metadata": {},
   "outputs": [],
   "source": []
  },
  {
   "cell_type": "code",
   "execution_count": null,
   "metadata": {},
   "outputs": [],
   "source": []
  }
 ],
 "metadata": {
  "kernelspec": {
   "display_name": "Python 3",
   "language": "python",
   "name": "python3"
  },
  "language_info": {
   "codemirror_mode": {
    "name": "ipython",
    "version": 3
   },
   "file_extension": ".py",
   "mimetype": "text/x-python",
   "name": "python",
   "nbconvert_exporter": "python",
   "pygments_lexer": "ipython3",
   "version": "3.8.5"
  }
 },
 "nbformat": 4,
 "nbformat_minor": 5
}
